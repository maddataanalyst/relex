{
 "cells": [
  {
   "cell_type": "markdown",
   "id": "4f340565-6f53-4075-b7bb-f53f4e45c7cb",
   "metadata": {},
   "source": [
    "# Intro"
   ]
  },
  {
   "cell_type": "markdown",
   "id": "ae09bf37-fd06-4604-b569-a2db64e7e027",
   "metadata": {},
   "source": [
    "# Libraries"
   ]
  },
  {
   "cell_type": "code",
   "execution_count": 1,
   "id": "2e8b8f20-430f-4ae5-be7e-8a973d82fbbb",
   "metadata": {},
   "outputs": [
    {
     "name": "stderr",
     "output_type": "stream",
     "text": [
      "C:\\Users\\fwojcik\\Anaconda3\\envs\\py39\\lib\\site-packages\\outdated\\utils.py:14: OutdatedPackageWarning: The package pingouin is out of date. Your version is 0.5.0, the latest is 0.5.1.\n",
      "Set the environment variable OUTDATED_IGNORE=1 to disable these warnings.\n",
      "  return warn(\n"
     ]
    }
   ],
   "source": [
    "import gc\n",
    "import logging\n",
    "import os\n",
    "import shutil\n",
    "\n",
    "import matplotlib.pyplot as plt\n",
    "import mlflow as mlf\n",
    "import pandas as pd\n",
    "import pingouin as pg\n",
    "import scipy.stats as st\n",
    "import seaborn as sns\n",
    "import tensorflow as tf\n",
    "import tensorflow.keras as krs\n",
    "import tensorflow_probability as tfp\n",
    "\n",
    "import src.algorithms.advantages as adv\n",
    "import src.algorithms.algo_utils as autil\n",
    "import src.algorithms.dummy as dummy\n",
    "import src.algorithms.policy_gradient.tf2.ac as ac\n",
    "import src.algorithms.policy_gradient.tf2.ppo as ppo\n",
    "import src.algorithms.policy_gradient.tf2.vpg as vpg\n",
    "import src.models.base_models.tf2.policy_nets as policy_nets\n",
    "import src.models.base_models.tf2.value_nets as vnets\n",
    "import src.utils as util\n",
    "from src.envs.resource_allocation_env import DiscreteProjectsEnv, DiscreteProjectOptimizerAgent"
   ]
  },
  {
   "cell_type": "code",
   "execution_count": 2,
   "id": "dc0ea6fe-5c9b-4514-845e-94f588df3170",
   "metadata": {},
   "outputs": [],
   "source": [
    "from importlib import reload"
   ]
  },
  {
   "cell_type": "code",
   "execution_count": 3,
   "id": "3ce7de33-c87c-4fd0-ad74-2494dccc78a7",
   "metadata": {},
   "outputs": [],
   "source": [
    "dummy = reload(dummy)"
   ]
  },
  {
   "cell_type": "code",
   "execution_count": 2,
   "outputs": [],
   "source": [
    "log = logging.getLogger()\n",
    "log.setLevel(logging.INFO)\n",
    "std_handler = logging.StreamHandler(sys.stdout)\n",
    "log.addHandler(std_handler)"
   ],
   "metadata": {
    "collapsed": false,
    "pycharm": {
     "name": "#%%\n"
    }
   }
  },
  {
   "cell_type": "code",
   "execution_count": 3,
   "outputs": [
    {
     "name": "stderr",
     "output_type": "stream",
     "text": [
      "2022/03/25 09:17:30 INFO mlflow.tracking.fluent: Autologging successfully enabled for statsmodels.\n",
      "2022/03/25 09:17:30 WARNING mlflow.utils.autologging_utils: You are using an unsupported version of tensorflow. If you encounter errors during autologging, try upgrading / downgrading tensorflow to a supported version, or try upgrading MLflow.\n",
      "2022/03/25 09:17:30 INFO mlflow.tracking.fluent: Autologging successfully enabled for tensorflow.\n",
      "2022/03/25 09:17:30 WARNING mlflow.utils.autologging_utils: You are using an unsupported version of tensorflow. If you encounter errors during autologging, try upgrading / downgrading tensorflow to a supported version, or try upgrading MLflow.\n",
      "2022/03/25 09:17:30 WARNING mlflow.utils.autologging_utils: You are using an unsupported version of keras. If you encounter errors during autologging, try upgrading / downgrading keras to a supported version, or try upgrading MLflow.\n",
      "C:\\Users\\fwojcik\\Anaconda3\\envs\\py39\\lib\\site-packages\\mlflow\\utils\\autologging_utils\\__init__.py:410: FutureWarning: Autologging support for keras >= 2.6.0 has been deprecated and will be removed in a future MLflow release. Use `mlflow.tensorflow.autolog()` instead.\n",
      "  return _autolog(*args, **kwargs)\n"
     ]
    }
   ],
   "source": [
    "mlf.autolog()\n",
    "mlf.tensorflow.autolog()\n",
    "mlf.keras.autolog()"
   ],
   "metadata": {
    "collapsed": false,
    "pycharm": {
     "name": "#%%\n"
    }
   }
  },
  {
   "cell_type": "markdown",
   "id": "cf25aa71-1404-4125-9963-01b5fa48ab06",
   "metadata": {},
   "source": [
    "# Easy env"
   ]
  },
  {
   "cell_type": "code",
   "execution_count": 4,
   "id": "cc81e93e-dc34-4ffd-ad92-a33931b2df02",
   "metadata": {},
   "outputs": [],
   "source": [
    "ENV_SIZE = 300"
   ]
  },
  {
   "cell_type": "code",
   "execution_count": 9,
   "id": "7a183734-e67e-4f8e-9eef-7c54a7077596",
   "metadata": {},
   "outputs": [],
   "source": [
    "env_easy = DiscreteProjectsEnv(\n",
    "    start_resource=100,\n",
    "    start_cash=100,\n",
    "    upkeep_cost=-1,\n",
    "    min_payout=-0.5,\n",
    "    max_payout=1.5,\n",
    "    payout_mean=1.0,\n",
    "    payout_std=0.5,\n",
    "    size=ENV_SIZE,\n",
    "    distrib_prob=tfp.distributions.TruncatedNormal(0.7, 0.2, 0.0, 1.0),\n",
    "    balance_is_reward=False,\n",
    "    stochastic=True)\n",
    "\n",
    "s_dim = env_easy.observation_space.shape[0]\n",
    "a_dim = env_easy.action_space.n"
   ]
  },
  {
   "cell_type": "code",
   "execution_count": 10,
   "id": "db720fa3-d859-4156-944c-47d8132fda65",
   "metadata": {},
   "outputs": [
    {
     "data": {
      "text/plain": "<AxesSubplot:>"
     },
     "execution_count": 10,
     "metadata": {},
     "output_type": "execute_result"
    },
    {
     "data": {
      "text/plain": "<Figure size 432x288 with 1 Axes>",
      "image/png": "[encoded data removed]"
     },
     "metadata": {
      "needs_background": "light"
     },
     "output_type": "display_data"
    }
   ],
   "source": [
    "env_easy.projects.proj_1_payouts.hist()"
   ]
  },
  {
   "cell_type": "code",
   "execution_count": 11,
   "id": "4fae6e6a-fd46-4a88-a696-bff0f4d8e054",
   "metadata": {},
   "outputs": [
    {
     "data": {
      "text/plain": "<AxesSubplot:>"
     },
     "execution_count": 11,
     "metadata": {},
     "output_type": "execute_result"
    },
    {
     "data": {
      "text/plain": "<Figure size 432x288 with 1 Axes>",
      "image/png": "[encoded data removed]"
     },
     "metadata": {
      "needs_background": "light"
     },
     "output_type": "display_data"
    }
   ],
   "source": [
    "env_easy.projects.proj_2_payouts.hist()"
   ]
  },
  {
   "cell_type": "markdown",
   "id": "6274d998-44be-404c-b71c-22525802a993",
   "metadata": {},
   "source": [
    "## Agents"
   ]
  },
  {
   "cell_type": "markdown",
   "source": [
    "#### PPO"
   ],
   "metadata": {
    "collapsed": false,
    "pycharm": {
     "name": "#%% md\n"
    }
   }
  },
  {
   "cell_type": "code",
   "execution_count": null,
   "outputs": [],
   "source": [
    "krs.backend.clear_session()\n",
    "print(gc.collect())"
   ],
   "metadata": {
    "collapsed": false,
    "pycharm": {
     "name": "#%%\n"
    }
   }
  },
  {
   "cell_type": "code",
   "execution_count": 32,
   "id": "63ae4590-5087-442f-a1dd-a8e87d228d61",
   "metadata": {},
   "outputs": [],
   "source": [
    "s_dim = env_easy.observation_space.shape[0]\n",
    "a_dim = env_easy.action_space.n\n",
    "\n",
    "initializer = krs.initializers.HeNormal()\n",
    "policy_net_ppo = policy_nets.DiscretePolicyNet(a_dim, [128, 128, 128], 'tanh', hidden_initializer=initializer, out_initializer=initializer)\n",
    "value_net_ppo = vnets.ValueNet(s_dim, [64, 64], h_act='tanh', out_act='linear', initializer=initializer)\n",
    "\n",
    "policy_opt = krs.optimizers.Adam(0.0003)\n",
    "value_opt = krs.optimizers.Adam(0.0003)\n",
    "\n",
    "agent_ppo = ppo.PPO(\n",
    "    policy_net_ppo,\n",
    "    value_net_ppo,\n",
    "    policy_opt,\n",
    "    value_opt,\n",
    "    adv.GAE,\n",
    "    n_agents=3,\n",
    "    clipping_eps=0.1,\n",
    "    entropy_coef=0.001)"
   ]
  },
  {
   "cell_type": "markdown",
   "source": [
    "#### AC"
   ],
   "metadata": {
    "collapsed": false,
    "pycharm": {
     "name": "#%% md\n"
    }
   }
  },
  {
   "cell_type": "code",
   "execution_count": 13,
   "outputs": [],
   "source": [
    "policy_net_ac = policy_nets.DiscretePolicyNet(a_dim, [128, 128], 'tanh', hidden_initializer=initializer, out_initializer=initializer)\n",
    "value_net_ac = vnets.ValueNet(s_dim, [64, 64], h_act='tanh', out_act='linear', initializer=initializer)\n",
    "\n",
    "agent_ac = ac.ActorCrtic(\n",
    "    policy_net_ac,\n",
    "    value_net_ac,\n",
    "    krs.optimizers.Adam(0.0005), #, clipnorm=1.),\n",
    "    krs.optimizers.Adam(0.0003), #, clipnorm=1.),\n",
    "    adv.GAE,\n",
    "    entropy_coef=0.001)"
   ],
   "metadata": {
    "collapsed": false,
    "pycharm": {
     "name": "#%%\n"
    }
   }
  },
  {
   "cell_type": "markdown",
   "source": [
    "#### VPG"
   ],
   "metadata": {
    "collapsed": false,
    "pycharm": {
     "name": "#%% md\n"
    }
   }
  },
  {
   "cell_type": "code",
   "execution_count": 14,
   "outputs": [],
   "source": [
    "policy_net_vpg = policy_nets.DiscretePolicyNet(a_dim, [128, 128], 'tanh', hidden_initializer=initializer, out_initializer=initializer)\n",
    "value_net_vpg = vnets.ValueNet(s_dim, [64, 64], h_act='tanh', out_act='linear', initializer=initializer)\n",
    "\n",
    "agent_vpg = vpg.VPG(\n",
    "    policy_net_vpg,\n",
    "    value_net_vpg,\n",
    "    adv.GAE,\n",
    "    policy_opt=krs.optimizers.Adam(0.0005), #, clipnorm=1.),\n",
    "    value_opt=krs.optimizers.Adam(0.0003), #, clipnorm=1.),\n",
    "    entropy_coef=0.001)"
   ],
   "metadata": {
    "collapsed": false,
    "pycharm": {
     "name": "#%%\n"
    }
   }
  },
  {
   "cell_type": "code",
   "execution_count": 15,
   "id": "8c8e4f90-76dc-4260-b803-693ed1577290",
   "metadata": {},
   "outputs": [],
   "source": [
    "dummy_agent = DiscreteProjectOptimizerAgent(env_easy)"
   ]
  },
  {
   "cell_type": "code",
   "execution_count": 16,
   "id": "d919748f-9011-4136-aed4-45b39221a84b",
   "metadata": {},
   "outputs": [],
   "source": [
    "random_agent = dummy.DummyAgent(env_easy)"
   ]
  },
  {
   "cell_type": "markdown",
   "id": "59fbaab3-bbe3-46d0-ae43-a062d67dd63a",
   "metadata": {},
   "source": [
    "## Evaluate before training"
   ]
  },
  {
   "cell_type": "code",
   "execution_count": 17,
   "id": "52bda543-c582-4ff0-ba59-41d02bdb9afe",
   "metadata": {},
   "outputs": [
    {
     "data": {
      "text/plain": "  0%|          | 0/500 [00:00<?, ?it/s]",
      "application/vnd.jupyter.widget-view+json": {
       "version_major": 2,
       "version_minor": 0,
       "model_id": "0466ddb469cf45bca769d21a7604653a"
      }
     },
     "metadata": {},
     "output_type": "display_data"
    }
   ],
   "source": [
    "ppo_scores_before = autil.evaluate_algorithm(agent_ppo, env_easy, n_episodes=500, max_ep_steps=ENV_SIZE, clip_action=False)"
   ]
  },
  {
   "cell_type": "code",
   "execution_count": 18,
   "outputs": [
    {
     "data": {
      "text/plain": "  0%|          | 0/500 [00:00<?, ?it/s]",
      "application/vnd.jupyter.widget-view+json": {
       "version_major": 2,
       "version_minor": 0,
       "model_id": "d8c2d2548a314ef8b037ea52783510ff"
      }
     },
     "metadata": {},
     "output_type": "display_data"
    }
   ],
   "source": [
    "ac_scores_before = autil.evaluate_algorithm(agent_ac, env_easy, n_episodes=500, max_ep_steps=ENV_SIZE, clip_action=False)"
   ],
   "metadata": {
    "collapsed": false,
    "pycharm": {
     "name": "#%%\n"
    }
   }
  },
  {
   "cell_type": "code",
   "execution_count": 19,
   "outputs": [
    {
     "data": {
      "text/plain": "  0%|          | 0/500 [00:00<?, ?it/s]",
      "application/vnd.jupyter.widget-view+json": {
       "version_major": 2,
       "version_minor": 0,
       "model_id": "f6a6d9308e8e41628186f55a68630d3a"
      }
     },
     "metadata": {},
     "output_type": "display_data"
    }
   ],
   "source": [
    "vpg_scores_before = autil.evaluate_algorithm(agent_vpg, env_easy, n_episodes=500, max_ep_steps=ENV_SIZE, clip_action=False)"
   ],
   "metadata": {
    "collapsed": false,
    "pycharm": {
     "name": "#%%\n"
    }
   }
  },
  {
   "cell_type": "code",
   "execution_count": 20,
   "id": "d150a416-a1da-4b1c-bbe0-f2d61df41d6d",
   "metadata": {},
   "outputs": [
    {
     "data": {
      "text/plain": "  0%|          | 0/500 [00:00<?, ?it/s]",
      "application/vnd.jupyter.widget-view+json": {
       "version_major": 2,
       "version_minor": 0,
       "model_id": "9b2e9c787de44699843fa7ca725787f8"
      }
     },
     "metadata": {},
     "output_type": "display_data"
    }
   ],
   "source": [
    "dummy_scores = autil.evaluate_algorithm(dummy_agent, env_easy, n_episodes=500, max_ep_steps=ENV_SIZE, clip_action=False)"
   ]
  },
  {
   "cell_type": "code",
   "execution_count": 21,
   "id": "816340ef-524f-47a8-8dae-4273916f9fdd",
   "metadata": {},
   "outputs": [
    {
     "data": {
      "text/plain": "  0%|          | 0/500 [00:00<?, ?it/s]",
      "application/vnd.jupyter.widget-view+json": {
       "version_major": 2,
       "version_minor": 0,
       "model_id": "ff62afedd2ca45e6a155d2e18037ff4a"
      }
     },
     "metadata": {},
     "output_type": "display_data"
    }
   ],
   "source": [
    "random_scores = autil.evaluate_algorithm(random_agent, env_easy, n_episodes=500, max_ep_steps=ENV_SIZE, clip_action=False)"
   ]
  },
  {
   "cell_type": "code",
   "execution_count": 22,
   "id": "37717f6d-76c8-41b2-8bdb-125f17f89e6f",
   "metadata": {},
   "outputs": [
    {
     "data": {
      "text/plain": "<matplotlib.legend.Legend at 0x23f26c56070>"
     },
     "execution_count": 22,
     "metadata": {},
     "output_type": "execute_result"
    },
    {
     "data": {
      "text/plain": "<Figure size 432x288 with 1 Axes>",
      "image/png": "[encoded data removed]"
     },
     "metadata": {
      "needs_background": "light"
     },
     "output_type": "display_data"
    }
   ],
   "source": [
    "sns.histplot(ppo_scores_before, color='blue', label='PPO before')\n",
    "sns.histplot(ac_scores_before, color='purple', label='AC before')\n",
    "sns.histplot(vpg_scores_before, color='pink', label='VPG before')\n",
    "sns.histplot(dummy_scores, color='yellow', label='Baseline')\n",
    "sns.histplot(random_scores, color='green', label='Random')\n",
    "plt.legend()"
   ]
  },
  {
   "cell_type": "markdown",
   "id": "24bdc7d8-fec9-4505-b38c-f1eca009851f",
   "metadata": {},
   "source": [
    "## Train agent"
   ]
  },
  {
   "cell_type": "code",
   "execution_count": 23,
   "outputs": [],
   "source": [
    "EXPERIMENT_EASY = 'projects_env_easy'"
   ],
   "metadata": {
    "collapsed": false,
    "pycharm": {
     "name": "#%%\n"
    }
   }
  },
  {
   "cell_type": "code",
   "execution_count": 24,
   "outputs": [],
   "source": [
    "experiment_id_easy = util.prepare_mlflow(EXPERIMENT_EASY)"
   ],
   "metadata": {
    "collapsed": false,
    "pycharm": {
     "name": "#%%\n"
    }
   }
  },
  {
   "cell_type": "markdown",
   "source": [
    "#### Train PPO"
   ],
   "metadata": {
    "collapsed": false,
    "pycharm": {
     "name": "#%% md\n"
    }
   }
  },
  {
   "cell_type": "code",
   "execution_count": 33,
   "id": "4eca5846-5a0a-4189-a80b-1f1ba9aa73f2",
   "metadata": {
    "tags": []
   },
   "outputs": [
    {
     "name": "stdout",
     "output_type": "stream",
     "text": [
      "Ep: 0/200  Rewards avg.: -333.333  Loss avg.: nan  Time passed: 0.000/30.000\n",
      "Ep: 10/200  Rewards avg.: -224.353  Loss avg.: 0.799  Time passed: 0.084/30.000\n",
      "Ep: 20/200  Rewards avg.: -68.304  Loss avg.: 0.813  Time passed: 0.280/30.000\n",
      "Ep: 30/200  Rewards avg.: 446.267  Loss avg.: 0.930  Time passed: 1.118/30.000\n",
      "Ep: 40/200  Rewards avg.: 1443.155  Loss avg.: 1.006  Time passed: 2.163/30.000\n",
      "Ep: 50/200  Rewards avg.: 2431.326  Loss avg.: 1.113  Time passed: 3.252/30.000\n",
      "Ep: 60/200  Rewards avg.: 3179.064  Loss avg.: 1.122  Time passed: 4.272/30.000\n",
      "Ep: 70/200  Rewards avg.: 3625.451  Loss avg.: 1.242  Time passed: 5.280/30.000\n",
      "Ep: 80/200  Rewards avg.: 4066.674  Loss avg.: 1.732  Time passed: 6.292/30.000\n",
      "Ep: 90/200  Rewards avg.: 4286.258  Loss avg.: 1.186  Time passed: 7.297/30.000\n",
      "Ep: 100/200  Rewards avg.: 4498.987  Loss avg.: 2.271  Time passed: 8.248/30.000\n",
      "Ep: 110/200  Rewards avg.: 4615.232  Loss avg.: 2.601  Time passed: 9.199/30.000\n",
      "Ep: 120/200  Rewards avg.: 4912.110  Loss avg.: 1.630  Time passed: 10.132/30.000\n",
      "Ep: 130/200  Rewards avg.: 4986.413  Loss avg.: 2.044  Time passed: 11.076/30.000\n",
      "Ep: 140/200  Rewards avg.: 5115.428  Loss avg.: 1.598  Time passed: 12.008/30.000\n",
      "Ep: 150/200  Rewards avg.: 5163.140  Loss avg.: 2.439  Time passed: 12.946/30.000\n",
      "Ep: 160/200  Rewards avg.: 5244.976  Loss avg.: 2.715  Time passed: 13.885/30.000\n",
      "Ep: 170/200  Rewards avg.: 4853.783  Loss avg.: 5.534  Time passed: 14.815/30.000\n",
      "Ep: 180/200  Rewards avg.: 4768.160  Loss avg.: 2.708  Time passed: 15.760/30.000\n",
      "Ep: 190/200  Rewards avg.: 4720.974  Loss avg.: 4.573  Time passed: 16.664/30.000\n"
     ]
    }
   ],
   "source": [
    "env_easy.reset()\n",
    "with mlf.start_run(experiment_id=experiment_id_easy, run_name='PPO easy'):\n",
    "    ppo_scores_after = agent_ppo.train(env_easy, 600, max_steps=ENV_SIZE, average_n_last=30, print_interval=10, epochs=5, batch_size=64, log=log, gamma=0.99, clip_action=False, max_train_sec=30 * 60)"
   ]
  },
  {
   "cell_type": "markdown",
   "source": [
    "#### Train AC"
   ],
   "metadata": {
    "collapsed": false,
    "pycharm": {
     "name": "#%% md\n"
    }
   }
  },
  {
   "cell_type": "code",
   "execution_count": 26,
   "outputs": [
    {
     "name": "stdout",
     "output_type": "stream",
     "text": [
      "Ep: 0/500  Rewards avg.: -94.075  Loss avg.: 0.869  Time passed: 0.003/15.000\n",
      "Ep: 10/500  Rewards avg.: -137.703  Loss avg.: 0.571  Time passed: 0.009/15.000\n",
      "Ep: 20/500  Rewards avg.: -150.810  Loss avg.: 0.553  Time passed: 0.013/15.000\n",
      "Ep: 30/500  Rewards avg.: -159.494  Loss avg.: 0.437  Time passed: 0.017/15.000\n",
      "Ep: 40/500  Rewards avg.: -180.872  Loss avg.: 0.250  Time passed: 0.022/15.000\n",
      "Ep: 50/500  Rewards avg.: -159.130  Loss avg.: 0.180  Time passed: 0.027/15.000\n",
      "Ep: 60/500  Rewards avg.: -135.400  Loss avg.: 0.101  Time passed: 0.032/15.000\n",
      "Ep: 70/500  Rewards avg.: -100.000  Loss avg.: 0.108  Time passed: 0.037/15.000\n",
      "Ep: 80/500  Rewards avg.: -100.067  Loss avg.: 0.068  Time passed: 0.041/15.000\n",
      "Ep: 90/500  Rewards avg.: -113.467  Loss avg.: 0.099  Time passed: 0.045/15.000\n",
      "Ep: 100/500  Rewards avg.: -113.774  Loss avg.: 0.188  Time passed: 0.052/15.000\n",
      "Ep: 110/500  Rewards avg.: -147.632  Loss avg.: 0.141  Time passed: 0.058/15.000\n",
      "Ep: 120/500  Rewards avg.: 145.414  Loss avg.: 0.789  Time passed: 0.186/15.000\n",
      "Ep: 130/500  Rewards avg.: 1742.037  Loss avg.: 0.968  Time passed: 0.619/15.000\n",
      "Ep: 140/500  Rewards avg.: 3355.058  Loss avg.: 0.989  Time passed: 0.993/15.000\n",
      "Ep: 150/500  Rewards avg.: 4665.846  Loss avg.: 1.000  Time passed: 1.318/15.000\n",
      "Ep: 160/500  Rewards avg.: 4641.987  Loss avg.: 1.004  Time passed: 1.685/15.000\n",
      "Ep: 170/500  Rewards avg.: 4611.579  Loss avg.: 0.956  Time passed: 2.001/15.000\n",
      "Ep: 180/500  Rewards avg.: 4667.241  Loss avg.: 1.000  Time passed: 2.313/15.000\n",
      "Ep: 190/500  Rewards avg.: 4632.457  Loss avg.: 1.000  Time passed: 2.652/15.000\n",
      "Ep: 200/500  Rewards avg.: 4668.627  Loss avg.: 1.009  Time passed: 2.985/15.000\n",
      "Ep: 210/500  Rewards avg.: 4702.407  Loss avg.: 1.000  Time passed: 3.318/15.000\n",
      "Ep: 220/500  Rewards avg.: 4790.966  Loss avg.: 1.000  Time passed: 3.653/15.000\n",
      "Ep: 230/500  Rewards avg.: 4857.034  Loss avg.: 0.978  Time passed: 4.128/15.000\n",
      "Ep: 240/500  Rewards avg.: 4800.327  Loss avg.: 1.000  Time passed: 4.485/15.000\n",
      "Ep: 250/500  Rewards avg.: 4740.318  Loss avg.: 1.000  Time passed: 4.878/15.000\n",
      "Ep: 260/500  Rewards avg.: 4616.745  Loss avg.: 1.000  Time passed: 5.222/15.000\n",
      "Ep: 270/500  Rewards avg.: 4641.601  Loss avg.: 1.000  Time passed: 5.552/15.000\n",
      "Ep: 280/500  Rewards avg.: 4646.896  Loss avg.: 1.000  Time passed: 5.904/15.000\n",
      "Ep: 290/500  Rewards avg.: 4716.395  Loss avg.: 0.986  Time passed: 6.250/15.000\n",
      "Ep: 300/500  Rewards avg.: 4678.256  Loss avg.: 1.000  Time passed: 6.661/15.000\n",
      "Ep: 310/500  Rewards avg.: 4659.690  Loss avg.: 0.991  Time passed: 7.092/15.000\n",
      "Ep: 320/500  Rewards avg.: 4649.205  Loss avg.: 1.000  Time passed: 7.470/15.000\n",
      "Ep: 330/500  Rewards avg.: 4640.699  Loss avg.: 1.000  Time passed: 7.806/15.000\n",
      "Ep: 340/500  Rewards avg.: 4701.371  Loss avg.: 1.000  Time passed: 8.138/15.000\n",
      "Ep: 350/500  Rewards avg.: 4686.055  Loss avg.: 1.000  Time passed: 8.494/15.000\n",
      "Ep: 360/500  Rewards avg.: 4702.612  Loss avg.: 1.000  Time passed: 8.848/15.000\n",
      "Ep: 370/500  Rewards avg.: 4612.514  Loss avg.: 1.000  Time passed: 9.190/15.000\n",
      "Ep: 380/500  Rewards avg.: 4555.079  Loss avg.: 1.000  Time passed: 9.565/15.000\n",
      "Ep: 390/500  Rewards avg.: 4519.138  Loss avg.: 1.000  Time passed: 9.937/15.000\n",
      "Ep: 400/500  Rewards avg.: 4645.957  Loss avg.: 1.000  Time passed: 10.337/15.000\n",
      "Ep: 410/500  Rewards avg.: 4788.531  Loss avg.: 1.000  Time passed: 10.963/15.000\n",
      "Ep: 420/500  Rewards avg.: 4852.274  Loss avg.: 1.000  Time passed: 11.349/15.000\n",
      "Ep: 430/500  Rewards avg.: 4759.373  Loss avg.: 1.000  Time passed: 11.849/15.000\n",
      "Ep: 440/500  Rewards avg.: 4646.364  Loss avg.: 1.000  Time passed: 12.223/15.000\n",
      "Ep: 450/500  Rewards avg.: 4574.551  Loss avg.: 1.000  Time passed: 12.639/15.000\n",
      "Ep: 460/500  Rewards avg.: 4643.428  Loss avg.: 1.000  Time passed: 13.071/15.000\n",
      "Ep: 470/500  Rewards avg.: 4649.925  Loss avg.: 1.000  Time passed: 13.498/15.000\n",
      "Ep: 480/500  Rewards avg.: 4689.294  Loss avg.: 1.000  Time passed: 13.927/15.000\n",
      "Ep: 490/500  Rewards avg.: 4645.605  Loss avg.: 1.000  Time passed: 14.358/15.000\n"
     ]
    }
   ],
   "source": [
    "env_easy.reset()\n",
    "with mlf.start_run(experiment_id=experiment_id_easy, run_name='AC easy'):\n",
    "    ac_scores_after = agent_ac.train(\n",
    "        env_easy,\n",
    "        500,\n",
    "        max_steps=ENV_SIZE,\n",
    "        average_n_last=30,\n",
    "        print_interval=10,\n",
    "        log=log,\n",
    "        gamma=0.99,\n",
    "        clip_action=False,\n",
    "        max_train_sec=15*60,\n",
    "        n_steps=25)"
   ],
   "metadata": {
    "collapsed": false,
    "pycharm": {
     "name": "#%%\n"
    }
   }
  },
  {
   "cell_type": "markdown",
   "source": [
    "#### Train VPG"
   ],
   "metadata": {
    "collapsed": false,
    "pycharm": {
     "name": "#%% md\n"
    }
   }
  },
  {
   "cell_type": "code",
   "execution_count": 27,
   "outputs": [
    {
     "name": "stdout",
     "output_type": "stream",
     "text": [
      "Ep: 0/500  Rewards avg.: nan  Loss avg.: 0.067  Time passed: 0.001/15.000\n"
     ]
    },
    {
     "name": "stderr",
     "output_type": "stream",
     "text": [
      "C:\\Users\\fwojcik\\Anaconda3\\envs\\py39\\lib\\site-packages\\numpy\\core\\fromnumeric.py:3474: RuntimeWarning: Mean of empty slice.\n",
      "  return _methods._mean(a, axis=axis, dtype=dtype,\n",
      "C:\\Users\\fwojcik\\Anaconda3\\envs\\py39\\lib\\site-packages\\numpy\\core\\_methods.py:189: RuntimeWarning: invalid value encountered in double_scalars\n",
      "  ret = ret.dtype.type(ret / rcount)\n"
     ]
    },
    {
     "name": "stdout",
     "output_type": "stream",
     "text": [
      "Ep: 10/500  Rewards avg.: -221.354  Loss avg.: 0.456  Time passed: 0.009/15.000\n",
      "Ep: 20/500  Rewards avg.: -17.992  Loss avg.: 0.534  Time passed: 0.090/15.000\n",
      "Ep: 30/500  Rewards avg.: 1073.358  Loss avg.: 0.645  Time passed: 0.423/15.000\n",
      "Ep: 40/500  Rewards avg.: 2277.771  Loss avg.: 0.775  Time passed: 0.667/15.000\n",
      "Ep: 50/500  Rewards avg.: 3721.396  Loss avg.: 0.895  Time passed: 0.978/15.000\n",
      "Ep: 60/500  Rewards avg.: 4112.932  Loss avg.: 0.947  Time passed: 1.272/15.000\n",
      "Ep: 70/500  Rewards avg.: 4611.590  Loss avg.: 0.981  Time passed: 1.584/15.000\n",
      "Ep: 80/500  Rewards avg.: 4694.877  Loss avg.: 0.984  Time passed: 1.895/15.000\n",
      "Ep: 90/500  Rewards avg.: 4716.531  Loss avg.: 0.982  Time passed: 2.193/15.000\n",
      "Ep: 100/500  Rewards avg.: 4717.881  Loss avg.: 0.983  Time passed: 2.496/15.000\n",
      "Ep: 110/500  Rewards avg.: 4747.806  Loss avg.: 0.988  Time passed: 2.798/15.000\n",
      "Ep: 120/500  Rewards avg.: 4787.446  Loss avg.: 0.997  Time passed: 3.101/15.000\n",
      "Ep: 130/500  Rewards avg.: 4718.783  Loss avg.: 0.996  Time passed: 3.417/15.000\n",
      "Ep: 140/500  Rewards avg.: 4683.330  Loss avg.: 0.991  Time passed: 3.741/15.000\n",
      "Ep: 150/500  Rewards avg.: 4751.177  Loss avg.: 0.987  Time passed: 4.045/15.000\n",
      "Ep: 160/500  Rewards avg.: 4778.968  Loss avg.: 0.992  Time passed: 4.386/15.000\n",
      "Ep: 170/500  Rewards avg.: 4766.572  Loss avg.: 0.991  Time passed: 4.696/15.000\n",
      "Ep: 180/500  Rewards avg.: 4705.884  Loss avg.: 0.990  Time passed: 4.988/15.000\n",
      "Ep: 190/500  Rewards avg.: 4588.089  Loss avg.: 0.985  Time passed: 5.257/15.000\n",
      "Ep: 200/500  Rewards avg.: 4553.111  Loss avg.: 0.985  Time passed: 5.550/15.000\n",
      "Ep: 210/500  Rewards avg.: 4643.478  Loss avg.: 0.986  Time passed: 5.852/15.000\n",
      "Ep: 220/500  Rewards avg.: 4714.103  Loss avg.: 0.989  Time passed: 6.162/15.000\n",
      "Ep: 230/500  Rewards avg.: 4745.811  Loss avg.: 0.994  Time passed: 6.469/15.000\n",
      "Ep: 240/500  Rewards avg.: 4608.762  Loss avg.: 0.994  Time passed: 6.828/15.000\n",
      "Ep: 250/500  Rewards avg.: 4639.202  Loss avg.: 0.997  Time passed: 7.190/15.000\n",
      "Ep: 260/500  Rewards avg.: 4612.480  Loss avg.: 0.997  Time passed: 7.494/15.000\n",
      "Ep: 270/500  Rewards avg.: 4691.655  Loss avg.: 0.998  Time passed: 7.816/15.000\n",
      "Ep: 280/500  Rewards avg.: 4665.583  Loss avg.: 0.996  Time passed: 8.133/15.000\n",
      "Ep: 290/500  Rewards avg.: 4754.156  Loss avg.: 0.994  Time passed: 8.457/15.000\n",
      "Ep: 300/500  Rewards avg.: 4692.841  Loss avg.: 0.995  Time passed: 8.758/15.000\n",
      "Ep: 310/500  Rewards avg.: 4826.096  Loss avg.: 1.000  Time passed: 9.073/15.000\n",
      "Ep: 320/500  Rewards avg.: 4819.071  Loss avg.: 1.002  Time passed: 9.375/15.000\n",
      "Ep: 330/500  Rewards avg.: 4908.791  Loss avg.: 1.002  Time passed: 9.683/15.000\n",
      "Ep: 340/500  Rewards avg.: 4788.516  Loss avg.: 1.000  Time passed: 9.982/15.000\n",
      "Ep: 350/500  Rewards avg.: 4784.818  Loss avg.: 0.998  Time passed: 10.307/15.000\n",
      "Ep: 360/500  Rewards avg.: 4763.269  Loss avg.: 0.998  Time passed: 10.621/15.000\n",
      "Ep: 370/500  Rewards avg.: 4829.364  Loss avg.: 0.998  Time passed: 10.933/15.000\n",
      "Ep: 380/500  Rewards avg.: 4806.859  Loss avg.: 0.996  Time passed: 11.262/15.000\n",
      "Ep: 390/500  Rewards avg.: 4690.456  Loss avg.: 0.997  Time passed: 11.590/15.000\n",
      "Ep: 400/500  Rewards avg.: 4631.857  Loss avg.: 0.994  Time passed: 11.901/15.000\n",
      "Ep: 410/500  Rewards avg.: 4729.778  Loss avg.: 0.997  Time passed: 12.221/15.000\n",
      "Ep: 420/500  Rewards avg.: 4861.308  Loss avg.: 0.995  Time passed: 12.554/15.000\n",
      "Ep: 430/500  Rewards avg.: 4830.526  Loss avg.: 0.998  Time passed: 12.844/15.000\n",
      "Ep: 440/500  Rewards avg.: 4697.023  Loss avg.: 0.994  Time passed: 13.128/15.000\n",
      "Ep: 450/500  Rewards avg.: 4649.126  Loss avg.: 0.994  Time passed: 13.433/15.000\n",
      "Ep: 460/500  Rewards avg.: 4669.783  Loss avg.: 0.994  Time passed: 13.724/15.000\n",
      "Ep: 470/500  Rewards avg.: 4693.481  Loss avg.: 1.000  Time passed: 14.050/15.000\n",
      "Ep: 480/500  Rewards avg.: 4738.379  Loss avg.: 1.001  Time passed: 14.382/15.000\n",
      "Ep: 490/500  Rewards avg.: 4736.364  Loss avg.: 1.001  Time passed: 14.687/15.000\n"
     ]
    }
   ],
   "source": [
    "env_easy.reset()\n",
    "with mlf.start_run(experiment_id=experiment_id_easy, run_name='VPG easy'):\n",
    "    vpg_scores_after = agent_vpg.train(\n",
    "        env_easy,\n",
    "        500,\n",
    "        max_steps=ENV_SIZE,\n",
    "        average_n_last=30,\n",
    "        print_interval=10,\n",
    "        log=log,\n",
    "        gamma=0.99,\n",
    "        clip_action=False,\n",
    "        max_train_sec=15*60)"
   ],
   "metadata": {
    "collapsed": false,
    "pycharm": {
     "name": "#%%\n"
    }
   }
  },
  {
   "cell_type": "markdown",
   "id": "3dffa7dc-8b0e-406e-97d7-55ec2f411378",
   "metadata": {
    "tags": []
   },
   "source": [
    "## Eval after train"
   ]
  },
  {
   "cell_type": "code",
   "execution_count": 28,
   "id": "768d761b-c17f-466a-86a7-d58fde360af7",
   "metadata": {},
   "outputs": [],
   "source": [
    "results_dir = \"discrete_env_results_easy\""
   ]
  },
  {
   "cell_type": "code",
   "execution_count": 54,
   "id": "d47c7c74-fd1b-4db0-afd5-b554f200bcc0",
   "metadata": {},
   "outputs": [],
   "source": [
    "if os.path.exists(results_dir):\n",
    "    shutil.rmtree(results_dir)\n",
    "    os.mkdir(results_dir)"
   ]
  },
  {
   "cell_type": "markdown",
   "id": "12b50b08-74cf-4ed7-8ff5-549ecf05c9da",
   "metadata": {
    "tags": []
   },
   "source": [
    "## Compare results"
   ]
  },
  {
   "cell_type": "code",
   "execution_count": null,
   "id": "1f743824-03bc-4c01-b9e3-17490bfc78d1",
   "metadata": {
    "pycharm": {
     "is_executing": true
    }
   },
   "outputs": [
    {
     "data": {
      "text/plain": "  0%|          | 0/500 [00:00<?, ?it/s]",
      "application/vnd.jupyter.widget-view+json": {
       "version_major": 2,
       "version_minor": 0,
       "model_id": "2abfc206d93445689c5a97c32318903b"
      }
     },
     "metadata": {},
     "output_type": "display_data"
    }
   ],
   "source": [
    "ppo_eval_scores_after = autil.evaluate_algorithm(agent_ppo, env_easy, n_episodes=500, max_ep_steps=ENV_SIZE,\n",
    "                                                 clip_action=False)"
   ]
  },
  {
   "cell_type": "code",
   "execution_count": 31,
   "outputs": [
    {
     "data": {
      "text/plain": "  0%|          | 0/500 [00:00<?, ?it/s]",
      "application/vnd.jupyter.widget-view+json": {
       "version_major": 2,
       "version_minor": 0,
       "model_id": "59910d87a9d644cd90b20238372dc726"
      }
     },
     "metadata": {},
     "output_type": "display_data"
    }
   ],
   "source": [
    "ac_eval_scores_after_500 =  autil.evaluate_algorithm(agent_ac, env_easy, n_episodes=500, max_ep_steps=ENV_SIZE,\n",
    "                                                     clip_action=False)"
   ],
   "metadata": {
    "collapsed": false,
    "pycharm": {
     "name": "#%%\n"
    }
   }
  },
  {
   "cell_type": "code",
   "execution_count": 30,
   "outputs": [
    {
     "data": {
      "text/plain": "  0%|          | 0/500 [00:00<?, ?it/s]",
      "application/vnd.jupyter.widget-view+json": {
       "version_major": 2,
       "version_minor": 0,
       "model_id": "a64f59c5ac814ec694df17b87b03365c"
      }
     },
     "metadata": {},
     "output_type": "display_data"
    }
   ],
   "source": [
    "vpg_eval_scores_after_500 =  autil.evaluate_algorithm(agent_vpg, env_easy, n_episodes=500, max_ep_steps=ENV_SIZE,\n",
    "                                                      clip_action=False)"
   ],
   "metadata": {
    "collapsed": false,
    "pycharm": {
     "name": "#%%\n"
    }
   }
  },
  {
   "cell_type": "code",
   "execution_count": 39,
   "outputs": [],
   "source": [
    "if not os.path.exists(results_dir):\n",
    "    os.mkdir(results_dir)"
   ],
   "metadata": {
    "collapsed": false,
    "pycharm": {
     "name": "#%%\n"
    }
   }
  },
  {
   "cell_type": "code",
   "execution_count": 40,
   "id": "d90a78dc-231a-4550-806d-fb735b6525fb",
   "metadata": {},
   "outputs": [
    {
     "data": {
      "text/plain": "<Figure size 720x720 with 1 Axes>",
      "image/png": "[encoded data removed]"
     },
     "metadata": {
      "needs_background": "light"
     },
     "output_type": "display_data"
    }
   ],
   "source": [
    "plt.figure(figsize=(10, 10))\n",
    "sns.histplot(dummy_scores, color='yellow', label='Baseline')\n",
    "sns.histplot(ppo_eval_scores_after, color='red', label='PPO after training')\n",
    "sns.histplot(ac_eval_scores_after_500, color='purple', label='AC after training')\n",
    "sns.histplot(vpg_eval_scores_after_500, color='pink', label='VPG after training')\n",
    "sns.histplot(random_scores, color='green', label='Random')\n",
    "plt.title(\"Scores histogram - 500 simulation\")\n",
    "plt.legend()\n",
    "plt.savefig(f\"./{results_dir}/scores_histogram.png\")"
   ]
  },
  {
   "cell_type": "code",
   "execution_count": 61,
   "id": "b6a7ecb6-9093-4917-a392-15f0410d59b0",
   "metadata": {},
   "outputs": [
    {
     "data": {
      "text/plain": "           random    PPO after     AC after    VPG after     baseline\ncount  500.000000   500.000000   500.000000   500.000000   500.000000\nmean  -290.890025  5221.024898  4685.794335  4681.177518  5400.996065\nstd    181.360463   653.343127   425.213991   437.656198   619.268838\nmin   -699.896106  -120.369021  3206.577595  2968.779187  -138.049659\n25%   -386.495477  5055.285679  4384.385283  4399.867005  5087.344018\n50%   -270.730687  5367.668251  4690.118648  4680.816353  5423.374808\n75%   -130.682287  5593.634873  4981.056562  4973.264747  5745.647612\nmax    -17.056267  6258.740863  5845.886901  5961.670288  6676.670291",
      "text/html": "<div>\n<style scoped>\n    .dataframe tbody tr th:only-of-type {\n        vertical-align: middle;\n    }\n\n    .dataframe tbody tr th {\n        vertical-align: top;\n    }\n\n    .dataframe thead th {\n        text-align: right;\n    }\n</style>\n<table border=\"1\" class=\"dataframe\">\n  <thead>\n    <tr style=\"text-align: right;\">\n      <th></th>\n      <th>random</th>\n      <th>PPO after</th>\n      <th>AC after</th>\n      <th>VPG after</th>\n      <th>baseline</th>\n    </tr>\n  </thead>\n  <tbody>\n    <tr>\n      <th>count</th>\n      <td>500.000000</td>\n      <td>500.000000</td>\n      <td>500.000000</td>\n      <td>500.000000</td>\n      <td>500.000000</td>\n    </tr>\n    <tr>\n      <th>mean</th>\n      <td>-290.890025</td>\n      <td>5221.024898</td>\n      <td>4685.794335</td>\n      <td>4681.177518</td>\n      <td>5400.996065</td>\n    </tr>\n    <tr>\n      <th>std</th>\n      <td>181.360463</td>\n      <td>653.343127</td>\n      <td>425.213991</td>\n      <td>437.656198</td>\n      <td>619.268838</td>\n    </tr>\n    <tr>\n      <th>min</th>\n      <td>-699.896106</td>\n      <td>-120.369021</td>\n      <td>3206.577595</td>\n      <td>2968.779187</td>\n      <td>-138.049659</td>\n    </tr>\n    <tr>\n      <th>25%</th>\n      <td>-386.495477</td>\n      <td>5055.285679</td>\n      <td>4384.385283</td>\n      <td>4399.867005</td>\n      <td>5087.344018</td>\n    </tr>\n    <tr>\n      <th>50%</th>\n      <td>-270.730687</td>\n      <td>5367.668251</td>\n      <td>4690.118648</td>\n      <td>4680.816353</td>\n      <td>5423.374808</td>\n    </tr>\n    <tr>\n      <th>75%</th>\n      <td>-130.682287</td>\n      <td>5593.634873</td>\n      <td>4981.056562</td>\n      <td>4973.264747</td>\n      <td>5745.647612</td>\n    </tr>\n    <tr>\n      <th>max</th>\n      <td>-17.056267</td>\n      <td>6258.740863</td>\n      <td>5845.886901</td>\n      <td>5961.670288</td>\n      <td>6676.670291</td>\n    </tr>\n  </tbody>\n</table>\n</div>"
     },
     "execution_count": 61,
     "metadata": {},
     "output_type": "execute_result"
    }
   ],
   "source": [
    "result_df = pd.DataFrame({\n",
    "  #  'PPO before': ppo_scores_before,\n",
    "  #  'AC before': ac_scores_before,\n",
    "  #  'VPG before': vpg_scores_before,\n",
    "    'random': random_scores,\n",
    "    'PPO after': ppo_eval_scores_after,\n",
    "    'AC after': ac_eval_scores_after_500,\n",
    "    'VPG after': vpg_eval_scores_after_500,\n",
    "    'baseline': dummy_scores, })\n",
    "result_df.describe()"
   ]
  },
  {
   "cell_type": "code",
   "execution_count": 48,
   "id": "a6a4bf6e-f298-4688-becb-59c55535815a",
   "metadata": {},
   "outputs": [],
   "source": [
    "result_df.to_csv(os.path.join(results_dir, \"scores_easy_env.csv\"), index=False)"
   ]
  },
  {
   "cell_type": "code",
   "execution_count": 49,
   "id": "d7b62a5a-427b-4a37-8dfc-76ef19b87d35",
   "metadata": {},
   "outputs": [
    {
     "data": {
      "text/plain": "0.0"
     },
     "execution_count": 49,
     "metadata": {},
     "output_type": "execute_result"
    }
   ],
   "source": [
    "stat, pval = st.levene(*[result_df[c] for c in result_df.columns])\n",
    "pval.round(4)"
   ]
  },
  {
   "cell_type": "code",
   "execution_count": 62,
   "id": "9ada66b3-90e9-49ac-b4ee-ca93a1aeb63b",
   "metadata": {},
   "outputs": [
    {
     "data": {
      "text/plain": "  Source  ddof1    ddof2         F  p-unc   np2\n0  model      4  1151.15  34759.39    0.0  0.95",
      "text/html": "<div>\n<style scoped>\n    .dataframe tbody tr th:only-of-type {\n        vertical-align: middle;\n    }\n\n    .dataframe tbody tr th {\n        vertical-align: top;\n    }\n\n    .dataframe thead th {\n        text-align: right;\n    }\n</style>\n<table border=\"1\" class=\"dataframe\">\n  <thead>\n    <tr style=\"text-align: right;\">\n      <th></th>\n      <th>Source</th>\n      <th>ddof1</th>\n      <th>ddof2</th>\n      <th>F</th>\n      <th>p-unc</th>\n      <th>np2</th>\n    </tr>\n  </thead>\n  <tbody>\n    <tr>\n      <th>0</th>\n      <td>model</td>\n      <td>4</td>\n      <td>1151.15</td>\n      <td>34759.39</td>\n      <td>0.0</td>\n      <td>0.95</td>\n    </tr>\n  </tbody>\n</table>\n</div>"
     },
     "execution_count": 62,
     "metadata": {},
     "output_type": "execute_result"
    }
   ],
   "source": [
    "melted_df = result_df.melt(var_name='model')\n",
    "result = pg.welch_anova(melted_df, dv='value', between='model')\n",
    "result.round(2)"
   ]
  },
  {
   "cell_type": "code",
   "execution_count": 51,
   "id": "919beef0-6467-4784-b95f-67d47bca826b",
   "metadata": {},
   "outputs": [
    {
     "data": {
      "text/plain": "           A          B      mean(A)      mean(B)         diff         se  \\\n0   AC after  PPO after  4685.794335  5221.024898  -535.230564  34.861560   \n1   AC after  VPG after  4685.794335  4681.177518     4.616817  27.289188   \n2   AC after   baseline  4685.794335  5400.996065  -715.201730  33.594667   \n3   AC after     random  4685.794335  -290.890025  4976.684359  20.673585   \n4  PPO after  VPG after  5221.024898  4681.177518   539.847380  35.168173   \n5  PPO after   baseline  5221.024898  5400.996065  -179.971166  40.257947   \n6  PPO after     random  5221.024898  -290.890025  5511.914923  30.323221   \n7  VPG after   baseline  4681.177518  5400.996065  -719.818547  33.912736   \n8  VPG after     random  4681.177518  -290.890025  4972.067543  21.186532   \n9   baseline     random  5400.996065  -290.890025  5691.886089  28.857772   \n\n            T          df   pval      cohen  \n0  -15.353030  857.422612  0.001  -0.971011  \n1    0.169181  997.171003  0.900   0.010700  \n2  -21.289145  883.958692  0.001  -1.346444  \n3  240.726724  674.736160  0.001  15.224895  \n4   15.350453  871.770831  0.001   0.970848  \n5   -4.470451  995.150374  0.001  -0.282736  \n6  181.772080  575.447293  0.001  11.496276  \n7  -21.225611  897.944977  0.001  -1.342426  \n8  234.680578  665.467143  0.001  14.842503  \n9  197.239275  583.971690  0.001  12.474507  ",
      "text/html": "<div>\n<style scoped>\n    .dataframe tbody tr th:only-of-type {\n        vertical-align: middle;\n    }\n\n    .dataframe tbody tr th {\n        vertical-align: top;\n    }\n\n    .dataframe thead th {\n        text-align: right;\n    }\n</style>\n<table border=\"1\" class=\"dataframe\">\n  <thead>\n    <tr style=\"text-align: right;\">\n      <th></th>\n      <th>A</th>\n      <th>B</th>\n      <th>mean(A)</th>\n      <th>mean(B)</th>\n      <th>diff</th>\n      <th>se</th>\n      <th>T</th>\n      <th>df</th>\n      <th>pval</th>\n      <th>cohen</th>\n    </tr>\n  </thead>\n  <tbody>\n    <tr>\n      <th>0</th>\n      <td>AC after</td>\n      <td>PPO after</td>\n      <td>4685.794335</td>\n      <td>5221.024898</td>\n      <td>-535.230564</td>\n      <td>34.861560</td>\n      <td>-15.353030</td>\n      <td>857.422612</td>\n      <td>0.001</td>\n      <td>-0.971011</td>\n    </tr>\n    <tr>\n      <th>1</th>\n      <td>AC after</td>\n      <td>VPG after</td>\n      <td>4685.794335</td>\n      <td>4681.177518</td>\n      <td>4.616817</td>\n      <td>27.289188</td>\n      <td>0.169181</td>\n      <td>997.171003</td>\n      <td>0.900</td>\n      <td>0.010700</td>\n    </tr>\n    <tr>\n      <th>2</th>\n      <td>AC after</td>\n      <td>baseline</td>\n      <td>4685.794335</td>\n      <td>5400.996065</td>\n      <td>-715.201730</td>\n      <td>33.594667</td>\n      <td>-21.289145</td>\n      <td>883.958692</td>\n      <td>0.001</td>\n      <td>-1.346444</td>\n    </tr>\n    <tr>\n      <th>3</th>\n      <td>AC after</td>\n      <td>random</td>\n      <td>4685.794335</td>\n      <td>-290.890025</td>\n      <td>4976.684359</td>\n      <td>20.673585</td>\n      <td>240.726724</td>\n      <td>674.736160</td>\n      <td>0.001</td>\n      <td>15.224895</td>\n    </tr>\n    <tr>\n      <th>4</th>\n      <td>PPO after</td>\n      <td>VPG after</td>\n      <td>5221.024898</td>\n      <td>4681.177518</td>\n      <td>539.847380</td>\n      <td>35.168173</td>\n      <td>15.350453</td>\n      <td>871.770831</td>\n      <td>0.001</td>\n      <td>0.970848</td>\n    </tr>\n    <tr>\n      <th>5</th>\n      <td>PPO after</td>\n      <td>baseline</td>\n      <td>5221.024898</td>\n      <td>5400.996065</td>\n      <td>-179.971166</td>\n      <td>40.257947</td>\n      <td>-4.470451</td>\n      <td>995.150374</td>\n      <td>0.001</td>\n      <td>-0.282736</td>\n    </tr>\n    <tr>\n      <th>6</th>\n      <td>PPO after</td>\n      <td>random</td>\n      <td>5221.024898</td>\n      <td>-290.890025</td>\n      <td>5511.914923</td>\n      <td>30.323221</td>\n      <td>181.772080</td>\n      <td>575.447293</td>\n      <td>0.001</td>\n      <td>11.496276</td>\n    </tr>\n    <tr>\n      <th>7</th>\n      <td>VPG after</td>\n      <td>baseline</td>\n      <td>4681.177518</td>\n      <td>5400.996065</td>\n      <td>-719.818547</td>\n      <td>33.912736</td>\n      <td>-21.225611</td>\n      <td>897.944977</td>\n      <td>0.001</td>\n      <td>-1.342426</td>\n    </tr>\n    <tr>\n      <th>8</th>\n      <td>VPG after</td>\n      <td>random</td>\n      <td>4681.177518</td>\n      <td>-290.890025</td>\n      <td>4972.067543</td>\n      <td>21.186532</td>\n      <td>234.680578</td>\n      <td>665.467143</td>\n      <td>0.001</td>\n      <td>14.842503</td>\n    </tr>\n    <tr>\n      <th>9</th>\n      <td>baseline</td>\n      <td>random</td>\n      <td>5400.996065</td>\n      <td>-290.890025</td>\n      <td>5691.886089</td>\n      <td>28.857772</td>\n      <td>197.239275</td>\n      <td>583.971690</td>\n      <td>0.001</td>\n      <td>12.474507</td>\n    </tr>\n  </tbody>\n</table>\n</div>"
     },
     "execution_count": 51,
     "metadata": {},
     "output_type": "execute_result"
    }
   ],
   "source": [
    "pairwise_test = pg.pairwise_gameshowell(melted_df, dv='value', between='model', effsize='cohen')\n",
    "pairwise_test"
   ]
  },
  {
   "cell_type": "code",
   "execution_count": 52,
   "outputs": [],
   "source": [
    "pairwise_test.to_csv(os.path.join(results_dir, \"pairwise_test_res_easy_env.csv\"), index=False)"
   ],
   "metadata": {
    "collapsed": false,
    "pycharm": {
     "name": "#%%\n"
    }
   }
  },
  {
   "cell_type": "code",
   "execution_count": null,
   "outputs": [],
   "source": [],
   "metadata": {
    "collapsed": false,
    "pycharm": {
     "name": "#%%\n"
    }
   }
  }
 ],
 "metadata": {
  "kernelspec": {
   "display_name": "Python 3 (ipykernel)",
   "language": "python",
   "name": "python3"
  },
  "language_info": {
   "codemirror_mode": {
    "name": "ipython",
    "version": 3
   },
   "file_extension": ".py",
   "mimetype": "text/x-python",
   "name": "python",
   "nbconvert_exporter": "python",
   "pygments_lexer": "ipython3",
   "version": "3.9.7"
  }
 },
 "nbformat": 4,
 "nbformat_minor": 5
}