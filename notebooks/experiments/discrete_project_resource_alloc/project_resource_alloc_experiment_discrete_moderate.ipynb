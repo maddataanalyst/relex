{
 "cells": [
  {
   "cell_type": "markdown",
   "id": "4f340565-6f53-4075-b7bb-f53f4e45c7cb",
   "metadata": {
    "pycharm": {
     "name": "#%% md\n"
    }
   },
   "source": [
    "# Intro"
   ]
  },
  {
   "cell_type": "markdown",
   "id": "ae09bf37-fd06-4604-b569-a2db64e7e027",
   "metadata": {
    "pycharm": {
     "name": "#%% md\n"
    }
   },
   "source": [
    "# Libraries"
   ]
  },
  {
   "cell_type": "code",
   "execution_count": 52,
   "id": "2e8b8f20-430f-4ae5-be7e-8a973d82fbbb",
   "metadata": {
    "pycharm": {
     "name": "#%%\n"
    }
   },
   "outputs": [],
   "source": [
    "from typing import Tuple\n",
    "\n",
    "import logging\n",
    "import os\n",
    "import gc\n",
    "import shutil\n",
    "\n",
    "import mlflow\n",
    "import tensorflow as tf\n",
    "import pandas as pd\n",
    "import matplotlib.pyplot as plt\n",
    "import numpy as np\n",
    "import seaborn as sns\n",
    "import pingouin as pg\n",
    "import scipy.stats as st\n",
    "from stable_baselines3.ppo import PPO, MlpPolicy\n",
    "from stable_baselines3.a2c import A2C, MlpPolicy\n",
    "import scipy.stats as st\n",
    "import tensorflow.keras as krs\n",
    "import src.algorithms.algo_utils as autil\n",
    "import src.algorithms.advantages as adv\n",
    "import src.algorithms.dummy as dummy\n",
    "from src.envs.resource_allocation_env import DiscreteProjectsEnv, DiscreteProjectOptimizerAgent\n",
    "import src.algorithms.policy_gradient.tf2.ppo as ppo\n",
    "import src.algorithms.policy_gradient.tf2.ac as ac\n",
    "import src.algorithms.policy_gradient.tf2.vpg as vpg\n",
    "import src.models.base_models.tf2.policy_nets as policy_nets\n",
    "import src.models.base_models.tf2.value_nets as vnets\n",
    "import src.utils as util\n",
    "from tensorflow_probability.python.distributions import TruncatedNormal\n",
    "from tqdm.auto import tqdm\n",
    "\n",
    "import mlflow.tensorflow as mlftf\n",
    "import mlflow as mlf"
   ]
  },
  {
   "cell_type": "code",
   "execution_count": 2,
   "id": "dc0ea6fe-5c9b-4514-845e-94f588df3170",
   "metadata": {
    "pycharm": {
     "name": "#%%\n"
    }
   },
   "outputs": [],
   "source": [
    "from importlib import reload"
   ]
  },
  {
   "cell_type": "code",
   "execution_count": 3,
   "id": "3ce7de33-c87c-4fd0-ad74-2494dccc78a7",
   "metadata": {
    "pycharm": {
     "name": "#%%\n"
    }
   },
   "outputs": [],
   "source": [
    "dummy = reload(dummy)"
   ]
  },
  {
   "cell_type": "code",
   "execution_count": 4,
   "outputs": [],
   "source": [
    "log = logging.getLogger()\n",
    "log.setLevel(logging.INFO)\n",
    "std_handler = logging.StreamHandler(sys.stdout)\n",
    "log.addHandler(std_handler)"
   ],
   "metadata": {
    "collapsed": false,
    "pycharm": {
     "name": "#%%\n"
    }
   }
  },
  {
   "cell_type": "code",
   "execution_count": null,
   "outputs": [],
   "source": [
    "mlf.autolog()\n",
    "mlf.tensorflow.autolog()\n",
    "mlf.keras.autolog()"
   ],
   "metadata": {
    "collapsed": false,
    "pycharm": {
     "name": "#%%\n"
    }
   }
  },
  {
   "cell_type": "markdown",
   "id": "cf25aa71-1404-4125-9963-01b5fa48ab06",
   "metadata": {
    "pycharm": {
     "name": "#%% md\n"
    }
   },
   "source": [
    "# Moderate hard env"
   ]
  },
  {
   "cell_type": "code",
   "execution_count": 152,
   "id": "cc81e93e-dc34-4ffd-ad92-a33931b2df02",
   "metadata": {
    "pycharm": {
     "name": "#%%\n"
    }
   },
   "outputs": [],
   "source": [
    "ENV_SIZE = 300"
   ]
  },
  {
   "cell_type": "code",
   "execution_count": 175,
   "id": "7a183734-e67e-4f8e-9eef-7c54a7077596",
   "metadata": {
    "pycharm": {
     "name": "#%%\n"
    }
   },
   "outputs": [
    {
     "name": "stderr",
     "output_type": "stream",
     "text": [
      "C:\\Users\\fwojcik\\Anaconda3\\envs\\py39\\lib\\site-packages\\gym\\logger.py:34: UserWarning: \u001B[33mWARN: Box bound precision lowered by casting to float32\u001B[0m\n",
      "  warnings.warn(colorize(\"%s: %s\" % (\"WARN\", msg % args), \"yellow\"))\n"
     ]
    }
   ],
   "source": [
    "env_moderate = DiscreteProjectsEnv(\n",
    "        start_resource=100,\n",
    "        start_cash=100,\n",
    "        upkeep_cost=-1,\n",
    "        min_payout=-0.5,\n",
    "        max_payout=1.5,\n",
    "        payout_mean=1.0,\n",
    "        payout_std=0.5,\n",
    "        size=ENV_SIZE,\n",
    "        balance_is_reward=False,\n",
    "        stochastic=True)\n",
    "\n",
    "s_dim = env_moderate.observation_space.shape[0]\n",
    "a_dim = env_moderate.action_space.n"
   ]
  },
  {
   "cell_type": "code",
   "execution_count": 176,
   "outputs": [
    {
     "data": {
      "text/plain": "     proj_1_alloc  proj_1_payouts  proj_1_proba  proj_2_alloc  proj_2_payouts  \\\n0              50        0.244030      0.510947            91        0.584943   \n1              82        0.686358      0.528155            55        1.132714   \n2              30        0.639138      0.152877            26        0.274723   \n3              54        1.244300      0.470730            35        0.550084   \n4              67        1.202137      0.536334            92        0.552726   \n..            ...             ...           ...           ...             ...   \n295             5        1.220118      0.139167             6        1.122953   \n296            81       -0.102344      0.144999            60        0.605355   \n297            51        0.692033      0.104889            35        0.781975   \n298            62        1.286093      0.411213            59        0.380066   \n299            53        0.011153      0.447221            88        1.188381   \n\n     proj_2_proba  \n0        0.707425  \n1        0.269939  \n2        0.524991  \n3        0.472188  \n4        0.478150  \n..            ...  \n295      0.584711  \n296      0.896266  \n297      0.584273  \n298      0.436375  \n299      0.714650  \n\n[300 rows x 6 columns]",
      "text/html": "<div>\n<style scoped>\n    .dataframe tbody tr th:only-of-type {\n        vertical-align: middle;\n    }\n\n    .dataframe tbody tr th {\n        vertical-align: top;\n    }\n\n    .dataframe thead th {\n        text-align: right;\n    }\n</style>\n<table border=\"1\" class=\"dataframe\">\n  <thead>\n    <tr style=\"text-align: right;\">\n      <th></th>\n      <th>proj_1_alloc</th>\n      <th>proj_1_payouts</th>\n      <th>proj_1_proba</th>\n      <th>proj_2_alloc</th>\n      <th>proj_2_payouts</th>\n      <th>proj_2_proba</th>\n    </tr>\n  </thead>\n  <tbody>\n    <tr>\n      <th>0</th>\n      <td>50</td>\n      <td>0.244030</td>\n      <td>0.510947</td>\n      <td>91</td>\n      <td>0.584943</td>\n      <td>0.707425</td>\n    </tr>\n    <tr>\n      <th>1</th>\n      <td>82</td>\n      <td>0.686358</td>\n      <td>0.528155</td>\n      <td>55</td>\n      <td>1.132714</td>\n      <td>0.269939</td>\n    </tr>\n    <tr>\n      <th>2</th>\n      <td>30</td>\n      <td>0.639138</td>\n      <td>0.152877</td>\n      <td>26</td>\n      <td>0.274723</td>\n      <td>0.524991</td>\n    </tr>\n    <tr>\n      <th>3</th>\n      <td>54</td>\n      <td>1.244300</td>\n      <td>0.470730</td>\n      <td>35</td>\n      <td>0.550084</td>\n      <td>0.472188</td>\n    </tr>\n    <tr>\n      <th>4</th>\n      <td>67</td>\n      <td>1.202137</td>\n      <td>0.536334</td>\n      <td>92</td>\n      <td>0.552726</td>\n      <td>0.478150</td>\n    </tr>\n    <tr>\n      <th>...</th>\n      <td>...</td>\n      <td>...</td>\n      <td>...</td>\n      <td>...</td>\n      <td>...</td>\n      <td>...</td>\n    </tr>\n    <tr>\n      <th>295</th>\n      <td>5</td>\n      <td>1.220118</td>\n      <td>0.139167</td>\n      <td>6</td>\n      <td>1.122953</td>\n      <td>0.584711</td>\n    </tr>\n    <tr>\n      <th>296</th>\n      <td>81</td>\n      <td>-0.102344</td>\n      <td>0.144999</td>\n      <td>60</td>\n      <td>0.605355</td>\n      <td>0.896266</td>\n    </tr>\n    <tr>\n      <th>297</th>\n      <td>51</td>\n      <td>0.692033</td>\n      <td>0.104889</td>\n      <td>35</td>\n      <td>0.781975</td>\n      <td>0.584273</td>\n    </tr>\n    <tr>\n      <th>298</th>\n      <td>62</td>\n      <td>1.286093</td>\n      <td>0.411213</td>\n      <td>59</td>\n      <td>0.380066</td>\n      <td>0.436375</td>\n    </tr>\n    <tr>\n      <th>299</th>\n      <td>53</td>\n      <td>0.011153</td>\n      <td>0.447221</td>\n      <td>88</td>\n      <td>1.188381</td>\n      <td>0.714650</td>\n    </tr>\n  </tbody>\n</table>\n<p>300 rows × 6 columns</p>\n</div>"
     },
     "execution_count": 176,
     "metadata": {},
     "output_type": "execute_result"
    }
   ],
   "source": [
    "env_moderate.projects"
   ],
   "metadata": {
    "collapsed": false,
    "pycharm": {
     "name": "#%%\n"
    }
   }
  },
  {
   "cell_type": "code",
   "execution_count": 177,
   "outputs": [
    {
     "name": "stdout",
     "output_type": "stream",
     "text": [
      "[ 50.           0.24403024   0.51094735  91.           0.58494318\n",
      "   0.70742524 100.         100.        ]\n"
     ]
    }
   ],
   "source": [
    "print(env_moderate.reset())"
   ],
   "metadata": {
    "collapsed": false,
    "pycharm": {
     "name": "#%%\n"
    }
   }
  },
  {
   "cell_type": "code",
   "execution_count": 8,
   "id": "db720fa3-d859-4156-944c-47d8132fda65",
   "metadata": {
    "pycharm": {
     "name": "#%%\n"
    }
   },
   "outputs": [
    {
     "data": {
      "text/plain": "<AxesSubplot:>"
     },
     "execution_count": 8,
     "metadata": {},
     "output_type": "execute_result"
    },
    {
     "data": {
      "text/plain": "<Figure size 432x288 with 1 Axes>",
      "image/png": "[encoded data removed]"
     },
     "metadata": {
      "needs_background": "light"
     },
     "output_type": "display_data"
    }
   ],
   "source": [
    "env_moderate.projects.proj_1_payouts.hist()"
   ]
  },
  {
   "cell_type": "code",
   "execution_count": 9,
   "id": "4fae6e6a-fd46-4a88-a696-bff0f4d8e054",
   "metadata": {
    "pycharm": {
     "name": "#%%\n"
    }
   },
   "outputs": [
    {
     "data": {
      "text/plain": "<AxesSubplot:>"
     },
     "execution_count": 9,
     "metadata": {},
     "output_type": "execute_result"
    },
    {
     "data": {
      "text/plain": "<Figure size 432x288 with 1 Axes>",
      "image/png": "[encoded data removed]"
     },
     "metadata": {
      "needs_background": "light"
     },
     "output_type": "display_data"
    }
   ],
   "source": [
    "env_moderate.projects.proj_2_payouts.hist()"
   ]
  },
  {
   "cell_type": "markdown",
   "id": "6274d998-44be-404c-b71c-22525802a993",
   "metadata": {
    "pycharm": {
     "name": "#%% md\n"
    }
   },
   "source": [
    "## Agents"
   ]
  },
  {
   "cell_type": "markdown",
   "source": [
    "#### PPO"
   ],
   "metadata": {
    "collapsed": false,
    "pycharm": {
     "name": "#%% md\n"
    }
   }
  },
  {
   "cell_type": "code",
   "execution_count": 22,
   "id": "63ae4590-5087-442f-a1dd-a8e87d228d61",
   "metadata": {
    "pycharm": {
     "name": "#%%\n"
    }
   },
   "outputs": [
    {
     "name": "stdout",
     "output_type": "stream",
     "text": [
      "329\n"
     ]
    }
   ],
   "source": [
    "krs.backend.clear_session()\n",
    "print(gc.collect())\n",
    "\n",
    "s_dim = env_moderate.observation_space.shape[0]\n",
    "a_dim = env_moderate.action_space.n\n",
    "\n",
    "initializer = krs.initializers.HeNormal()\n",
    "policy_net_ppo = policy_nets.DiscretePolicyNet(a_dim, [128, 128, 128], 'tanh', hidden_initializer=initializer, out_initializer=initializer)\n",
    "value_net_ppo = vnets.ValueNet(s_dim, [64, 64], h_act='tanh', out_act='linear', initializer=initializer)\n",
    "\n",
    "policy_opt = krs.optimizers.Adam(0.0003)\n",
    "value_opt = krs.optimizers.Adam(0.0003)\n",
    "\n",
    "agent_ppo = ppo.PPO(\n",
    "    policy_net_ppo,\n",
    "    value_net_ppo,\n",
    "    policy_opt,\n",
    "    value_opt,\n",
    "    adv.GAE,\n",
    "    n_agents=3,\n",
    "    clipping_eps=0.2,\n",
    "    entropy_coef=0.001)"
   ]
  },
  {
   "cell_type": "markdown",
   "source": [
    "#### AC"
   ],
   "metadata": {
    "collapsed": false,
    "pycharm": {
     "name": "#%% md\n"
    }
   }
  },
  {
   "cell_type": "code",
   "execution_count": 44,
   "outputs": [],
   "source": [
    "policy_net_ac = policy_nets.DiscretePolicyNet(a_dim, [128, 128], 'tanh', hidden_initializer=initializer, out_initializer=initializer)\n",
    "value_net_ac = vnets.ValueNet(s_dim, [64, 64], h_act='tanh', out_act='linear', initializer=initializer)\n",
    "\n",
    "agent_ac = ac.ActorCrtic(\n",
    "    policy_net_ac,\n",
    "    value_net_ac,\n",
    "    krs.optimizers.Adam(0.0005), #, clipnorm=1.),\n",
    "    krs.optimizers.Adam(0.0003), #, clipnorm=1.),\n",
    "    adv.GAE,\n",
    "    entropy_coef=0.001)"
   ],
   "metadata": {
    "collapsed": false,
    "pycharm": {
     "name": "#%%\n"
    }
   }
  },
  {
   "cell_type": "markdown",
   "source": [
    "#### VPG"
   ],
   "metadata": {
    "collapsed": false,
    "pycharm": {
     "name": "#%% md\n"
    }
   }
  },
  {
   "cell_type": "code",
   "execution_count": 55,
   "outputs": [],
   "source": [
    "policy_net_vpg = policy_nets.DiscretePolicyNet(a_dim, [128, 128], 'tanh', hidden_initializer=initializer, out_initializer=initializer)\n",
    "value_net_vpg = vnets.ValueNet(s_dim, [64, 64], h_act='tanh', out_act='linear', initializer=initializer)\n",
    "\n",
    "agent_vpg = vpg.VPG(\n",
    "    policy_net_vpg,\n",
    "    value_net_vpg,\n",
    "    adv.GAE,\n",
    "    policy_opt=krs.optimizers.Adam(0.0005), #, clipnorm=1.),\n",
    "    value_opt=krs.optimizers.Adam(0.0003), #, clipnorm=1.),\n",
    "    entropy_coef=0.001)"
   ],
   "metadata": {
    "collapsed": false,
    "pycharm": {
     "name": "#%%\n"
    }
   }
  },
  {
   "cell_type": "code",
   "execution_count": 12,
   "id": "8c8e4f90-76dc-4260-b803-693ed1577290",
   "metadata": {
    "pycharm": {
     "name": "#%%\n"
    }
   },
   "outputs": [],
   "source": [
    "dummy_agent = DiscreteProjectOptimizerAgent(env_moderate)"
   ]
  },
  {
   "cell_type": "code",
   "execution_count": 13,
   "id": "d919748f-9011-4136-aed4-45b39221a84b",
   "metadata": {
    "pycharm": {
     "name": "#%%\n"
    }
   },
   "outputs": [],
   "source": [
    "random_agent = dummy.DummyAgent(env_moderate)"
   ]
  },
  {
   "cell_type": "markdown",
   "id": "59fbaab3-bbe3-46d0-ae43-a062d67dd63a",
   "metadata": {
    "pycharm": {
     "name": "#%% md\n"
    }
   },
   "source": [
    "## Evaluate before training"
   ]
  },
  {
   "cell_type": "code",
   "execution_count": 24,
   "id": "52bda543-c582-4ff0-ba59-41d02bdb9afe",
   "metadata": {
    "pycharm": {
     "name": "#%%\n"
    }
   },
   "outputs": [
    {
     "data": {
      "text/plain": "  0%|          | 0/500 [00:00<?, ?it/s]",
      "application/vnd.jupyter.widget-view+json": {
       "version_major": 2,
       "version_minor": 0,
       "model_id": "91014df85e7b48319347503fc35150d1"
      }
     },
     "metadata": {},
     "output_type": "display_data"
    }
   ],
   "source": [
    "ppo_scores_before = autil.evaluate_algorithm(agent_ppo, env_moderate, n_episodes=500, max_ep_steps=ENV_SIZE, clip_action=False)"
   ]
  },
  {
   "cell_type": "code",
   "execution_count": 45,
   "outputs": [
    {
     "data": {
      "text/plain": "  0%|          | 0/500 [00:00<?, ?it/s]",
      "application/vnd.jupyter.widget-view+json": {
       "version_major": 2,
       "version_minor": 0,
       "model_id": "6ec25618f6f540e4875472ad2fed4318"
      }
     },
     "metadata": {},
     "output_type": "display_data"
    }
   ],
   "source": [
    "ac_scores_before = autil.evaluate_algorithm(agent_ac, env_moderate, n_episodes=500, max_ep_steps=ENV_SIZE, clip_action=False)"
   ],
   "metadata": {
    "collapsed": false,
    "pycharm": {
     "name": "#%%\n"
    }
   }
  },
  {
   "cell_type": "code",
   "execution_count": 56,
   "outputs": [
    {
     "data": {
      "text/plain": "  0%|          | 0/500 [00:00<?, ?it/s]",
      "application/vnd.jupyter.widget-view+json": {
       "version_major": 2,
       "version_minor": 0,
       "model_id": "ff6a440bf49d4b2b8bcd69e00104f21e"
      }
     },
     "metadata": {},
     "output_type": "display_data"
    }
   ],
   "source": [
    "vpg_scores_before = autil.evaluate_algorithm(agent_vpg, env_moderate, n_episodes=500, max_ep_steps=ENV_SIZE, clip_action=False)"
   ],
   "metadata": {
    "collapsed": false,
    "pycharm": {
     "name": "#%%\n"
    }
   }
  },
  {
   "cell_type": "code",
   "execution_count": 16,
   "id": "d150a416-a1da-4b1c-bbe0-f2d61df41d6d",
   "metadata": {
    "pycharm": {
     "name": "#%%\n"
    }
   },
   "outputs": [
    {
     "data": {
      "text/plain": "  0%|          | 0/500 [00:00<?, ?it/s]",
      "application/vnd.jupyter.widget-view+json": {
       "version_major": 2,
       "version_minor": 0,
       "model_id": "6b7d3cec38a445dba5edc2e66e15454b"
      }
     },
     "metadata": {},
     "output_type": "display_data"
    }
   ],
   "source": [
    "dummy_scores = autil.evaluate_algorithm(dummy_agent, env_moderate, n_episodes=500, max_ep_steps=ENV_SIZE, clip_action=False)"
   ]
  },
  {
   "cell_type": "code",
   "execution_count": 17,
   "id": "816340ef-524f-47a8-8dae-4273916f9fdd",
   "metadata": {
    "pycharm": {
     "name": "#%%\n"
    }
   },
   "outputs": [
    {
     "data": {
      "text/plain": "  0%|          | 0/500 [00:00<?, ?it/s]",
      "application/vnd.jupyter.widget-view+json": {
       "version_major": 2,
       "version_minor": 0,
       "model_id": "aa57b1b9657a43a2aca9ae63d7c773c4"
      }
     },
     "metadata": {},
     "output_type": "display_data"
    }
   ],
   "source": [
    "random_scores = autil.evaluate_algorithm(random_agent, env_moderate, n_episodes=500, max_ep_steps=ENV_SIZE, clip_action=False)"
   ]
  },
  {
   "cell_type": "code",
   "execution_count": 57,
   "id": "37717f6d-76c8-41b2-8bdb-125f17f89e6f",
   "metadata": {
    "pycharm": {
     "name": "#%%\n"
    }
   },
   "outputs": [
    {
     "data": {
      "text/plain": "<matplotlib.legend.Legend at 0x1f135d6ef70>"
     },
     "execution_count": 57,
     "metadata": {},
     "output_type": "execute_result"
    },
    {
     "data": {
      "text/plain": "<Figure size 432x288 with 1 Axes>",
      "image/png": "[encoded data removed]"
     },
     "metadata": {
      "needs_background": "light"
     },
     "output_type": "display_data"
    }
   ],
   "source": [
    "sns.histplot(ppo_scores_before, color='blue', label='PPO before')\n",
    "sns.histplot(ac_scores_before, color='purple', label='AC before')\n",
    "sns.histplot(vpg_scores_before, color='pink', label='VPG before')\n",
    "sns.histplot(dummy_scores, color='yellow', label='Baseline')\n",
    "sns.histplot(random_scores, color='green', label='Random')\n",
    "plt.legend()"
   ]
  },
  {
   "cell_type": "markdown",
   "id": "24bdc7d8-fec9-4505-b38c-f1eca009851f",
   "metadata": {
    "pycharm": {
     "name": "#%% md\n"
    }
   },
   "source": [
    "## Train agent"
   ]
  },
  {
   "cell_type": "code",
   "execution_count": 19,
   "outputs": [],
   "source": [
    "EXPERIMENT_MODERATE_NAME = 'projects_env_moderate_hard'"
   ],
   "metadata": {
    "collapsed": false,
    "pycharm": {
     "name": "#%%\n"
    }
   }
  },
  {
   "cell_type": "code",
   "execution_count": 20,
   "outputs": [],
   "source": [
    "experiment_id_moderate = util.prepare_mlflow(EXPERIMENT_MODERATE_NAME)"
   ],
   "metadata": {
    "collapsed": false,
    "pycharm": {
     "name": "#%%\n"
    }
   }
  },
  {
   "cell_type": "markdown",
   "source": [
    "#### Train PPO"
   ],
   "metadata": {
    "collapsed": false,
    "pycharm": {
     "name": "#%% md\n"
    }
   }
  },
  {
   "cell_type": "code",
   "execution_count": 57,
   "id": "7a5b09f2-33e7-4800-929c-09d9fc77b219",
   "metadata": {
    "pycharm": {
     "name": "#%%\n"
    }
   },
   "outputs": [],
   "source": [
    "tf_logpath = \"./ppo_moderate_projectenv_tensorboard\"\n",
    "if os.path.exists(tf_logpath):\n",
    "    shutil.rmtree(tf_logpath)\n",
    "writer = tf.summary.create_file_writer(tf_logpath)"
   ]
  },
  {
   "cell_type": "code",
   "execution_count": 26,
   "id": "4eca5846-5a0a-4189-a80b-1f1ba9aa73f2",
   "metadata": {
    "tags": [],
    "pycharm": {
     "name": "#%%\n"
    }
   },
   "outputs": [
    {
     "name": "stdout",
     "output_type": "stream",
     "text": [
      "Ep: 0/200  Rewards avg.: -194.712  Loss avg.: 0.673  Time passed: 0.009/30.000\n",
      "Ep: 10/200  Rewards avg.: 486.534  Loss avg.: 0.892  Time passed: 0.587/30.000\n",
      "Ep: 20/200  Rewards avg.: 923.513  Loss avg.: 0.957  Time passed: 1.580/30.000\n",
      "Ep: 30/200  Rewards avg.: 1190.082  Loss avg.: 0.966  Time passed: 2.634/30.000\n",
      "Ep: 40/200  Rewards avg.: 1284.179  Loss avg.: 0.920  Time passed: 3.530/30.000\n",
      "Ep: 50/200  Rewards avg.: 1035.386  Loss avg.: 0.872  Time passed: 4.304/30.000\n",
      "Ep: 60/200  Rewards avg.: 730.343  Loss avg.: 1.090  Time passed: 5.241/30.000\n",
      "Ep: 70/200  Rewards avg.: 933.889  Loss avg.: 0.964  Time passed: 6.233/30.000\n",
      "Ep: 80/200  Rewards avg.: 1496.744  Loss avg.: 1.107  Time passed: 7.374/30.000\n",
      "Ep: 90/200  Rewards avg.: 2161.396  Loss avg.: 1.545  Time passed: 8.498/30.000\n",
      "Ep: 100/200  Rewards avg.: 2424.671  Loss avg.: 0.798  Time passed: 9.464/30.000\n",
      "Ep: 110/200  Rewards avg.: 2252.174  Loss avg.: 4.955  Time passed: 10.533/30.000\n",
      "Ep: 120/200  Rewards avg.: 2265.966  Loss avg.: 1.911  Time passed: 11.660/30.000\n",
      "Ep: 130/200  Rewards avg.: 2444.557  Loss avg.: 2.727  Time passed: 12.813/30.000\n",
      "Ep: 140/200  Rewards avg.: 2936.793  Loss avg.: 2.733  Time passed: 13.921/30.000\n",
      "Ep: 150/200  Rewards avg.: 3160.459  Loss avg.: 5.706  Time passed: 15.105/30.000\n",
      "Ep: 160/200  Rewards avg.: 3452.364  Loss avg.: 2.896  Time passed: 16.392/30.000\n",
      "Ep: 170/200  Rewards avg.: 3616.180  Loss avg.: 4.044  Time passed: 17.601/30.000\n",
      "Ep: 180/200  Rewards avg.: 3335.209  Loss avg.: 10.134  Time passed: 18.774/30.000\n",
      "Ep: 190/200  Rewards avg.: 3425.591  Loss avg.: 1.131  Time passed: 19.945/30.000\n"
     ]
    }
   ],
   "source": [
    "env_moderate.reset()\n",
    "with mlf.start_run(experiment_id=experiment_id_moderate, run_name='PPO moderate'):\n",
    "    ppo_scores_after = agent_ppo.train(env_moderate, 600, max_steps=ENV_SIZE, average_n_last=30, print_interval=10, epochs=5, batch_size=64, log=log, gamma=0.99, clip_action=False, max_train_sec=30*60)"
   ]
  },
  {
   "cell_type": "markdown",
   "source": [
    "#### Train AC"
   ],
   "metadata": {
    "collapsed": false,
    "pycharm": {
     "name": "#%% md\n"
    }
   }
  },
  {
   "cell_type": "code",
   "execution_count": 82,
   "outputs": [],
   "source": [
    "tf_logpath = \"./ac_moderate_projectenv_tensorboard\"\n",
    "if os.path.exists(tf_logpath):\n",
    "    shutil.rmtree(tf_logpath)\n",
    "writer = tf.summary.create_file_writer(tf_logpath)"
   ],
   "metadata": {
    "collapsed": false,
    "pycharm": {
     "name": "#%%\n"
    }
   }
  },
  {
   "cell_type": "code",
   "execution_count": 47,
   "outputs": [
    {
     "name": "stdout",
     "output_type": "stream",
     "text": [
      "Ep: 0/500  Rewards avg.: -131.000  Loss avg.: 1.127  Time passed: 0.001/15.000\n",
      "Ep: 10/500  Rewards avg.: -293.325  Loss avg.: 0.852  Time passed: 0.005/15.000\n",
      "Ep: 20/500  Rewards avg.: -384.028  Loss avg.: 0.509  Time passed: 0.009/15.000\n",
      "Ep: 30/500  Rewards avg.: -438.109  Loss avg.: 0.568  Time passed: 0.014/15.000\n",
      "Ep: 40/500  Rewards avg.: -433.589  Loss avg.: 0.527  Time passed: 0.022/15.000\n",
      "Ep: 50/500  Rewards avg.: -199.200  Loss avg.: 0.850  Time passed: 0.111/15.000\n",
      "Ep: 60/500  Rewards avg.: 458.515  Loss avg.: 0.974  Time passed: 0.338/15.000\n",
      "Ep: 70/500  Rewards avg.: 1097.088  Loss avg.: 1.000  Time passed: 0.604/15.000\n",
      "Ep: 80/500  Rewards avg.: 1591.274  Loss avg.: 1.004  Time passed: 0.844/15.000\n",
      "Ep: 90/500  Rewards avg.: 1605.128  Loss avg.: 0.996  Time passed: 1.086/15.000\n",
      "Ep: 100/500  Rewards avg.: 1596.145  Loss avg.: 1.000  Time passed: 1.353/15.000\n",
      "Ep: 110/500  Rewards avg.: 1588.409  Loss avg.: 1.002  Time passed: 1.616/15.000\n",
      "Ep: 120/500  Rewards avg.: 1677.100  Loss avg.: 0.994  Time passed: 1.885/15.000\n",
      "Ep: 130/500  Rewards avg.: 1661.039  Loss avg.: 1.000  Time passed: 2.123/15.000\n",
      "Ep: 140/500  Rewards avg.: 1637.994  Loss avg.: 1.000  Time passed: 2.364/15.000\n",
      "Ep: 150/500  Rewards avg.: 1715.079  Loss avg.: 1.000  Time passed: 2.627/15.000\n",
      "Ep: 160/500  Rewards avg.: 1801.725  Loss avg.: 0.982  Time passed: 2.884/15.000\n",
      "Ep: 170/500  Rewards avg.: 1715.439  Loss avg.: 1.000  Time passed: 3.084/15.000\n",
      "Ep: 180/500  Rewards avg.: 1680.045  Loss avg.: 1.000  Time passed: 3.347/15.000\n",
      "Ep: 190/500  Rewards avg.: 1477.465  Loss avg.: 1.000  Time passed: 3.595/15.000\n",
      "Ep: 200/500  Rewards avg.: 1545.049  Loss avg.: 1.000  Time passed: 3.830/15.000\n",
      "Ep: 210/500  Rewards avg.: 1385.881  Loss avg.: 1.000  Time passed: 4.069/15.000\n",
      "Ep: 220/500  Rewards avg.: 1472.009  Loss avg.: 1.000  Time passed: 4.308/15.000\n",
      "Ep: 230/500  Rewards avg.: 1463.188  Loss avg.: 1.000  Time passed: 4.533/15.000\n",
      "Ep: 240/500  Rewards avg.: 1565.007  Loss avg.: 1.000  Time passed: 4.801/15.000\n",
      "Ep: 250/500  Rewards avg.: 1642.303  Loss avg.: 1.000  Time passed: 5.090/15.000\n",
      "Ep: 260/500  Rewards avg.: 1555.957  Loss avg.: 1.000  Time passed: 5.307/15.000\n",
      "Ep: 270/500  Rewards avg.: 1533.799  Loss avg.: 1.000  Time passed: 5.545/15.000\n",
      "Ep: 280/500  Rewards avg.: 1468.113  Loss avg.: 1.000  Time passed: 5.780/15.000\n",
      "Ep: 290/500  Rewards avg.: 1594.544  Loss avg.: 1.000  Time passed: 6.026/15.000\n",
      "Ep: 300/500  Rewards avg.: 1675.892  Loss avg.: 1.000  Time passed: 6.286/15.000\n",
      "Ep: 310/500  Rewards avg.: 1692.280  Loss avg.: 1.000  Time passed: 6.525/15.000\n",
      "Ep: 320/500  Rewards avg.: 1668.933  Loss avg.: 1.000  Time passed: 6.770/15.000\n",
      "Ep: 330/500  Rewards avg.: 1450.312  Loss avg.: 1.000  Time passed: 6.997/15.000\n",
      "Ep: 340/500  Rewards avg.: 1531.914  Loss avg.: 1.000  Time passed: 7.257/15.000\n",
      "Ep: 350/500  Rewards avg.: 1546.800  Loss avg.: 1.000  Time passed: 7.498/15.000\n",
      "Ep: 360/500  Rewards avg.: 1613.534  Loss avg.: 0.989  Time passed: 7.716/15.000\n",
      "Ep: 370/500  Rewards avg.: 1600.397  Loss avg.: 1.000  Time passed: 7.978/15.000\n",
      "Ep: 380/500  Rewards avg.: 1679.944  Loss avg.: 1.000  Time passed: 8.257/15.000\n",
      "Ep: 390/500  Rewards avg.: 1779.771  Loss avg.: 1.000  Time passed: 8.514/15.000\n",
      "Ep: 400/500  Rewards avg.: 1596.422  Loss avg.: 1.000  Time passed: 8.735/15.000\n",
      "Ep: 410/500  Rewards avg.: 1550.008  Loss avg.: 1.000  Time passed: 8.991/15.000\n",
      "Ep: 420/500  Rewards avg.: 1452.556  Loss avg.: 1.000  Time passed: 9.211/15.000\n",
      "Ep: 430/500  Rewards avg.: 1641.607  Loss avg.: 1.000  Time passed: 9.472/15.000\n",
      "Ep: 440/500  Rewards avg.: 1590.143  Loss avg.: 1.000  Time passed: 9.712/15.000\n",
      "Ep: 450/500  Rewards avg.: 1600.489  Loss avg.: 1.000  Time passed: 9.955/15.000\n",
      "Ep: 460/500  Rewards avg.: 1507.805  Loss avg.: 1.000  Time passed: 10.169/15.000\n",
      "Ep: 470/500  Rewards avg.: 1439.152  Loss avg.: 1.000  Time passed: 10.412/15.000\n",
      "Ep: 480/500  Rewards avg.: 1455.665  Loss avg.: 1.000  Time passed: 10.651/15.000\n",
      "Ep: 490/500  Rewards avg.: 1614.889  Loss avg.: 1.000  Time passed: 10.915/15.000\n"
     ]
    }
   ],
   "source": [
    "env_moderate.reset()\n",
    "with mlf.start_run(experiment_id=experiment_id_moderate, run_name='AC moderate different arch'):\n",
    "    ac_scores_after = agent_ac.train(\n",
    "        env_moderate,\n",
    "        500,\n",
    "        max_steps=ENV_SIZE,\n",
    "        average_n_last=30,\n",
    "        print_interval=10,\n",
    "        log=log,\n",
    "        gamma=0.99,\n",
    "        clip_action=False,\n",
    "        max_train_sec=15*60,\n",
    "        n_steps=25)"
   ],
   "metadata": {
    "collapsed": false,
    "pycharm": {
     "name": "#%%\n"
    }
   }
  },
  {
   "cell_type": "markdown",
   "source": [
    "#### Train VPG"
   ],
   "metadata": {
    "collapsed": false,
    "pycharm": {
     "name": "#%% md\n"
    }
   }
  },
  {
   "cell_type": "code",
   "execution_count": 58,
   "outputs": [
    {
     "name": "stdout",
     "output_type": "stream",
     "text": [
      "Ep: 0/500  Rewards avg.: nan  Loss avg.: 1.581  Time passed: 0.001/15.000\n"
     ]
    },
    {
     "name": "stderr",
     "output_type": "stream",
     "text": [
      "C:\\Users\\fwojcik\\Anaconda3\\envs\\py39\\lib\\site-packages\\numpy\\core\\fromnumeric.py:3474: RuntimeWarning: Mean of empty slice.\n",
      "  return _methods._mean(a, axis=axis, dtype=dtype,\n",
      "C:\\Users\\fwojcik\\Anaconda3\\envs\\py39\\lib\\site-packages\\numpy\\core\\_methods.py:189: RuntimeWarning: invalid value encountered in double_scalars\n",
      "  ret = ret.dtype.type(ret / rcount)\n"
     ]
    },
    {
     "name": "stdout",
     "output_type": "stream",
     "text": [
      "Ep: 10/500  Rewards avg.: -205.507  Loss avg.: 0.974  Time passed: 0.008/15.000\n",
      "Ep: 20/500  Rewards avg.: -190.474  Loss avg.: 0.776  Time passed: 0.017/15.000\n",
      "Ep: 30/500  Rewards avg.: -173.757  Loss avg.: 0.570  Time passed: 0.038/15.000\n",
      "Ep: 40/500  Rewards avg.: -136.256  Loss avg.: 0.509  Time passed: 0.072/15.000\n",
      "Ep: 50/500  Rewards avg.: 212.103  Loss avg.: 0.579  Time passed: 0.277/15.000\n",
      "Ep: 60/500  Rewards avg.: 764.800  Loss avg.: 0.791  Time passed: 0.487/15.000\n",
      "Ep: 70/500  Rewards avg.: 1428.966  Loss avg.: 0.862  Time passed: 0.741/15.000\n",
      "Ep: 80/500  Rewards avg.: 1751.798  Loss avg.: 0.936  Time passed: 0.980/15.000\n",
      "Ep: 90/500  Rewards avg.: 1756.338  Loss avg.: 0.971  Time passed: 1.179/15.000\n",
      "Ep: 100/500  Rewards avg.: 1779.767  Loss avg.: 0.977  Time passed: 1.416/15.000\n",
      "Ep: 110/500  Rewards avg.: 1729.497  Loss avg.: 0.974  Time passed: 1.660/15.000\n",
      "Ep: 120/500  Rewards avg.: 1767.870  Loss avg.: 0.978  Time passed: 1.877/15.000\n",
      "Ep: 130/500  Rewards avg.: 1550.157  Loss avg.: 0.984  Time passed: 2.063/15.000\n",
      "Ep: 140/500  Rewards avg.: 1531.487  Loss avg.: 0.985  Time passed: 2.283/15.000\n",
      "Ep: 150/500  Rewards avg.: 1640.511  Loss avg.: 0.983  Time passed: 2.551/15.000\n",
      "Ep: 160/500  Rewards avg.: 1690.157  Loss avg.: 0.983  Time passed: 2.757/15.000\n",
      "Ep: 170/500  Rewards avg.: 1714.290  Loss avg.: 0.985  Time passed: 2.980/15.000\n",
      "Ep: 180/500  Rewards avg.: 1638.012  Loss avg.: 0.990  Time passed: 3.223/15.000\n",
      "Ep: 190/500  Rewards avg.: 1675.486  Loss avg.: 0.993  Time passed: 3.424/15.000\n",
      "Ep: 200/500  Rewards avg.: 1747.720  Loss avg.: 0.993  Time passed: 3.664/15.000\n",
      "Ep: 210/500  Rewards avg.: 1721.729  Loss avg.: 0.991  Time passed: 3.907/15.000\n",
      "Ep: 220/500  Rewards avg.: 1792.310  Loss avg.: 0.990  Time passed: 4.154/15.000\n",
      "Ep: 230/500  Rewards avg.: 1711.244  Loss avg.: 0.990  Time passed: 4.397/15.000\n",
      "Ep: 240/500  Rewards avg.: 1722.660  Loss avg.: 0.988  Time passed: 4.638/15.000\n",
      "Ep: 250/500  Rewards avg.: 1650.039  Loss avg.: 0.994  Time passed: 4.860/15.000\n",
      "Ep: 260/500  Rewards avg.: 1654.491  Loss avg.: 0.995  Time passed: 5.105/15.000\n",
      "Ep: 270/500  Rewards avg.: 1403.633  Loss avg.: 0.995  Time passed: 5.278/15.000\n",
      "Ep: 280/500  Rewards avg.: 1317.402  Loss avg.: 0.993  Time passed: 5.503/15.000\n",
      "Ep: 290/500  Rewards avg.: 1197.068  Loss avg.: 0.993  Time passed: 5.754/15.000\n",
      "Ep: 300/500  Rewards avg.: 1432.966  Loss avg.: 0.998  Time passed: 6.054/15.000\n",
      "Ep: 310/500  Rewards avg.: 1549.299  Loss avg.: 0.999  Time passed: 6.323/15.000\n",
      "Ep: 320/500  Rewards avg.: 1540.101  Loss avg.: 0.996  Time passed: 6.533/15.000\n",
      "Ep: 330/500  Rewards avg.: 1638.154  Loss avg.: 0.994  Time passed: 6.778/15.000\n",
      "Ep: 340/500  Rewards avg.: 1390.886  Loss avg.: 0.988  Time passed: 6.937/15.000\n",
      "Ep: 350/500  Rewards avg.: 1494.323  Loss avg.: 0.993  Time passed: 7.165/15.000\n",
      "Ep: 360/500  Rewards avg.: 1410.148  Loss avg.: 0.996  Time passed: 7.385/15.000\n",
      "Ep: 370/500  Rewards avg.: 1638.759  Loss avg.: 1.004  Time passed: 7.622/15.000\n",
      "Ep: 380/500  Rewards avg.: 1783.504  Loss avg.: 1.002  Time passed: 7.866/15.000\n",
      "Ep: 390/500  Rewards avg.: 1764.781  Loss avg.: 0.998  Time passed: 8.110/15.000\n",
      "Ep: 400/500  Rewards avg.: 1797.417  Loss avg.: 0.995  Time passed: 8.354/15.000\n",
      "Ep: 410/500  Rewards avg.: 1722.349  Loss avg.: 0.995  Time passed: 8.609/15.000\n",
      "Ep: 420/500  Rewards avg.: 1613.498  Loss avg.: 0.999  Time passed: 8.817/15.000\n",
      "Ep: 430/500  Rewards avg.: 1673.894  Loss avg.: 0.996  Time passed: 9.067/15.000\n",
      "Ep: 440/500  Rewards avg.: 1611.728  Loss avg.: 0.988  Time passed: 9.262/15.000\n",
      "Ep: 450/500  Rewards avg.: 1576.371  Loss avg.: 0.984  Time passed: 9.485/15.000\n",
      "Ep: 460/500  Rewards avg.: 1335.272  Loss avg.: 0.987  Time passed: 9.690/15.000\n",
      "Ep: 470/500  Rewards avg.: 1219.220  Loss avg.: 0.992  Time passed: 9.883/15.000\n",
      "Ep: 480/500  Rewards avg.: 1494.746  Loss avg.: 0.997  Time passed: 10.128/15.000\n",
      "Ep: 490/500  Rewards avg.: 1602.923  Loss avg.: 0.994  Time passed: 10.359/15.000\n"
     ]
    }
   ],
   "source": [
    "env_moderate.reset()\n",
    "with mlf.start_run(experiment_id=experiment_id_moderate, run_name='VPG moderate'):\n",
    "    vpg_scores_after = agent_vpg.train(\n",
    "        env_moderate,\n",
    "        500,\n",
    "        max_steps=ENV_SIZE,\n",
    "        average_n_last=30,\n",
    "        print_interval=10,\n",
    "        log=log,\n",
    "        gamma=0.99,\n",
    "        clip_action=False,\n",
    "        max_train_sec=15*60)"
   ],
   "metadata": {
    "collapsed": false,
    "pycharm": {
     "name": "#%%\n"
    }
   }
  },
  {
   "cell_type": "markdown",
   "id": "3dffa7dc-8b0e-406e-97d7-55ec2f411378",
   "metadata": {
    "tags": [],
    "pycharm": {
     "name": "#%% md\n"
    }
   },
   "source": [
    "## Eval after train"
   ]
  },
  {
   "cell_type": "code",
   "execution_count": 28,
   "id": "768d761b-c17f-466a-86a7-d58fde360af7",
   "metadata": {
    "pycharm": {
     "name": "#%%\n"
    }
   },
   "outputs": [],
   "source": [
    "results_dir = \"discrete_env_results_moderate\""
   ]
  },
  {
   "cell_type": "code",
   "execution_count": 29,
   "id": "d47c7c74-fd1b-4db0-afd5-b554f200bcc0",
   "metadata": {
    "pycharm": {
     "name": "#%%\n"
    }
   },
   "outputs": [],
   "source": [
    "if os.path.exists(results_dir):\n",
    "    shutil.rmtree(results_dir)\n",
    "    os.mkdir(results_dir)"
   ]
  },
  {
   "cell_type": "markdown",
   "id": "12b50b08-74cf-4ed7-8ff5-549ecf05c9da",
   "metadata": {
    "tags": [],
    "pycharm": {
     "name": "#%% md\n"
    }
   },
   "source": [
    "## Compare results"
   ]
  },
  {
   "cell_type": "code",
   "execution_count": 30,
   "id": "1f743824-03bc-4c01-b9e3-17490bfc78d1",
   "metadata": {
    "pycharm": {
     "name": "#%%\n"
    }
   },
   "outputs": [
    {
     "data": {
      "text/plain": "  0%|          | 0/500 [00:00<?, ?it/s]",
      "application/vnd.jupyter.widget-view+json": {
       "version_major": 2,
       "version_minor": 0,
       "model_id": "95d346abc174443dbc95ae056032efd4"
      }
     },
     "metadata": {},
     "output_type": "display_data"
    }
   ],
   "source": [
    "ppo_eval_scores_after = autil.evaluate_algorithm(agent_ppo, env_moderate, n_episodes=500, max_ep_steps=ENV_SIZE,\n",
    "                                                     clip_action=False)"
   ]
  },
  {
   "cell_type": "code",
   "execution_count": 48,
   "outputs": [
    {
     "data": {
      "text/plain": "  0%|          | 0/500 [00:00<?, ?it/s]",
      "application/vnd.jupyter.widget-view+json": {
       "version_major": 2,
       "version_minor": 0,
       "model_id": "78baebbc14b64f789343420dee00ebdf"
      }
     },
     "metadata": {},
     "output_type": "display_data"
    }
   ],
   "source": [
    "ac_eval_scores_after_500 =  autil.evaluate_algorithm(agent_ac, env_moderate, n_episodes=500, max_ep_steps=ENV_SIZE,\n",
    "                                                     clip_action=False)"
   ],
   "metadata": {
    "collapsed": false,
    "pycharm": {
     "name": "#%%\n"
    }
   }
  },
  {
   "cell_type": "code",
   "execution_count": 59,
   "outputs": [
    {
     "data": {
      "text/plain": "  0%|          | 0/500 [00:00<?, ?it/s]",
      "application/vnd.jupyter.widget-view+json": {
       "version_major": 2,
       "version_minor": 0,
       "model_id": "712a12c47c2d48ca9e753151f58d54b3"
      }
     },
     "metadata": {},
     "output_type": "display_data"
    }
   ],
   "source": [
    "vpg_eval_scores_after_500 =  autil.evaluate_algorithm(agent_vpg, env_moderate, n_episodes=500, max_ep_steps=ENV_SIZE,\n",
    "                                                     clip_action=False)"
   ],
   "metadata": {
    "collapsed": false,
    "pycharm": {
     "name": "#%%\n"
    }
   }
  },
  {
   "cell_type": "code",
   "execution_count": 68,
   "outputs": [],
   "source": [
    "if not os.path.exists(results_dir):\n",
    "    os.mkdir(results_dir)"
   ],
   "metadata": {
    "collapsed": false,
    "pycharm": {
     "name": "#%%\n"
    }
   }
  },
  {
   "cell_type": "code",
   "execution_count": 88,
   "id": "d90a78dc-231a-4550-806d-fb735b6525fb",
   "metadata": {
    "pycharm": {
     "name": "#%%\n"
    }
   },
   "outputs": [
    {
     "data": {
      "text/plain": "<Figure size 720x720 with 1 Axes>",
      "image/png": "[encoded data removed]"
     },
     "metadata": {
      "needs_background": "light"
     },
     "output_type": "display_data"
    }
   ],
   "source": [
    "plt.figure(figsize=(10, 10))\n",
    "sns.histplot(dummy_scores, color='yellow', label='Baseline')\n",
    "sns.histplot(ppo_eval_scores_after, color='red', label='PPO after training')\n",
    "sns.histplot(ac_eval_scores_after_500, color='purple', label='AC after training')\n",
    "sns.histplot(vpg_eval_scores_after_500, color='pink', label='VPG after training')\n",
    "sns.histplot(random_scores, color='green', label='Random')\n",
    "plt.title(\"Scores histogram - 500 simulation\")\n",
    "plt.legend()\n",
    "plt.savefig(f\"./{results_dir}/scores_histogram.png\")"
   ]
  },
  {
   "cell_type": "code",
   "execution_count": 105,
   "id": "b6a7ecb6-9093-4917-a392-15f0410d59b0",
   "metadata": {
    "pycharm": {
     "name": "#%%\n"
    }
   },
   "outputs": [
    {
     "data": {
      "text/plain": "           random    PPO after     AC after    VPG after     baseline\ncount  500.000000   500.000000   500.000000   500.000000   500.000000\nmean  -266.278699  3145.002002  1524.030003  1649.710533  1696.866226\nstd    187.548901  1426.585874   668.603399   653.539123  1081.587382\nmin   -679.081834  -300.000000  -160.475944  -186.000527  -152.919976\n25%   -352.753367  2583.208931  1293.544828  1424.717208  1262.928403\n50%   -171.602811  3471.829401  1640.094288  1721.975024  2050.941616\n75%   -112.154216  4247.227386  1941.225954  2032.349058  2474.496026\nmax    -65.680510  5137.743008  3007.204907  3033.989365  3472.509295",
      "text/html": "<div>\n<style scoped>\n    .dataframe tbody tr th:only-of-type {\n        vertical-align: middle;\n    }\n\n    .dataframe tbody tr th {\n        vertical-align: top;\n    }\n\n    .dataframe thead th {\n        text-align: right;\n    }\n</style>\n<table border=\"1\" class=\"dataframe\">\n  <thead>\n    <tr style=\"text-align: right;\">\n      <th></th>\n      <th>random</th>\n      <th>PPO after</th>\n      <th>AC after</th>\n      <th>VPG after</th>\n      <th>baseline</th>\n    </tr>\n  </thead>\n  <tbody>\n    <tr>\n      <th>count</th>\n      <td>500.000000</td>\n      <td>500.000000</td>\n      <td>500.000000</td>\n      <td>500.000000</td>\n      <td>500.000000</td>\n    </tr>\n    <tr>\n      <th>mean</th>\n      <td>-266.278699</td>\n      <td>3145.002002</td>\n      <td>1524.030003</td>\n      <td>1649.710533</td>\n      <td>1696.866226</td>\n    </tr>\n    <tr>\n      <th>std</th>\n      <td>187.548901</td>\n      <td>1426.585874</td>\n      <td>668.603399</td>\n      <td>653.539123</td>\n      <td>1081.587382</td>\n    </tr>\n    <tr>\n      <th>min</th>\n      <td>-679.081834</td>\n      <td>-300.000000</td>\n      <td>-160.475944</td>\n      <td>-186.000527</td>\n      <td>-152.919976</td>\n    </tr>\n    <tr>\n      <th>25%</th>\n      <td>-352.753367</td>\n      <td>2583.208931</td>\n      <td>1293.544828</td>\n      <td>1424.717208</td>\n      <td>1262.928403</td>\n    </tr>\n    <tr>\n      <th>50%</th>\n      <td>-171.602811</td>\n      <td>3471.829401</td>\n      <td>1640.094288</td>\n      <td>1721.975024</td>\n      <td>2050.941616</td>\n    </tr>\n    <tr>\n      <th>75%</th>\n      <td>-112.154216</td>\n      <td>4247.227386</td>\n      <td>1941.225954</td>\n      <td>2032.349058</td>\n      <td>2474.496026</td>\n    </tr>\n    <tr>\n      <th>max</th>\n      <td>-65.680510</td>\n      <td>5137.743008</td>\n      <td>3007.204907</td>\n      <td>3033.989365</td>\n      <td>3472.509295</td>\n    </tr>\n  </tbody>\n</table>\n</div>"
     },
     "execution_count": 105,
     "metadata": {},
     "output_type": "execute_result"
    }
   ],
   "source": [
    "result_df = pd.DataFrame({\n",
    "    #'PPO before': ppo_scores_before,\n",
    "    #'AC before': ac_scores_before,\n",
    "    #'VPG before': vpg_scores_before,\n",
    "    'random': random_scores,\n",
    "    'PPO after': ppo_eval_scores_after,\n",
    "    'AC after': ac_eval_scores_after_500,\n",
    "    'VPG after': vpg_eval_scores_after_500,\n",
    "    'baseline': dummy_scores, })\n",
    "result_df.describe()"
   ]
  },
  {
   "cell_type": "code",
   "execution_count": 71,
   "id": "a6a4bf6e-f298-4688-becb-59c55535815a",
   "metadata": {
    "pycharm": {
     "name": "#%%\n"
    }
   },
   "outputs": [],
   "source": [
    "result_df.to_csv(os.path.join(results_dir, \"scores_moderate_env.csv\"), index=False)"
   ]
  },
  {
   "cell_type": "code",
   "execution_count": 106,
   "id": "d7b62a5a-427b-4a37-8dfc-76ef19b87d35",
   "metadata": {
    "pycharm": {
     "name": "#%%\n"
    }
   },
   "outputs": [
    {
     "data": {
      "text/plain": "0.0"
     },
     "execution_count": 106,
     "metadata": {},
     "output_type": "execute_result"
    }
   ],
   "source": [
    "stat, pval = st.levene(*[result_df[c] for c in result_df.columns])\n",
    "pval.round(4)"
   ]
  },
  {
   "cell_type": "code",
   "execution_count": 126,
   "outputs": [
    {
     "data": {
      "text/plain": "ShapiroResult(statistic=0.8906074166297913, pvalue=2.2188356857619887e-18)"
     },
     "execution_count": 126,
     "metadata": {},
     "output_type": "execute_result"
    }
   ],
   "source": [
    "st.shapiro(result_df['VPG after'])"
   ],
   "metadata": {
    "collapsed": false,
    "pycharm": {
     "name": "#%%\n"
    }
   }
  },
  {
   "cell_type": "code",
   "execution_count": 108,
   "outputs": [
    {
     "data": {
      "text/plain": "ShapiroResult(statistic=0.9959970116615295, pvalue=0.2937912940979004)"
     },
     "execution_count": 108,
     "metadata": {},
     "output_type": "execute_result"
    }
   ],
   "source": [
    "st.shapiro(result_df['VPG after'].loc[result_df['VPG after'] > 500])"
   ],
   "metadata": {
    "collapsed": false,
    "pycharm": {
     "name": "#%%\n"
    }
   }
  },
  {
   "cell_type": "code",
   "execution_count": 109,
   "id": "9ada66b3-90e9-49ac-b4ee-ca93a1aeb63b",
   "metadata": {
    "pycharm": {
     "name": "#%%\n"
    }
   },
   "outputs": [
    {
     "data": {
      "text/plain": "  Source  ddof1        ddof2            F  p-unc       np2\n0  model      4  1080.512772  2581.866768    0.0  0.588618",
      "text/html": "<div>\n<style scoped>\n    .dataframe tbody tr th:only-of-type {\n        vertical-align: middle;\n    }\n\n    .dataframe tbody tr th {\n        vertical-align: top;\n    }\n\n    .dataframe thead th {\n        text-align: right;\n    }\n</style>\n<table border=\"1\" class=\"dataframe\">\n  <thead>\n    <tr style=\"text-align: right;\">\n      <th></th>\n      <th>Source</th>\n      <th>ddof1</th>\n      <th>ddof2</th>\n      <th>F</th>\n      <th>p-unc</th>\n      <th>np2</th>\n    </tr>\n  </thead>\n  <tbody>\n    <tr>\n      <th>0</th>\n      <td>model</td>\n      <td>4</td>\n      <td>1080.512772</td>\n      <td>2581.866768</td>\n      <td>0.0</td>\n      <td>0.588618</td>\n    </tr>\n  </tbody>\n</table>\n</div>"
     },
     "execution_count": 109,
     "metadata": {},
     "output_type": "execute_result"
    }
   ],
   "source": [
    "melted_df = result_df.melt(var_name='model')\n",
    "result = pg.welch_anova(melted_df, dv='value', between='model')\n",
    "result"
   ]
  },
  {
   "cell_type": "code",
   "execution_count": 115,
   "outputs": [
    {
     "data": {
      "text/plain": "Index(['model', 'value'], dtype='object')"
     },
     "execution_count": 115,
     "metadata": {},
     "output_type": "execute_result"
    }
   ],
   "source": [
    "melted_df.columns"
   ],
   "metadata": {
    "collapsed": false,
    "pycharm": {
     "name": "#%%\n"
    }
   }
  },
  {
   "cell_type": "code",
   "execution_count": 118,
   "outputs": [
    {
     "data": {
      "text/plain": "<Figure size 432x288 with 1 Axes>",
      "image/png": "[encoded data removed]"
     },
     "metadata": {
      "needs_background": "light"
     },
     "output_type": "display_data"
    }
   ],
   "source": [
    "sns.boxplot(data=melted_df, x='model', y='value')\n",
    "plt.title(\"Distribution of scores - moderate env\");"
   ],
   "metadata": {
    "collapsed": false,
    "pycharm": {
     "name": "#%%\n"
    }
   }
  },
  {
   "cell_type": "code",
   "execution_count": 140,
   "outputs": [
    {
     "data": {
      "text/plain": "Text(0.5, 1.0, 'Algorithm scores density - moderate env')"
     },
     "execution_count": 140,
     "metadata": {},
     "output_type": "execute_result"
    },
    {
     "data": {
      "text/plain": "<Figure size 443.5x360 with 1 Axes>",
      "image/png": "[encoded data removed]"
     },
     "metadata": {
      "needs_background": "light"
     },
     "output_type": "display_data"
    }
   ],
   "source": [
    "sns.displot(data=melted_df, x='value', hue='model', kind='kde')\n",
    "plt.title(\"Algorithm scores density - moderate env\")"
   ],
   "metadata": {
    "collapsed": false,
    "pycharm": {
     "name": "#%%\n"
    }
   }
  },
  {
   "cell_type": "code",
   "execution_count": 110,
   "id": "919beef0-6467-4784-b95f-67d47bca826b",
   "metadata": {
    "pycharm": {
     "name": "#%%\n"
    }
   },
   "outputs": [
    {
     "data": {
      "text/plain": "           A          B      mean(A)      mean(B)         diff         se  \\\n0   AC after  PPO after  1524.030003  3145.002002 -1620.971999  70.458183   \n1   AC after  VPG after  1524.030003  1649.710533  -125.680529  41.812531   \n2   AC after   baseline  1524.030003  1696.866226  -172.836223  56.865838   \n3   AC after     random  1524.030003  -266.278699  1790.308702  31.054954   \n4  PPO after  VPG after  3145.002002  1649.710533  1495.291470  70.174933   \n5  PPO after   baseline  3145.002002  1696.866226  1448.135776  80.062207   \n6  PPO after     random  3145.002002  -266.278699  3411.280701  64.347834   \n7  VPG after   baseline  1649.710533  1696.866226   -47.155693  56.514505   \n8  VPG after     random  1649.710533  -266.278699  1915.989232  30.406841   \n9   baseline     random  1696.866226  -266.278699  1963.144925  49.091870   \n\n           T          df      pval     cohen  \n0 -23.006157  708.125825  0.001000 -1.455037  \n1  -3.005810  997.482164  0.022731 -0.190104  \n2  -3.039368  831.774701  0.020604 -0.192227  \n3  57.649697  577.044420  0.001000  3.646087  \n4  21.308057  699.612850  0.001000  1.347640  \n5  18.087632  930.193328  0.001000  1.143962  \n6  53.013140  516.243842  0.001000  3.352845  \n7  -0.834400  820.517385  0.900000 -0.052772  \n8  63.011783  580.635841  0.001000  3.985215  \n9  39.989206  528.980847  0.001000  2.529139  ",
      "text/html": "<div>\n<style scoped>\n    .dataframe tbody tr th:only-of-type {\n        vertical-align: middle;\n    }\n\n    .dataframe tbody tr th {\n        vertical-align: top;\n    }\n\n    .dataframe thead th {\n        text-align: right;\n    }\n</style>\n<table border=\"1\" class=\"dataframe\">\n  <thead>\n    <tr style=\"text-align: right;\">\n      <th></th>\n      <th>A</th>\n      <th>B</th>\n      <th>mean(A)</th>\n      <th>mean(B)</th>\n      <th>diff</th>\n      <th>se</th>\n      <th>T</th>\n      <th>df</th>\n      <th>pval</th>\n      <th>cohen</th>\n    </tr>\n  </thead>\n  <tbody>\n    <tr>\n      <th>0</th>\n      <td>AC after</td>\n      <td>PPO after</td>\n      <td>1524.030003</td>\n      <td>3145.002002</td>\n      <td>-1620.971999</td>\n      <td>70.458183</td>\n      <td>-23.006157</td>\n      <td>708.125825</td>\n      <td>0.001000</td>\n      <td>-1.455037</td>\n    </tr>\n    <tr>\n      <th>1</th>\n      <td>AC after</td>\n      <td>VPG after</td>\n      <td>1524.030003</td>\n      <td>1649.710533</td>\n      <td>-125.680529</td>\n      <td>41.812531</td>\n      <td>-3.005810</td>\n      <td>997.482164</td>\n      <td>0.022731</td>\n      <td>-0.190104</td>\n    </tr>\n    <tr>\n      <th>2</th>\n      <td>AC after</td>\n      <td>baseline</td>\n      <td>1524.030003</td>\n      <td>1696.866226</td>\n      <td>-172.836223</td>\n      <td>56.865838</td>\n      <td>-3.039368</td>\n      <td>831.774701</td>\n      <td>0.020604</td>\n      <td>-0.192227</td>\n    </tr>\n    <tr>\n      <th>3</th>\n      <td>AC after</td>\n      <td>random</td>\n      <td>1524.030003</td>\n      <td>-266.278699</td>\n      <td>1790.308702</td>\n      <td>31.054954</td>\n      <td>57.649697</td>\n      <td>577.044420</td>\n      <td>0.001000</td>\n      <td>3.646087</td>\n    </tr>\n    <tr>\n      <th>4</th>\n      <td>PPO after</td>\n      <td>VPG after</td>\n      <td>3145.002002</td>\n      <td>1649.710533</td>\n      <td>1495.291470</td>\n      <td>70.174933</td>\n      <td>21.308057</td>\n      <td>699.612850</td>\n      <td>0.001000</td>\n      <td>1.347640</td>\n    </tr>\n    <tr>\n      <th>5</th>\n      <td>PPO after</td>\n      <td>baseline</td>\n      <td>3145.002002</td>\n      <td>1696.866226</td>\n      <td>1448.135776</td>\n      <td>80.062207</td>\n      <td>18.087632</td>\n      <td>930.193328</td>\n      <td>0.001000</td>\n      <td>1.143962</td>\n    </tr>\n    <tr>\n      <th>6</th>\n      <td>PPO after</td>\n      <td>random</td>\n      <td>3145.002002</td>\n      <td>-266.278699</td>\n      <td>3411.280701</td>\n      <td>64.347834</td>\n      <td>53.013140</td>\n      <td>516.243842</td>\n      <td>0.001000</td>\n      <td>3.352845</td>\n    </tr>\n    <tr>\n      <th>7</th>\n      <td>VPG after</td>\n      <td>baseline</td>\n      <td>1649.710533</td>\n      <td>1696.866226</td>\n      <td>-47.155693</td>\n      <td>56.514505</td>\n      <td>-0.834400</td>\n      <td>820.517385</td>\n      <td>0.900000</td>\n      <td>-0.052772</td>\n    </tr>\n    <tr>\n      <th>8</th>\n      <td>VPG after</td>\n      <td>random</td>\n      <td>1649.710533</td>\n      <td>-266.278699</td>\n      <td>1915.989232</td>\n      <td>30.406841</td>\n      <td>63.011783</td>\n      <td>580.635841</td>\n      <td>0.001000</td>\n      <td>3.985215</td>\n    </tr>\n    <tr>\n      <th>9</th>\n      <td>baseline</td>\n      <td>random</td>\n      <td>1696.866226</td>\n      <td>-266.278699</td>\n      <td>1963.144925</td>\n      <td>49.091870</td>\n      <td>39.989206</td>\n      <td>528.980847</td>\n      <td>0.001000</td>\n      <td>2.529139</td>\n    </tr>\n  </tbody>\n</table>\n</div>"
     },
     "execution_count": 110,
     "metadata": {},
     "output_type": "execute_result"
    }
   ],
   "source": [
    "pairwise_test = pg.pairwise_gameshowell(melted_df, dv='value', between='model', effsize='cohen')\n",
    "pairwise_test"
   ]
  },
  {
   "cell_type": "code",
   "execution_count": 89,
   "outputs": [],
   "source": [
    "pairwise_test.to_csv(os.path.join(results_dir, \"pairwise_test_res_moderate_env.csv\"), index=False)"
   ],
   "metadata": {
    "collapsed": false,
    "pycharm": {
     "name": "#%%\n"
    }
   }
  }
 ],
 "metadata": {
  "kernelspec": {
   "display_name": "Python 3 (ipykernel)",
   "language": "python",
   "name": "python3"
  },
  "language_info": {
   "codemirror_mode": {
    "name": "ipython",
    "version": 3
   },
   "file_extension": ".py",
   "mimetype": "text/x-python",
   "name": "python",
   "nbconvert_exporter": "python",
   "pygments_lexer": "ipython3",
   "version": "3.9.7"
  }
 },
 "nbformat": 4,
 "nbformat_minor": 5
}