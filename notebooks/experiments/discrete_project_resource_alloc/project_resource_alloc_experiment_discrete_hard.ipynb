{
 "cells": [
  {
   "cell_type": "markdown",
   "id": "4f340565-6f53-4075-b7bb-f53f4e45c7cb",
   "metadata": {
    "pycharm": {
     "name": "#%% md\n"
    }
   },
   "source": [
    "# Intro"
   ]
  },
  {
   "cell_type": "markdown",
   "id": "ae09bf37-fd06-4604-b569-a2db64e7e027",
   "metadata": {
    "pycharm": {
     "name": "#%% md\n"
    }
   },
   "source": [
    "# Libraries"
   ]
  },
  {
   "cell_type": "code",
   "execution_count": 211,
   "id": "2e8b8f20-430f-4ae5-be7e-8a973d82fbbb",
   "metadata": {
    "pycharm": {
     "name": "#%%\n"
    }
   },
   "outputs": [],
   "source": [
    "import gc\n",
    "import logging\n",
    "import os\n",
    "import shutil\n",
    "\n",
    "import matplotlib.pyplot as plt\n",
    "import mlflow as mlf\n",
    "import numpy as np\n",
    "import pandas as pd\n",
    "import pingouin as pg\n",
    "import scipy.stats as st\n",
    "import seaborn as sns\n",
    "import tensorflow as tf\n",
    "import tensorflow.keras as krs\n",
    "import tensorflow_probability as tfp\n",
    "\n",
    "import src.algorithms.advantages as adv\n",
    "import src.algorithms.algo_utils as autil\n",
    "import src.algorithms.dummy as dummy\n",
    "import src.algorithms.policy_gradient.tf2.ac as ac\n",
    "import src.algorithms.policy_gradient.tf2.ppo as ppo\n",
    "import src.algorithms.policy_gradient.tf2.vpg as vpg\n",
    "import src.models.base_models.tf2.policy_nets as policy_nets\n",
    "import src.models.base_models.tf2.value_nets as vnets\n",
    "import src.utils as util\n",
    "from src.envs.resource_allocation_env import DiscreteProjectsEnv, DiscreteProjectOptimizerAgent"
   ]
  },
  {
   "cell_type": "code",
   "execution_count": 2,
   "id": "dc0ea6fe-5c9b-4514-845e-94f588df3170",
   "metadata": {
    "pycharm": {
     "name": "#%%\n"
    }
   },
   "outputs": [],
   "source": [
    "from importlib import reload"
   ]
  },
  {
   "cell_type": "code",
   "execution_count": 3,
   "id": "3ce7de33-c87c-4fd0-ad74-2494dccc78a7",
   "metadata": {
    "pycharm": {
     "name": "#%%\n"
    }
   },
   "outputs": [],
   "source": [
    "dummy = reload(dummy)"
   ]
  },
  {
   "cell_type": "code",
   "execution_count": 212,
   "outputs": [],
   "source": [
    "log = logging.getLogger()\n",
    "log.setLevel(logging.INFO)\n",
    "std_handler = logging.StreamHandler(sys.stdout)\n",
    "log.addHandler(std_handler)"
   ],
   "metadata": {
    "collapsed": false,
    "pycharm": {
     "name": "#%%\n"
    }
   }
  },
  {
   "cell_type": "code",
   "execution_count": 213,
   "outputs": [
    {
     "name": "stderr",
     "output_type": "stream",
     "text": [
      "2022/04/02 11:35:19 INFO mlflow.tracking.fluent: Autologging successfully enabled for statsmodels.\n",
      "2022/04/02 11:35:19 WARNING mlflow.utils.autologging_utils: You are using an unsupported version of tensorflow. If you encounter errors during autologging, try upgrading / downgrading tensorflow to a supported version, or try upgrading MLflow.\n",
      "2022/04/02 11:35:19 WARNING mlflow.utils.autologging_utils: You are using an unsupported version of keras. If you encounter errors during autologging, try upgrading / downgrading keras to a supported version, or try upgrading MLflow.\n",
      "C:\\Users\\fwojcik\\Anaconda3\\envs\\py39\\lib\\site-packages\\mlflow\\utils\\autologging_utils\\__init__.py:410: FutureWarning: Autologging support for keras >= 2.6.0 has been deprecated and will be removed in a future MLflow release. Use `mlflow.tensorflow.autolog()` instead.\n",
      "  return _autolog(*args, **kwargs)\n"
     ]
    }
   ],
   "source": [
    "mlf.autolog()\n",
    "mlf.tensorflow.autolog()\n",
    "mlf.keras.autolog()"
   ],
   "metadata": {
    "collapsed": false,
    "pycharm": {
     "name": "#%%\n"
    }
   }
  },
  {
   "cell_type": "markdown",
   "id": "cf25aa71-1404-4125-9963-01b5fa48ab06",
   "metadata": {
    "pycharm": {
     "name": "#%% md\n"
    }
   },
   "source": [
    "# Hard env"
   ]
  },
  {
   "cell_type": "code",
   "execution_count": 139,
   "id": "cc81e93e-dc34-4ffd-ad92-a33931b2df02",
   "metadata": {
    "pycharm": {
     "name": "#%%\n"
    }
   },
   "outputs": [],
   "source": [
    "ENV_SIZE = 300"
   ]
  },
  {
   "cell_type": "code",
   "execution_count": 214,
   "id": "7a183734-e67e-4f8e-9eef-7c54a7077596",
   "metadata": {
    "pycharm": {
     "name": "#%%\n"
    }
   },
   "outputs": [
    {
     "name": "stderr",
     "output_type": "stream",
     "text": [
      "C:\\Users\\fwojcik\\Anaconda3\\envs\\py39\\lib\\site-packages\\gym\\logger.py:34: UserWarning: \u001B[33mWARN: Box bound precision lowered by casting to float32\u001B[0m\n",
      "  warnings.warn(colorize(\"%s: %s\" % (\"WARN\", msg % args), \"yellow\"))\n"
     ]
    }
   ],
   "source": [
    "env_hard = DiscreteProjectsEnv(\n",
    "    start_resource=100,\n",
    "    start_cash=100,\n",
    "    upkeep_cost=-1,\n",
    "    min_payout=-0.5,\n",
    "    max_payout=1.5,\n",
    "    payout_mean=1.0,\n",
    "    payout_std=0.5,\n",
    "    size=ENV_SIZE,\n",
    "    distrib_prob=tfp.distributions.TruncatedNormal(0.3, 0.2, 0.0, 1.0),\n",
    "    balance_is_reward=False,\n",
    "    stochastic=True)\n",
    "\n",
    "s_dim = env_hard.observation_space.shape[0]\n",
    "a_dim = env_hard.action_space.n"
   ]
  },
  {
   "cell_type": "code",
   "execution_count": 215,
   "id": "db720fa3-d859-4156-944c-47d8132fda65",
   "metadata": {
    "pycharm": {
     "name": "#%%\n"
    }
   },
   "outputs": [
    {
     "data": {
      "text/plain": "<AxesSubplot:>"
     },
     "execution_count": 215,
     "metadata": {},
     "output_type": "execute_result"
    },
    {
     "data": {
      "text/plain": "<Figure size 432x288 with 1 Axes>",
      "image/png": "[encoded data removed]"
     },
     "metadata": {
      "needs_background": "light"
     },
     "output_type": "display_data"
    }
   ],
   "source": [
    "env_hard.projects.proj_1_payouts.hist()"
   ]
  },
  {
   "cell_type": "code",
   "execution_count": 216,
   "id": "4fae6e6a-fd46-4a88-a696-bff0f4d8e054",
   "metadata": {
    "pycharm": {
     "name": "#%%\n"
    }
   },
   "outputs": [
    {
     "data": {
      "text/plain": "<AxesSubplot:>"
     },
     "execution_count": 216,
     "metadata": {},
     "output_type": "execute_result"
    },
    {
     "data": {
      "text/plain": "<Figure size 432x288 with 1 Axes>",
      "image/png": "[encoded data removed]"
     },
     "metadata": {
      "needs_background": "light"
     },
     "output_type": "display_data"
    }
   ],
   "source": [
    "env_hard.projects.proj_2_payouts.hist()"
   ]
  },
  {
   "cell_type": "markdown",
   "id": "6274d998-44be-404c-b71c-22525802a993",
   "metadata": {
    "pycharm": {
     "name": "#%% md\n"
    }
   },
   "source": [
    "## Agents"
   ]
  },
  {
   "cell_type": "markdown",
   "source": [
    "#### PPO"
   ],
   "metadata": {
    "collapsed": false,
    "pycharm": {
     "name": "#%% md\n"
    }
   }
  },
  {
   "cell_type": "code",
   "execution_count": 252,
   "id": "63ae4590-5087-442f-a1dd-a8e87d228d61",
   "metadata": {
    "pycharm": {
     "name": "#%%\n"
    }
   },
   "outputs": [
    {
     "name": "stdout",
     "output_type": "stream",
     "text": [
      "825\n"
     ]
    }
   ],
   "source": [
    "krs.backend.clear_session()\n",
    "print(gc.collect())\n",
    "\n",
    "s_dim = env_hard.observation_space.shape[0]\n",
    "a_dim = env_hard.action_space.n\n",
    "\n",
    "initializer = krs.initializers.HeNormal()\n",
    "policy_net_ppo = policy_nets.DiscretePolicyNet(a_dim, [128, 128], 'tanh', hidden_initializer=initializer, out_initializer=initializer)\n",
    "value_net_ppo = vnets.ValueNet(s_dim, [64, 64], h_act='tanh', out_act='linear', initializer=initializer)\n",
    "\n",
    "policy_opt = krs.optimizers.Adam(0.0003, clipnorm=1.)\n",
    "value_opt = krs.optimizers.Adam(0.0003, clipnorm=1.)\n",
    "\n",
    "agent_ppo = ppo.PPO(\n",
    "    policy_net_ppo,\n",
    "    value_net_ppo,\n",
    "    policy_opt,\n",
    "    value_opt,\n",
    "    adv.GAE,\n",
    "    n_agents=5,\n",
    "    clipping_eps=0.2,\n",
    "    entropy_coef=0.01)"
   ]
  },
  {
   "cell_type": "code",
   "execution_count": 219,
   "outputs": [],
   "source": [
    "x = krs.layers.Input((1, 8), name='State input')\n",
    "policy_net_viz = krs.models.Model(inputs=[x], outputs=policy_net_ppo.call(x))"
   ],
   "metadata": {
    "collapsed": false,
    "pycharm": {
     "name": "#%%\n"
    }
   }
  },
  {
   "cell_type": "code",
   "execution_count": 220,
   "outputs": [
    {
     "data": {
      "image/png": "[encoded data removed]",
      "text/plain": "<IPython.core.display.Image object>"
     },
     "execution_count": 220,
     "metadata": {},
     "output_type": "execute_result"
    }
   ],
   "source": [
    "krs.utils.plot_model(policy_net_viz, show_shapes=True)"
   ],
   "metadata": {
    "collapsed": false,
    "pycharm": {
     "name": "#%%\n"
    }
   }
  },
  {
   "cell_type": "code",
   "execution_count": 221,
   "outputs": [
    {
     "name": "stdout",
     "output_type": "stream",
     "text": [
      "WARNING:tensorflow:Model was constructed with shape (None, 8) for input KerasTensor(type_spec=TensorSpec(shape=(None, 8), dtype=tf.float32, name='input_1'), name='input_1', description=\"created by layer 'input_1'\"), but it was called on an input with incompatible shape (None, 1, 8).\n",
      "Model was constructed with shape (None, 8) for input KerasTensor(type_spec=TensorSpec(shape=(None, 8), dtype=tf.float32, name='input_1'), name='input_1', description=\"created by layer 'input_1'\"), but it was called on an input with incompatible shape (None, 1, 8).\n",
      "Model was constructed with shape (None, 8) for input KerasTensor(type_spec=TensorSpec(shape=(None, 8), dtype=tf.float32, name='input_1'), name='input_1', description=\"created by layer 'input_1'\"), but it was called on an input with incompatible shape (None, 1, 8).\n"
     ]
    },
    {
     "data": {
      "image/png": "[encoded data removed]",
      "text/plain": "<IPython.core.display.Image object>"
     },
     "execution_count": 221,
     "metadata": {},
     "output_type": "execute_result"
    }
   ],
   "source": [
    "value_net_viz = krs.models.Model(inputs=[x], outputs=value_net_ppo.state_value(x))\n",
    "krs.utils.plot_model(value_net_viz, show_shapes=True)"
   ],
   "metadata": {
    "collapsed": false,
    "pycharm": {
     "name": "#%%\n"
    }
   }
  },
  {
   "cell_type": "markdown",
   "source": [
    "#### AC"
   ],
   "metadata": {
    "collapsed": false,
    "pycharm": {
     "name": "#%% md\n"
    }
   }
  },
  {
   "cell_type": "code",
   "execution_count": 262,
   "outputs": [],
   "source": [
    "policy_net_ac = policy_nets.DiscretePolicyNet(a_dim, [128, 128], 'tanh', hidden_initializer=initializer, out_initializer=initializer)\n",
    "value_net_ac = vnets.ValueNet(s_dim, [64, 64], h_act='tanh', out_act='linear', initializer=initializer)\n",
    "\n",
    "agent_ac = ac.ActorCrtic(\n",
    "    policy_net_ac,\n",
    "    value_net_ac,\n",
    "    krs.optimizers.Adam(0.0003, clipnorm=1.),\n",
    "    krs.optimizers.Adam(0.0003, clipnorm=1.),\n",
    "    adv.GAE,\n",
    "    entropy_coef=0.01)"
   ],
   "metadata": {
    "collapsed": false,
    "pycharm": {
     "name": "#%%\n"
    }
   }
  },
  {
   "cell_type": "markdown",
   "source": [
    "#### VPG"
   ],
   "metadata": {
    "collapsed": false,
    "pycharm": {
     "name": "#%% md\n"
    }
   }
  },
  {
   "cell_type": "code",
   "execution_count": 270,
   "outputs": [],
   "source": [
    "policy_net_vpg = policy_nets.DiscretePolicyNet(a_dim, [128, 128], 'tanh', hidden_initializer=initializer, out_initializer=initializer)\n",
    "value_net_vpg = vnets.ValueNet(s_dim, [64, 64], h_act='tanh', out_act='linear', initializer=initializer)\n",
    "\n",
    "agent_vpg = vpg.VPG(\n",
    "    policy_net_vpg,\n",
    "    value_net_vpg,\n",
    "    adv.GAE,\n",
    "    policy_opt=krs.optimizers.Adam(0.0003, clipnorm=1.),\n",
    "    value_opt=krs.optimizers.Adam(0.0003, clipnorm=1.),\n",
    "    entropy_coef=0.01)"
   ],
   "metadata": {
    "collapsed": false,
    "pycharm": {
     "name": "#%%\n"
    }
   }
  },
  {
   "cell_type": "code",
   "execution_count": 224,
   "id": "8c8e4f90-76dc-4260-b803-693ed1577290",
   "metadata": {
    "pycharm": {
     "name": "#%%\n"
    }
   },
   "outputs": [],
   "source": [
    "dummy_agent = DiscreteProjectOptimizerAgent(env_hard)"
   ]
  },
  {
   "cell_type": "code",
   "execution_count": 225,
   "id": "d919748f-9011-4136-aed4-45b39221a84b",
   "metadata": {
    "pycharm": {
     "name": "#%%\n"
    }
   },
   "outputs": [],
   "source": [
    "random_agent = dummy.DummyAgent(env_hard)"
   ]
  },
  {
   "cell_type": "markdown",
   "id": "59fbaab3-bbe3-46d0-ae43-a062d67dd63a",
   "metadata": {
    "pycharm": {
     "name": "#%% md\n"
    }
   },
   "source": [
    "## Evaluate before training"
   ]
  },
  {
   "cell_type": "code",
   "execution_count": 253,
   "id": "52bda543-c582-4ff0-ba59-41d02bdb9afe",
   "metadata": {
    "pycharm": {
     "name": "#%%\n"
    }
   },
   "outputs": [
    {
     "data": {
      "text/plain": "  0%|          | 0/500 [00:00<?, ?it/s]",
      "application/vnd.jupyter.widget-view+json": {
       "version_major": 2,
       "version_minor": 0,
       "model_id": "5d918b58c1ed46b2aefdb0da29e38e5b"
      }
     },
     "metadata": {},
     "output_type": "display_data"
    }
   ],
   "source": [
    "ppo_scores_before = autil.evaluate_algorithm(agent_ppo, env_hard, n_episodes=500, max_ep_steps=ENV_SIZE, clip_action=False)"
   ]
  },
  {
   "cell_type": "code",
   "execution_count": 227,
   "outputs": [
    {
     "data": {
      "text/plain": "  0%|          | 0/500 [00:00<?, ?it/s]",
      "application/vnd.jupyter.widget-view+json": {
       "version_major": 2,
       "version_minor": 0,
       "model_id": "751525e1306a485c92ec0dc0db4d1c2f"
      }
     },
     "metadata": {},
     "output_type": "display_data"
    }
   ],
   "source": [
    "ac_scores_before = autil.evaluate_algorithm(agent_ac, env_hard, n_episodes=500, max_ep_steps=ENV_SIZE, clip_action=False)"
   ],
   "metadata": {
    "collapsed": false,
    "pycharm": {
     "name": "#%%\n"
    }
   }
  },
  {
   "cell_type": "code",
   "execution_count": 271,
   "outputs": [
    {
     "data": {
      "text/plain": "  0%|          | 0/500 [00:00<?, ?it/s]",
      "application/vnd.jupyter.widget-view+json": {
       "version_major": 2,
       "version_minor": 0,
       "model_id": "a0953b8bf8be4f709e78c96409825a40"
      }
     },
     "metadata": {},
     "output_type": "display_data"
    }
   ],
   "source": [
    "vpg_scores_before = autil.evaluate_algorithm(agent_vpg, env_hard, n_episodes=500, max_ep_steps=ENV_SIZE, clip_action=False)"
   ],
   "metadata": {
    "collapsed": false,
    "pycharm": {
     "name": "#%%\n"
    }
   }
  },
  {
   "cell_type": "code",
   "execution_count": 229,
   "id": "d150a416-a1da-4b1c-bbe0-f2d61df41d6d",
   "metadata": {
    "pycharm": {
     "name": "#%%\n"
    }
   },
   "outputs": [
    {
     "data": {
      "text/plain": "  0%|          | 0/500 [00:00<?, ?it/s]",
      "application/vnd.jupyter.widget-view+json": {
       "version_major": 2,
       "version_minor": 0,
       "model_id": "f1c24d31691d4aa082e1bd37af87118f"
      }
     },
     "metadata": {},
     "output_type": "display_data"
    }
   ],
   "source": [
    "dummy_scores = autil.evaluate_algorithm(dummy_agent, env_hard, n_episodes=500, max_ep_steps=ENV_SIZE, clip_action=False)"
   ]
  },
  {
   "cell_type": "code",
   "execution_count": 230,
   "id": "816340ef-524f-47a8-8dae-4273916f9fdd",
   "metadata": {
    "pycharm": {
     "name": "#%%\n"
    }
   },
   "outputs": [
    {
     "data": {
      "text/plain": "  0%|          | 0/500 [00:00<?, ?it/s]",
      "application/vnd.jupyter.widget-view+json": {
       "version_major": 2,
       "version_minor": 0,
       "model_id": "7e2a7f565ae044f19396a0f7c73f8b33"
      }
     },
     "metadata": {},
     "output_type": "display_data"
    }
   ],
   "source": [
    "random_scores = autil.evaluate_algorithm(random_agent, env_hard, n_episodes=500, max_ep_steps=ENV_SIZE, clip_action=False)"
   ]
  },
  {
   "cell_type": "code",
   "execution_count": 272,
   "id": "37717f6d-76c8-41b2-8bdb-125f17f89e6f",
   "metadata": {
    "pycharm": {
     "name": "#%%\n"
    }
   },
   "outputs": [
    {
     "data": {
      "text/plain": "<matplotlib.legend.Legend at 0x2ab7f8854c0>"
     },
     "execution_count": 272,
     "metadata": {},
     "output_type": "execute_result"
    },
    {
     "data": {
      "text/plain": "<Figure size 432x288 with 1 Axes>",
      "image/png": "[encoded data removed]"
     },
     "metadata": {
      "needs_background": "light"
     },
     "output_type": "display_data"
    }
   ],
   "source": [
    "sns.histplot(ppo_scores_before, color='blue', label='PPO before')\n",
    "sns.histplot(ac_scores_before, color='purple', label='AC before')\n",
    "sns.histplot(vpg_scores_before, color='pink', label='VPG before')\n",
    "sns.histplot(dummy_scores, color='yellow', label='Baseline')\n",
    "sns.histplot(random_scores, color='green', label='Random')\n",
    "plt.legend()"
   ]
  },
  {
   "cell_type": "markdown",
   "id": "24bdc7d8-fec9-4505-b38c-f1eca009851f",
   "metadata": {
    "pycharm": {
     "name": "#%% md\n"
    }
   },
   "source": [
    "## Train agent"
   ]
  },
  {
   "cell_type": "code",
   "execution_count": 232,
   "outputs": [],
   "source": [
    "EXPERIMENT_HARD = 'projects_env_hard'"
   ],
   "metadata": {
    "collapsed": false,
    "pycharm": {
     "name": "#%%\n"
    }
   }
  },
  {
   "cell_type": "code",
   "execution_count": 233,
   "outputs": [],
   "source": [
    "experiment_id_hard = util.prepare_mlflow(EXPERIMENT_HARD)"
   ],
   "metadata": {
    "collapsed": false,
    "pycharm": {
     "name": "#%%\n"
    }
   }
  },
  {
   "cell_type": "markdown",
   "source": [
    "#### Train PPO"
   ],
   "metadata": {
    "collapsed": false,
    "pycharm": {
     "name": "#%% md\n"
    }
   }
  },
  {
   "cell_type": "code",
   "execution_count": 254,
   "id": "4eca5846-5a0a-4189-a80b-1f1ba9aa73f2",
   "metadata": {
    "tags": [],
    "pycharm": {
     "name": "#%%\n"
    }
   },
   "outputs": [
    {
     "name": "stdout",
     "output_type": "stream",
     "text": [
      "Ep: 0/600  Rewards avg.: -480.600  Loss avg.: 0.733  Time passed: 0.002/30.000\n",
      "Ep: 10/600  Rewards avg.: -245.363  Loss avg.: 0.645  Time passed: 0.097/30.000\n",
      "Ep: 20/600  Rewards avg.: -208.380  Loss avg.: 0.755  Time passed: 0.191/30.000\n",
      "Ep: 30/600  Rewards avg.: -181.523  Loss avg.: 0.763  Time passed: 0.268/30.000\n",
      "Ep: 40/600  Rewards avg.: -172.403  Loss avg.: 0.691  Time passed: 0.378/30.000\n",
      "Ep: 50/600  Rewards avg.: -191.366  Loss avg.: 0.796  Time passed: 0.518/30.000\n",
      "Ep: 60/600  Rewards avg.: -200.516  Loss avg.: 0.783  Time passed: 0.703/30.000\n",
      "Ep: 70/600  Rewards avg.: -172.132  Loss avg.: 0.756  Time passed: 0.909/30.000\n",
      "Ep: 80/600  Rewards avg.: -142.917  Loss avg.: 0.751  Time passed: 1.089/30.000\n",
      "Ep: 90/600  Rewards avg.: -137.991  Loss avg.: 0.814  Time passed: 1.211/30.000\n",
      "Ep: 100/600  Rewards avg.: -172.701  Loss avg.: 0.802  Time passed: 1.334/30.000\n",
      "Ep: 110/600  Rewards avg.: -167.418  Loss avg.: 1.004  Time passed: 1.460/30.000\n",
      "Ep: 120/600  Rewards avg.: -148.124  Loss avg.: 0.772  Time passed: 1.635/30.000\n",
      "Ep: 130/600  Rewards avg.: -115.915  Loss avg.: 0.852  Time passed: 1.853/30.000\n",
      "Ep: 140/600  Rewards avg.: -91.773  Loss avg.: 0.830  Time passed: 2.170/30.000\n",
      "Ep: 150/600  Rewards avg.: -80.225  Loss avg.: 0.957  Time passed: 2.407/30.000\n",
      "Ep: 160/600  Rewards avg.: -69.909  Loss avg.: 0.803  Time passed: 2.684/30.000\n",
      "Ep: 170/600  Rewards avg.: -67.719  Loss avg.: 0.864  Time passed: 2.914/30.000\n",
      "Ep: 180/600  Rewards avg.: -58.468  Loss avg.: 0.870  Time passed: 3.219/30.000\n",
      "Ep: 190/600  Rewards avg.: -56.737  Loss avg.: 1.037  Time passed: 3.461/30.000\n",
      "Ep: 200/600  Rewards avg.: -62.120  Loss avg.: 0.823  Time passed: 3.786/30.000\n",
      "Ep: 210/600  Rewards avg.: -34.891  Loss avg.: 0.959  Time passed: 4.231/30.000\n",
      "Ep: 220/600  Rewards avg.: 3.225  Loss avg.: 0.957  Time passed: 4.695/30.000\n",
      "Ep: 230/600  Rewards avg.: 25.403  Loss avg.: 0.935  Time passed: 5.138/30.000\n",
      "Ep: 240/600  Rewards avg.: 47.235  Loss avg.: 1.020  Time passed: 5.641/30.000\n",
      "Ep: 250/600  Rewards avg.: 63.394  Loss avg.: 1.044  Time passed: 6.223/30.000\n",
      "Ep: 260/600  Rewards avg.: 114.724  Loss avg.: 1.050  Time passed: 7.055/30.000\n",
      "Ep: 270/600  Rewards avg.: 137.842  Loss avg.: 0.992  Time passed: 7.735/30.000\n",
      "Ep: 280/600  Rewards avg.: 165.828  Loss avg.: 1.148  Time passed: 8.401/30.000\n",
      "Ep: 290/600  Rewards avg.: 178.045  Loss avg.: 1.051  Time passed: 8.986/30.000\n",
      "Ep: 300/600  Rewards avg.: 179.790  Loss avg.: 1.199  Time passed: 9.513/30.000\n",
      "Ep: 310/600  Rewards avg.: 193.681  Loss avg.: 1.081  Time passed: 10.021/30.000\n",
      "Ep: 320/600  Rewards avg.: 175.645  Loss avg.: 1.224  Time passed: 10.717/30.000\n",
      "Ep: 330/600  Rewards avg.: 168.914  Loss avg.: 1.247  Time passed: 11.726/30.000\n",
      "Ep: 340/600  Rewards avg.: 153.227  Loss avg.: 1.221  Time passed: 12.334/30.000\n",
      "Ep: 350/600  Rewards avg.: 160.098  Loss avg.: 1.393  Time passed: 12.753/30.000\n",
      "Ep: 360/600  Rewards avg.: 153.147  Loss avg.: 1.204  Time passed: 13.135/30.000\n",
      "Ep: 370/600  Rewards avg.: 142.319  Loss avg.: 1.136  Time passed: 13.547/30.000\n",
      "Ep: 380/600  Rewards avg.: 132.822  Loss avg.: 1.421  Time passed: 14.064/30.000\n",
      "Ep: 390/600  Rewards avg.: 128.536  Loss avg.: 1.500  Time passed: 14.616/30.000\n",
      "Ep: 400/600  Rewards avg.: 146.083  Loss avg.: 1.272  Time passed: 15.146/30.000\n",
      "Ep: 410/600  Rewards avg.: 182.519  Loss avg.: 1.512  Time passed: 15.757/30.000\n",
      "Ep: 420/600  Rewards avg.: 223.713  Loss avg.: 1.460  Time passed: 16.582/30.000\n",
      "Ep: 430/600  Rewards avg.: 242.613  Loss avg.: 1.358  Time passed: 17.122/30.000\n",
      "Ep: 440/600  Rewards avg.: 251.864  Loss avg.: 1.838  Time passed: 17.974/30.000\n",
      "Ep: 450/600  Rewards avg.: 249.331  Loss avg.: 1.581  Time passed: 18.537/30.000\n",
      "Ep: 460/600  Rewards avg.: 273.730  Loss avg.: 1.491  Time passed: 19.065/30.000\n",
      "Ep: 470/600  Rewards avg.: 271.474  Loss avg.: 1.675  Time passed: 19.644/30.000\n",
      "Ep: 480/600  Rewards avg.: 306.185  Loss avg.: 2.168  Time passed: 20.585/30.000\n",
      "Ep: 490/600  Rewards avg.: 302.174  Loss avg.: 1.787  Time passed: 21.394/30.000\n",
      "Ep: 500/600  Rewards avg.: 311.622  Loss avg.: 1.834  Time passed: 22.117/30.000\n",
      "Ep: 510/600  Rewards avg.: 294.233  Loss avg.: 2.018  Time passed: 22.676/30.000\n",
      "Ep: 520/600  Rewards avg.: 293.792  Loss avg.: 1.954  Time passed: 23.346/30.000\n",
      "Ep: 530/600  Rewards avg.: 297.447  Loss avg.: 1.725  Time passed: 23.878/30.000\n",
      "Ep: 540/600  Rewards avg.: 331.721  Loss avg.: 2.343  Time passed: 24.568/30.000\n",
      "Ep: 550/600  Rewards avg.: 357.442  Loss avg.: 2.049  Time passed: 25.466/30.000\n",
      "Ep: 560/600  Rewards avg.: 390.972  Loss avg.: 2.266  Time passed: 26.478/30.000\n",
      "Ep: 570/600  Rewards avg.: 407.846  Loss avg.: 2.325  Time passed: 27.270/30.000\n",
      "Ep: 580/600  Rewards avg.: 396.137  Loss avg.: 2.404  Time passed: 27.832/30.000\n",
      "Ep: 590/600  Rewards avg.: 377.743  Loss avg.: 4.992  Time passed: 29.651/30.000\n"
     ]
    }
   ],
   "source": [
    "env_hard.reset()\n",
    "with mlf.start_run(experiment_id=experiment_id_hard, run_name='PPO hard'):\n",
    "    ppo_scores_after = agent_ppo.train(env_hard, 3000, max_steps=ENV_SIZE, average_n_last=30, print_interval=10, epochs=5, batch_size=16, log=log, gamma=0.99, clip_action=False, max_train_sec=30 * 60)"
   ]
  },
  {
   "cell_type": "markdown",
   "source": [
    "#### Train AC"
   ],
   "metadata": {
    "collapsed": false,
    "pycharm": {
     "name": "#%% md\n"
    }
   }
  },
  {
   "cell_type": "code",
   "execution_count": 263,
   "outputs": [
    {
     "name": "stdout",
     "output_type": "stream",
     "text": [
      "Ep: 0/600  Rewards avg.: -300.000  Loss avg.: -0.019  Time passed: 0.001/15.000\n",
      "Ep: 10/600  Rewards avg.: -264.659  Loss avg.: 0.422  Time passed: 0.005/15.000\n",
      "Ep: 20/600  Rewards avg.: -283.692  Loss avg.: 0.602  Time passed: 0.010/15.000\n",
      "Ep: 30/600  Rewards avg.: -278.490  Loss avg.: 0.607  Time passed: 0.016/15.000\n",
      "Ep: 40/600  Rewards avg.: -258.851  Loss avg.: 0.629  Time passed: 0.023/15.000\n",
      "Ep: 50/600  Rewards avg.: -237.189  Loss avg.: 0.542  Time passed: 0.029/15.000\n",
      "Ep: 60/600  Rewards avg.: -240.234  Loss avg.: 0.409  Time passed: 0.035/15.000\n",
      "Ep: 70/600  Rewards avg.: -233.987  Loss avg.: 0.500  Time passed: 0.043/15.000\n",
      "Ep: 80/600  Rewards avg.: -208.549  Loss avg.: 0.621  Time passed: 0.056/15.000\n",
      "Ep: 90/600  Rewards avg.: -172.950  Loss avg.: 0.564  Time passed: 0.086/15.000\n",
      "Ep: 100/600  Rewards avg.: -152.335  Loss avg.: 0.607  Time passed: 0.113/15.000\n",
      "Ep: 110/600  Rewards avg.: -152.391  Loss avg.: 0.733  Time passed: 0.129/15.000\n",
      "Ep: 120/600  Rewards avg.: -139.352  Loss avg.: 0.618  Time passed: 0.136/15.000\n",
      "Ep: 130/600  Rewards avg.: -137.884  Loss avg.: 0.562  Time passed: 0.144/15.000\n",
      "Ep: 140/600  Rewards avg.: -126.668  Loss avg.: 0.547  Time passed: 0.155/15.000\n",
      "Ep: 150/600  Rewards avg.: -123.037  Loss avg.: 0.711  Time passed: 0.163/15.000\n",
      "Ep: 160/600  Rewards avg.: -130.166  Loss avg.: 0.665  Time passed: 0.180/15.000\n",
      "Ep: 170/600  Rewards avg.: -139.841  Loss avg.: 0.585  Time passed: 0.189/15.000\n",
      "Ep: 180/600  Rewards avg.: -127.387  Loss avg.: 0.723  Time passed: 0.233/15.000\n",
      "Ep: 190/600  Rewards avg.: -120.859  Loss avg.: 0.756  Time passed: 0.243/15.000\n",
      "Ep: 200/600  Rewards avg.: -84.053  Loss avg.: 0.865  Time passed: 0.284/15.000\n",
      "Ep: 210/600  Rewards avg.: -82.869  Loss avg.: 0.781  Time passed: 0.331/15.000\n",
      "Ep: 220/600  Rewards avg.: -56.017  Loss avg.: 0.767  Time passed: 0.384/15.000\n",
      "Ep: 230/600  Rewards avg.: -80.527  Loss avg.: 0.712  Time passed: 0.397/15.000\n",
      "Ep: 240/600  Rewards avg.: -121.388  Loss avg.: 0.597  Time passed: 0.405/15.000\n",
      "Ep: 250/600  Rewards avg.: -151.336  Loss avg.: 0.638  Time passed: 0.415/15.000\n",
      "Ep: 260/600  Rewards avg.: -115.691  Loss avg.: 0.750  Time passed: 0.461/15.000\n",
      "Ep: 270/600  Rewards avg.: -88.659  Loss avg.: 0.642  Time passed: 0.476/15.000\n",
      "Ep: 280/600  Rewards avg.: -48.339  Loss avg.: 0.890  Time passed: 0.522/15.000\n",
      "Ep: 290/600  Rewards avg.: -41.289  Loss avg.: 0.905  Time passed: 0.562/15.000\n",
      "Ep: 300/600  Rewards avg.: -39.457  Loss avg.: 0.997  Time passed: 0.597/15.000\n",
      "Ep: 310/600  Rewards avg.: -77.779  Loss avg.: 0.925  Time passed: 0.612/15.000\n",
      "Ep: 320/600  Rewards avg.: -118.240  Loss avg.: 0.842  Time passed: 0.629/15.000\n",
      "Ep: 330/600  Rewards avg.: -113.293  Loss avg.: 0.944  Time passed: 0.666/15.000\n",
      "Ep: 340/600  Rewards avg.: -87.080  Loss avg.: 0.865  Time passed: 0.707/15.000\n",
      "Ep: 350/600  Rewards avg.: -52.287  Loss avg.: 0.840  Time passed: 0.753/15.000\n",
      "Ep: 360/600  Rewards avg.: -61.368  Loss avg.: 0.716  Time passed: 0.780/15.000\n",
      "Ep: 370/600  Rewards avg.: -85.126  Loss avg.: 0.768  Time passed: 0.795/15.000\n",
      "Ep: 380/600  Rewards avg.: -117.736  Loss avg.: 0.882  Time passed: 0.838/15.000\n",
      "Ep: 390/600  Rewards avg.: -113.789  Loss avg.: 0.929  Time passed: 0.849/15.000\n",
      "Ep: 400/600  Rewards avg.: -115.198  Loss avg.: 0.922  Time passed: 0.859/15.000\n",
      "Ep: 410/600  Rewards avg.: -73.481  Loss avg.: 0.919  Time passed: 0.903/15.000\n",
      "Ep: 420/600  Rewards avg.: -73.157  Loss avg.: 0.951  Time passed: 0.925/15.000\n",
      "Ep: 430/600  Rewards avg.: -77.181  Loss avg.: 0.785  Time passed: 0.951/15.000\n",
      "Ep: 440/600  Rewards avg.: -71.332  Loss avg.: 0.941  Time passed: 0.999/15.000\n",
      "Ep: 450/600  Rewards avg.: -71.615  Loss avg.: 0.801  Time passed: 1.008/15.000\n",
      "Ep: 460/600  Rewards avg.: -68.064  Loss avg.: 0.757  Time passed: 1.017/15.000\n",
      "Ep: 470/600  Rewards avg.: -29.319  Loss avg.: 0.957  Time passed: 1.083/15.000\n",
      "Ep: 480/600  Rewards avg.: 71.092  Loss avg.: 0.956  Time passed: 1.151/15.000\n",
      "Ep: 490/600  Rewards avg.: 114.195  Loss avg.: 0.858  Time passed: 1.186/15.000\n",
      "Ep: 500/600  Rewards avg.: 25.449  Loss avg.: 0.762  Time passed: 1.198/15.000\n",
      "Ep: 510/600  Rewards avg.: -79.060  Loss avg.: 0.717  Time passed: 1.211/15.000\n",
      "Ep: 520/600  Rewards avg.: -28.401  Loss avg.: 0.863  Time passed: 1.292/15.000\n",
      "Ep: 530/600  Rewards avg.: 81.902  Loss avg.: 0.918  Time passed: 1.394/15.000\n",
      "Ep: 540/600  Rewards avg.: 298.704  Loss avg.: 0.969  Time passed: 1.519/15.000\n",
      "Ep: 550/600  Rewards avg.: 372.903  Loss avg.: 0.980  Time passed: 1.615/15.000\n",
      "Ep: 560/600  Rewards avg.: 580.777  Loss avg.: 0.973  Time passed: 1.818/15.000\n",
      "Ep: 570/600  Rewards avg.: 718.198  Loss avg.: 0.939  Time passed: 2.072/15.000\n",
      "Ep: 580/600  Rewards avg.: 621.127  Loss avg.: 0.912  Time passed: 2.114/15.000\n",
      "Ep: 590/600  Rewards avg.: 417.226  Loss avg.: 0.958  Time passed: 2.211/15.000\n"
     ]
    }
   ],
   "source": [
    "env_hard.reset()\n",
    "with mlf.start_run(experiment_id=experiment_id_hard, run_name='AC hard'):\n",
    "    ac_scores_after = agent_ac.train(\n",
    "        env_hard,\n",
    "        600,\n",
    "        max_steps=ENV_SIZE,\n",
    "        average_n_last=30,\n",
    "        print_interval=10,\n",
    "        log=log,\n",
    "        gamma=0.99,\n",
    "        clip_action=False,\n",
    "        max_train_sec=15*60,\n",
    "        n_steps=15)"
   ],
   "metadata": {
    "collapsed": false,
    "pycharm": {
     "name": "#%%\n"
    }
   }
  },
  {
   "cell_type": "markdown",
   "source": [
    "#### Train VPG"
   ],
   "metadata": {
    "collapsed": false,
    "pycharm": {
     "name": "#%% md\n"
    }
   }
  },
  {
   "cell_type": "code",
   "execution_count": 273,
   "outputs": [
    {
     "name": "stdout",
     "output_type": "stream",
     "text": [
      "Ep: 0/600  Rewards avg.: nan  Loss avg.: 0.981  Time passed: 0.001/15.000\n"
     ]
    },
    {
     "name": "stderr",
     "output_type": "stream",
     "text": [
      "C:\\Users\\fwojcik\\Anaconda3\\envs\\py39\\lib\\site-packages\\numpy\\core\\fromnumeric.py:3474: RuntimeWarning: Mean of empty slice.\n",
      "  return _methods._mean(a, axis=axis, dtype=dtype,\n",
      "C:\\Users\\fwojcik\\Anaconda3\\envs\\py39\\lib\\site-packages\\numpy\\core\\_methods.py:189: RuntimeWarning: invalid value encountered in double_scalars\n",
      "  ret = ret.dtype.type(ret / rcount)\n"
     ]
    },
    {
     "name": "stdout",
     "output_type": "stream",
     "text": [
      "Ep: 10/600  Rewards avg.: -322.695  Loss avg.: 0.994  Time passed: 0.007/15.000\n",
      "Ep: 20/600  Rewards avg.: -257.062  Loss avg.: 0.614  Time passed: 0.015/15.000\n",
      "Ep: 30/600  Rewards avg.: -216.048  Loss avg.: 0.302  Time passed: 0.022/15.000\n",
      "Ep: 40/600  Rewards avg.: -150.343  Loss avg.: -0.267  Time passed: 0.031/15.000\n",
      "Ep: 50/600  Rewards avg.: -120.259  Loss avg.: -0.689  Time passed: 0.039/15.000\n",
      "Ep: 60/600  Rewards avg.: -108.744  Loss avg.: -1.072  Time passed: 0.051/15.000\n",
      "Ep: 70/600  Rewards avg.: -99.658  Loss avg.: -1.385  Time passed: 0.061/15.000\n",
      "Ep: 80/600  Rewards avg.: -98.565  Loss avg.: -1.264  Time passed: 0.072/15.000\n",
      "Ep: 90/600  Rewards avg.: -98.073  Loss avg.: -0.635  Time passed: 0.081/15.000\n",
      "Ep: 100/600  Rewards avg.: -97.766  Loss avg.: 0.129  Time passed: 0.090/15.000\n",
      "Ep: 110/600  Rewards avg.: -96.369  Loss avg.: 0.566  Time passed: 0.101/15.000\n",
      "Ep: 120/600  Rewards avg.: -95.942  Loss avg.: 0.643  Time passed: 0.113/15.000\n",
      "Ep: 130/600  Rewards avg.: -95.842  Loss avg.: 0.653  Time passed: 0.124/15.000\n",
      "Ep: 140/600  Rewards avg.: -97.240  Loss avg.: 0.675  Time passed: 0.134/15.000\n",
      "Ep: 150/600  Rewards avg.: -97.367  Loss avg.: 0.663  Time passed: 0.144/15.000\n",
      "Ep: 160/600  Rewards avg.: -97.367  Loss avg.: 0.648  Time passed: 0.156/15.000\n",
      "Ep: 170/600  Rewards avg.: -97.100  Loss avg.: 0.636  Time passed: 0.168/15.000\n",
      "Ep: 180/600  Rewards avg.: -97.011  Loss avg.: 0.649  Time passed: 0.180/15.000\n",
      "Ep: 190/600  Rewards avg.: -97.019  Loss avg.: 0.689  Time passed: 0.196/15.000\n",
      "Ep: 200/600  Rewards avg.: -96.986  Loss avg.: 0.726  Time passed: 0.207/15.000\n",
      "Ep: 210/600  Rewards avg.: -97.001  Loss avg.: 0.744  Time passed: 0.217/15.000\n",
      "Ep: 220/600  Rewards avg.: -96.992  Loss avg.: 0.743  Time passed: 0.228/15.000\n",
      "Ep: 230/600  Rewards avg.: -96.943  Loss avg.: 0.733  Time passed: 0.239/15.000\n",
      "Ep: 240/600  Rewards avg.: -96.555  Loss avg.: 0.728  Time passed: 0.252/15.000\n",
      "Ep: 250/600  Rewards avg.: -97.032  Loss avg.: 0.728  Time passed: 0.264/15.000\n",
      "Ep: 260/600  Rewards avg.: -96.964  Loss avg.: 0.728  Time passed: 0.277/15.000\n",
      "Ep: 270/600  Rewards avg.: -97.393  Loss avg.: 0.733  Time passed: 0.289/15.000\n",
      "Ep: 280/600  Rewards avg.: -96.626  Loss avg.: 0.728  Time passed: 0.304/15.000\n",
      "Ep: 290/600  Rewards avg.: -96.521  Loss avg.: 0.731  Time passed: 0.321/15.000\n",
      "Ep: 300/600  Rewards avg.: -96.142  Loss avg.: 0.730  Time passed: 0.337/15.000\n",
      "Ep: 310/600  Rewards avg.: -96.432  Loss avg.: 0.724  Time passed: 0.350/15.000\n",
      "Ep: 320/600  Rewards avg.: -96.398  Loss avg.: 0.709  Time passed: 0.364/15.000\n",
      "Ep: 330/600  Rewards avg.: -96.811  Loss avg.: 0.681  Time passed: 0.378/15.000\n",
      "Ep: 340/600  Rewards avg.: -96.853  Loss avg.: 0.660  Time passed: 0.391/15.000\n",
      "Ep: 350/600  Rewards avg.: -97.082  Loss avg.: 0.658  Time passed: 0.403/15.000\n",
      "Ep: 360/600  Rewards avg.: -96.989  Loss avg.: 0.686  Time passed: 0.416/15.000\n",
      "Ep: 370/600  Rewards avg.: -96.700  Loss avg.: 0.732  Time passed: 0.429/15.000\n",
      "Ep: 380/600  Rewards avg.: -96.512  Loss avg.: 0.768  Time passed: 0.440/15.000\n",
      "Ep: 390/600  Rewards avg.: -96.256  Loss avg.: 0.785  Time passed: 0.454/15.000\n",
      "Ep: 400/600  Rewards avg.: -95.996  Loss avg.: 0.786  Time passed: 0.470/15.000\n",
      "Ep: 410/600  Rewards avg.: -96.328  Loss avg.: 0.794  Time passed: 0.483/15.000\n",
      "Ep: 420/600  Rewards avg.: -96.591  Loss avg.: 0.813  Time passed: 0.497/15.000\n",
      "Ep: 430/600  Rewards avg.: -96.858  Loss avg.: 0.839  Time passed: 0.510/15.000\n",
      "Ep: 440/600  Rewards avg.: -96.109  Loss avg.: 0.854  Time passed: 0.523/15.000\n",
      "Ep: 450/600  Rewards avg.: -95.766  Loss avg.: 0.856  Time passed: 0.536/15.000\n",
      "Ep: 460/600  Rewards avg.: -94.762  Loss avg.: 0.846  Time passed: 0.548/15.000\n",
      "Ep: 470/600  Rewards avg.: -93.294  Loss avg.: 0.850  Time passed: 0.563/15.000\n",
      "Ep: 480/600  Rewards avg.: -91.421  Loss avg.: 0.852  Time passed: 0.578/15.000\n",
      "Ep: 490/600  Rewards avg.: -90.051  Loss avg.: 0.862  Time passed: 0.592/15.000\n",
      "Ep: 500/600  Rewards avg.: -89.633  Loss avg.: 0.860  Time passed: 0.608/15.000\n",
      "Ep: 510/600  Rewards avg.: -87.650  Loss avg.: 0.870  Time passed: 0.626/15.000\n",
      "Ep: 520/600  Rewards avg.: -86.390  Loss avg.: 0.885  Time passed: 0.642/15.000\n",
      "Ep: 530/600  Rewards avg.: -82.392  Loss avg.: 0.907  Time passed: 0.660/15.000\n",
      "Ep: 540/600  Rewards avg.: -82.818  Loss avg.: 0.901  Time passed: 0.683/15.000\n",
      "Ep: 550/600  Rewards avg.: -77.050  Loss avg.: 0.874  Time passed: 0.710/15.000\n",
      "Ep: 560/600  Rewards avg.: -84.847  Loss avg.: 0.814  Time passed: 0.723/15.000\n",
      "Ep: 570/600  Rewards avg.: -94.345  Loss avg.: 0.800  Time passed: 0.741/15.000\n",
      "Ep: 580/600  Rewards avg.: -98.050  Loss avg.: 0.715  Time passed: 0.760/15.000\n",
      "Ep: 590/600  Rewards avg.: -87.285  Loss avg.: 0.655  Time passed: 0.776/15.000\n"
     ]
    }
   ],
   "source": [
    "env_hard.reset()\n",
    "with mlf.start_run(experiment_id=experiment_id_hard, run_name='VPG hard'):\n",
    "    vpg_scores_after = agent_vpg.train(\n",
    "        env_hard,\n",
    "        600,\n",
    "        max_steps=ENV_SIZE,\n",
    "        average_n_last=30,\n",
    "        print_interval=10,\n",
    "        log=log,\n",
    "        gamma=0.99,\n",
    "        clip_action=False,\n",
    "        max_train_sec=15*60)"
   ],
   "metadata": {
    "collapsed": false,
    "pycharm": {
     "name": "#%%\n"
    }
   }
  },
  {
   "cell_type": "markdown",
   "id": "3dffa7dc-8b0e-406e-97d7-55ec2f411378",
   "metadata": {
    "tags": [],
    "pycharm": {
     "name": "#%% md\n"
    }
   },
   "source": [
    "## Eval after train"
   ]
  },
  {
   "cell_type": "code",
   "execution_count": 53,
   "id": "768d761b-c17f-466a-86a7-d58fde360af7",
   "metadata": {
    "pycharm": {
     "name": "#%%\n"
    }
   },
   "outputs": [],
   "source": [
    "results_dir = \"discrete_env_results_hard\""
   ]
  },
  {
   "cell_type": "code",
   "execution_count": 54,
   "id": "d47c7c74-fd1b-4db0-afd5-b554f200bcc0",
   "metadata": {
    "pycharm": {
     "name": "#%%\n"
    }
   },
   "outputs": [],
   "source": [
    "if os.path.exists(results_dir):\n",
    "    shutil.rmtree(results_dir)\n",
    "    os.mkdir(results_dir)"
   ]
  },
  {
   "cell_type": "markdown",
   "id": "12b50b08-74cf-4ed7-8ff5-549ecf05c9da",
   "metadata": {
    "tags": [],
    "pycharm": {
     "name": "#%% md\n"
    }
   },
   "source": [
    "## Compare results"
   ]
  },
  {
   "cell_type": "code",
   "execution_count": 264,
   "id": "1f743824-03bc-4c01-b9e3-17490bfc78d1",
   "metadata": {
    "pycharm": {
     "name": "#%%\n"
    }
   },
   "outputs": [
    {
     "data": {
      "text/plain": "  0%|          | 0/500 [00:00<?, ?it/s]",
      "application/vnd.jupyter.widget-view+json": {
       "version_major": 2,
       "version_minor": 0,
       "model_id": "90f12c4d58014628bf269dee13d38460"
      }
     },
     "metadata": {},
     "output_type": "display_data"
    }
   ],
   "source": [
    "ppo_eval_scores_after = autil.evaluate_algorithm(agent_ppo, env_hard, n_episodes=500, max_ep_steps=ENV_SIZE,\n",
    "                                                 clip_action=False)"
   ]
  },
  {
   "cell_type": "code",
   "execution_count": 265,
   "outputs": [
    {
     "data": {
      "text/plain": "  0%|          | 0/500 [00:00<?, ?it/s]",
      "application/vnd.jupyter.widget-view+json": {
       "version_major": 2,
       "version_minor": 0,
       "model_id": "ae755eb6879c4c01af415dfc5784e60e"
      }
     },
     "metadata": {},
     "output_type": "display_data"
    }
   ],
   "source": [
    "ac_eval_scores_after_500 =  autil.evaluate_algorithm(agent_ac, env_hard, n_episodes=500, max_ep_steps=ENV_SIZE,\n",
    "                                                     clip_action=False)"
   ],
   "metadata": {
    "collapsed": false,
    "pycharm": {
     "name": "#%%\n"
    }
   }
  },
  {
   "cell_type": "code",
   "execution_count": 274,
   "outputs": [
    {
     "data": {
      "text/plain": "  0%|          | 0/500 [00:00<?, ?it/s]",
      "application/vnd.jupyter.widget-view+json": {
       "version_major": 2,
       "version_minor": 0,
       "model_id": "0ed2898785414200a8538f1d66338a2b"
      }
     },
     "metadata": {},
     "output_type": "display_data"
    }
   ],
   "source": [
    "vpg_eval_scores_after_500 =  autil.evaluate_algorithm(agent_vpg, env_hard, n_episodes=500, max_ep_steps=ENV_SIZE,\n",
    "                                                      clip_action=False)"
   ],
   "metadata": {
    "collapsed": false,
    "pycharm": {
     "name": "#%%\n"
    }
   }
  },
  {
   "cell_type": "code",
   "execution_count": null,
   "outputs": [],
   "source": [
    "if not os.path.exists(results_dir):\n",
    "    os.mkdir(results_dir)"
   ],
   "metadata": {
    "collapsed": false,
    "pycharm": {
     "name": "#%%\n"
    }
   }
  },
  {
   "cell_type": "code",
   "execution_count": 275,
   "id": "d90a78dc-231a-4550-806d-fb735b6525fb",
   "metadata": {
    "pycharm": {
     "name": "#%%\n"
    }
   },
   "outputs": [
    {
     "data": {
      "text/plain": "<Figure size 720x720 with 1 Axes>",
      "image/png": "[encoded data removed]"
     },
     "metadata": {
      "needs_background": "light"
     },
     "output_type": "display_data"
    }
   ],
   "source": [
    "plt.figure(figsize=(10, 10))\n",
    "sns.histplot(dummy_scores, color='yellow', label='Baseline')\n",
    "sns.histplot(ppo_eval_scores_after, color='red', label='PPO after training')\n",
    "sns.histplot(ac_eval_scores_after_500, color='purple', label='AC after training')\n",
    "sns.histplot(vpg_eval_scores_after_500, color='pink', label='VPG after training')\n",
    "sns.histplot(random_scores, color='green', label='Random')\n",
    "plt.title(\"Scores histogram - 500 simulations (hard setting)\")\n",
    "plt.legend()\n",
    "plt.savefig(f\"./{results_dir}/scores_histogram.png\")"
   ]
  },
  {
   "cell_type": "code",
   "execution_count": 277,
   "id": "b6a7ecb6-9093-4917-a392-15f0410d59b0",
   "metadata": {
    "pycharm": {
     "name": "#%%\n"
    }
   },
   "outputs": [
    {
     "data": {
      "text/plain": "           random   PPO after     AC after   VPG after    baseline\ncount  500.000000  500.000000   500.000000  500.000000  500.000000\nmean  -268.206995  529.444963   137.742610  -73.363941 -115.573343\nstd    185.855851  134.386761   531.493562    9.931531   12.073136\nmin   -685.000000 -419.083933  -690.970322 -110.000000 -166.802627\n25%   -340.000000  465.911829  -120.953260  -78.141356 -122.369043\n50%   -171.000000  532.573202  -107.305185  -72.109473 -113.268260\n75%   -117.000000  606.613654  -100.268260  -67.830483 -105.607952\nmax   -100.000000  881.243317  1994.115927  -45.813581 -100.098790",
      "text/html": "<div>\n<style scoped>\n    .dataframe tbody tr th:only-of-type {\n        vertical-align: middle;\n    }\n\n    .dataframe tbody tr th {\n        vertical-align: top;\n    }\n\n    .dataframe thead th {\n        text-align: right;\n    }\n</style>\n<table border=\"1\" class=\"dataframe\">\n  <thead>\n    <tr style=\"text-align: right;\">\n      <th></th>\n      <th>random</th>\n      <th>PPO after</th>\n      <th>AC after</th>\n      <th>VPG after</th>\n      <th>baseline</th>\n    </tr>\n  </thead>\n  <tbody>\n    <tr>\n      <th>count</th>\n      <td>500.000000</td>\n      <td>500.000000</td>\n      <td>500.000000</td>\n      <td>500.000000</td>\n      <td>500.000000</td>\n    </tr>\n    <tr>\n      <th>mean</th>\n      <td>-268.206995</td>\n      <td>529.444963</td>\n      <td>137.742610</td>\n      <td>-73.363941</td>\n      <td>-115.573343</td>\n    </tr>\n    <tr>\n      <th>std</th>\n      <td>185.855851</td>\n      <td>134.386761</td>\n      <td>531.493562</td>\n      <td>9.931531</td>\n      <td>12.073136</td>\n    </tr>\n    <tr>\n      <th>min</th>\n      <td>-685.000000</td>\n      <td>-419.083933</td>\n      <td>-690.970322</td>\n      <td>-110.000000</td>\n      <td>-166.802627</td>\n    </tr>\n    <tr>\n      <th>25%</th>\n      <td>-340.000000</td>\n      <td>465.911829</td>\n      <td>-120.953260</td>\n      <td>-78.141356</td>\n      <td>-122.369043</td>\n    </tr>\n    <tr>\n      <th>50%</th>\n      <td>-171.000000</td>\n      <td>532.573202</td>\n      <td>-107.305185</td>\n      <td>-72.109473</td>\n      <td>-113.268260</td>\n    </tr>\n    <tr>\n      <th>75%</th>\n      <td>-117.000000</td>\n      <td>606.613654</td>\n      <td>-100.268260</td>\n      <td>-67.830483</td>\n      <td>-105.607952</td>\n    </tr>\n    <tr>\n      <th>max</th>\n      <td>-100.000000</td>\n      <td>881.243317</td>\n      <td>1994.115927</td>\n      <td>-45.813581</td>\n      <td>-100.098790</td>\n    </tr>\n  </tbody>\n</table>\n</div>"
     },
     "execution_count": 277,
     "metadata": {},
     "output_type": "execute_result"
    }
   ],
   "source": [
    "result_df = pd.DataFrame({\n",
    "    'random': random_scores,\n",
    "    'PPO after': ppo_eval_scores_after,\n",
    "    'AC after': ac_eval_scores_after_500,\n",
    "    'VPG after': vpg_eval_scores_after_500,\n",
    "    'baseline': dummy_scores, })\n",
    "result_df.describe()"
   ]
  },
  {
   "cell_type": "code",
   "execution_count": 278,
   "id": "a6a4bf6e-f298-4688-becb-59c55535815a",
   "metadata": {
    "pycharm": {
     "name": "#%%\n"
    }
   },
   "outputs": [],
   "source": [
    "result_df.to_csv(os.path.join(results_dir, \"scores_hard_env.csv\"), index=False)"
   ]
  },
  {
   "cell_type": "code",
   "execution_count": 279,
   "id": "d7b62a5a-427b-4a37-8dfc-76ef19b87d35",
   "metadata": {
    "pycharm": {
     "name": "#%%\n"
    }
   },
   "outputs": [
    {
     "data": {
      "text/plain": "0.0"
     },
     "execution_count": 279,
     "metadata": {},
     "output_type": "execute_result"
    }
   ],
   "source": [
    "stat, pval = st.levene(*[result_df[c] for c in result_df.columns])\n",
    "pval.round(4)"
   ]
  },
  {
   "cell_type": "code",
   "execution_count": 280,
   "outputs": [
    {
     "data": {
      "text/plain": "KruskalResult(statistic=1675.1553264791305, pvalue=0.0)"
     },
     "execution_count": 280,
     "metadata": {},
     "output_type": "execute_result"
    }
   ],
   "source": [
    "st.kruskal(*[result_df[c] for c in result_df.columns])"
   ],
   "metadata": {
    "collapsed": false,
    "pycharm": {
     "name": "#%%\n"
    }
   }
  },
  {
   "cell_type": "code",
   "execution_count": 281,
   "id": "9ada66b3-90e9-49ac-b4ee-ca93a1aeb63b",
   "metadata": {
    "pycharm": {
     "name": "#%%\n"
    }
   },
   "outputs": [
    {
     "data": {
      "text/plain": "  Source  ddof1        ddof2            F  p-unc       np2\n0  model      4  1136.258731  3694.871566    0.0  0.532463",
      "text/html": "<div>\n<style scoped>\n    .dataframe tbody tr th:only-of-type {\n        vertical-align: middle;\n    }\n\n    .dataframe tbody tr th {\n        vertical-align: top;\n    }\n\n    .dataframe thead th {\n        text-align: right;\n    }\n</style>\n<table border=\"1\" class=\"dataframe\">\n  <thead>\n    <tr style=\"text-align: right;\">\n      <th></th>\n      <th>Source</th>\n      <th>ddof1</th>\n      <th>ddof2</th>\n      <th>F</th>\n      <th>p-unc</th>\n      <th>np2</th>\n    </tr>\n  </thead>\n  <tbody>\n    <tr>\n      <th>0</th>\n      <td>model</td>\n      <td>4</td>\n      <td>1136.258731</td>\n      <td>3694.871566</td>\n      <td>0.0</td>\n      <td>0.532463</td>\n    </tr>\n  </tbody>\n</table>\n</div>"
     },
     "execution_count": 281,
     "metadata": {},
     "output_type": "execute_result"
    }
   ],
   "source": [
    "melted_df = result_df.melt(var_name='model')\n",
    "result = pg.welch_anova(melted_df, dv='value', between='model')\n",
    "result"
   ]
  },
  {
   "cell_type": "code",
   "execution_count": 282,
   "id": "919beef0-6467-4784-b95f-67d47bca826b",
   "metadata": {
    "pycharm": {
     "name": "#%%\n"
    }
   },
   "outputs": [
    {
     "data": {
      "text/plain": "           A          B     mean(A)     mean(B)        diff         se  \\\n0   AC after  PPO after  137.742610  529.444963 -391.702354  24.517145   \n1   AC after  VPG after  137.742610  -73.363941  211.106550  23.773264   \n2   AC after   baseline  137.742610 -115.573343  253.315952  23.775246   \n3   AC after     random  137.742610 -268.206995  405.949604  25.180461   \n4  PPO after  VPG after  529.444963  -73.363941  602.808904   6.026348   \n5  PPO after   baseline  529.444963 -115.573343  645.018306   6.034163   \n6  PPO after     random  529.444963 -268.206995  797.651958  10.256920   \n7  VPG after   baseline  -73.363941 -115.573343   42.209402   0.699137   \n8  VPG after     random  -73.363941 -268.206995  194.843054   8.323585   \n9   baseline     random -115.573343 -268.206995  152.633652   8.329245   \n\n            T          df   pval     cohen  \n0  -15.976671  562.544217  0.001 -1.010453  \n1    8.879999  499.348471  0.001  0.561620  \n2   10.654609  499.514961  0.001  0.673857  \n3   16.121611  619.237876  0.001  1.019620  \n4  100.028886  504.450509  0.001  6.326382  \n5  106.894410  507.054331  0.001  6.760596  \n6   77.767205  908.772524  0.001  4.918430  \n7   60.373619  962.223621  0.001  3.818363  \n8   23.408550  501.849751  0.001  1.480487  \n9   18.325029  503.211245  0.001  1.158977  ",
      "text/html": "<div>\n<style scoped>\n    .dataframe tbody tr th:only-of-type {\n        vertical-align: middle;\n    }\n\n    .dataframe tbody tr th {\n        vertical-align: top;\n    }\n\n    .dataframe thead th {\n        text-align: right;\n    }\n</style>\n<table border=\"1\" class=\"dataframe\">\n  <thead>\n    <tr style=\"text-align: right;\">\n      <th></th>\n      <th>A</th>\n      <th>B</th>\n      <th>mean(A)</th>\n      <th>mean(B)</th>\n      <th>diff</th>\n      <th>se</th>\n      <th>T</th>\n      <th>df</th>\n      <th>pval</th>\n      <th>cohen</th>\n    </tr>\n  </thead>\n  <tbody>\n    <tr>\n      <th>0</th>\n      <td>AC after</td>\n      <td>PPO after</td>\n      <td>137.742610</td>\n      <td>529.444963</td>\n      <td>-391.702354</td>\n      <td>24.517145</td>\n      <td>-15.976671</td>\n      <td>562.544217</td>\n      <td>0.001</td>\n      <td>-1.010453</td>\n    </tr>\n    <tr>\n      <th>1</th>\n      <td>AC after</td>\n      <td>VPG after</td>\n      <td>137.742610</td>\n      <td>-73.363941</td>\n      <td>211.106550</td>\n      <td>23.773264</td>\n      <td>8.879999</td>\n      <td>499.348471</td>\n      <td>0.001</td>\n      <td>0.561620</td>\n    </tr>\n    <tr>\n      <th>2</th>\n      <td>AC after</td>\n      <td>baseline</td>\n      <td>137.742610</td>\n      <td>-115.573343</td>\n      <td>253.315952</td>\n      <td>23.775246</td>\n      <td>10.654609</td>\n      <td>499.514961</td>\n      <td>0.001</td>\n      <td>0.673857</td>\n    </tr>\n    <tr>\n      <th>3</th>\n      <td>AC after</td>\n      <td>random</td>\n      <td>137.742610</td>\n      <td>-268.206995</td>\n      <td>405.949604</td>\n      <td>25.180461</td>\n      <td>16.121611</td>\n      <td>619.237876</td>\n      <td>0.001</td>\n      <td>1.019620</td>\n    </tr>\n    <tr>\n      <th>4</th>\n      <td>PPO after</td>\n      <td>VPG after</td>\n      <td>529.444963</td>\n      <td>-73.363941</td>\n      <td>602.808904</td>\n      <td>6.026348</td>\n      <td>100.028886</td>\n      <td>504.450509</td>\n      <td>0.001</td>\n      <td>6.326382</td>\n    </tr>\n    <tr>\n      <th>5</th>\n      <td>PPO after</td>\n      <td>baseline</td>\n      <td>529.444963</td>\n      <td>-115.573343</td>\n      <td>645.018306</td>\n      <td>6.034163</td>\n      <td>106.894410</td>\n      <td>507.054331</td>\n      <td>0.001</td>\n      <td>6.760596</td>\n    </tr>\n    <tr>\n      <th>6</th>\n      <td>PPO after</td>\n      <td>random</td>\n      <td>529.444963</td>\n      <td>-268.206995</td>\n      <td>797.651958</td>\n      <td>10.256920</td>\n      <td>77.767205</td>\n      <td>908.772524</td>\n      <td>0.001</td>\n      <td>4.918430</td>\n    </tr>\n    <tr>\n      <th>7</th>\n      <td>VPG after</td>\n      <td>baseline</td>\n      <td>-73.363941</td>\n      <td>-115.573343</td>\n      <td>42.209402</td>\n      <td>0.699137</td>\n      <td>60.373619</td>\n      <td>962.223621</td>\n      <td>0.001</td>\n      <td>3.818363</td>\n    </tr>\n    <tr>\n      <th>8</th>\n      <td>VPG after</td>\n      <td>random</td>\n      <td>-73.363941</td>\n      <td>-268.206995</td>\n      <td>194.843054</td>\n      <td>8.323585</td>\n      <td>23.408550</td>\n      <td>501.849751</td>\n      <td>0.001</td>\n      <td>1.480487</td>\n    </tr>\n    <tr>\n      <th>9</th>\n      <td>baseline</td>\n      <td>random</td>\n      <td>-115.573343</td>\n      <td>-268.206995</td>\n      <td>152.633652</td>\n      <td>8.329245</td>\n      <td>18.325029</td>\n      <td>503.211245</td>\n      <td>0.001</td>\n      <td>1.158977</td>\n    </tr>\n  </tbody>\n</table>\n</div>"
     },
     "execution_count": 282,
     "metadata": {},
     "output_type": "execute_result"
    }
   ],
   "source": [
    "pairwise_test = pg.pairwise_gameshowell(melted_df, dv='value', between='model', effsize='cohen')\n",
    "pairwise_test"
   ]
  },
  {
   "cell_type": "code",
   "execution_count": 283,
   "outputs": [],
   "source": [
    "pairwise_test.to_csv(os.path.join(results_dir, \"pairwise_test_res_hard_env.csv\"), index=False)"
   ],
   "metadata": {
    "collapsed": false,
    "pycharm": {
     "name": "#%%\n"
    }
   }
  },
  {
   "cell_type": "code",
   "execution_count": 284,
   "outputs": [],
   "source": [
    "result.to_csv(os.path.join(results_dir, \"welch_test_hard_env.csv\"), index=False)"
   ],
   "metadata": {
    "collapsed": false,
    "pycharm": {
     "name": "#%%\n"
    }
   }
  },
  {
   "cell_type": "code",
   "execution_count": null,
   "outputs": [],
   "source": [],
   "metadata": {
    "collapsed": false,
    "pycharm": {
     "name": "#%%\n"
    }
   }
  }
 ],
 "metadata": {
  "kernelspec": {
   "display_name": "Python 3 (ipykernel)",
   "language": "python",
   "name": "python3"
  },
  "language_info": {
   "codemirror_mode": {
    "name": "ipython",
    "version": 3
   },
   "file_extension": ".py",
   "mimetype": "text/x-python",
   "name": "python",
   "nbconvert_exporter": "python",
   "pygments_lexer": "ipython3",
   "version": "3.9.7"
  }
 },
 "nbformat": 4,
 "nbformat_minor": 5
}