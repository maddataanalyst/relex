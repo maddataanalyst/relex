{
 "cells": [
  {
   "cell_type": "markdown",
   "id": "4f340565-6f53-4075-b7bb-f53f4e45c7cb",
   "metadata": {
    "pycharm": {
     "name": "#%% md\n"
    }
   },
   "source": [
    "# Intro"
   ]
  },
  {
   "cell_type": "markdown",
   "id": "ae09bf37-fd06-4604-b569-a2db64e7e027",
   "metadata": {
    "pycharm": {
     "name": "#%% md\n"
    }
   },
   "source": [
    "# Libraries"
   ]
  },
  {
   "cell_type": "code",
   "execution_count": 1,
   "id": "7a4e058d-c120-4427-a4c1-a515bb1d85cc",
   "metadata": {
    "pycharm": {
     "name": "#%%\n"
    }
   },
   "outputs": [],
   "source": [
    "import sys\n",
    "sys.path.append(\"../\")"
   ]
  },
  {
   "cell_type": "code",
   "execution_count": 34,
   "id": "2e8b8f20-430f-4ae5-be7e-8a973d82fbbb",
   "metadata": {
    "pycharm": {
     "name": "#%%\n"
    }
   },
   "outputs": [],
   "source": [
    "from typing import Tuple\n",
    "\n",
    "import logging\n",
    "import os\n",
    "import gc\n",
    "import shutil\n",
    "import tensorflow as tf\n",
    "import pandas as pd\n",
    "import matplotlib.pyplot as plt\n",
    "import numpy as np\n",
    "import seaborn as sns\n",
    "import pingouin as pg\n",
    "import scipy.stats as st\n",
    "from stable_baselines3.ppo import PPO, MlpPolicy\n",
    "from stable_baselines3.a2c import A2C, MlpPolicy\n",
    "import scipy.stats as st\n",
    "import tensorflow.keras as krs\n",
    "import src.algorithms.algo_utils as autil\n",
    "import src.algorithms.advantages as adv\n",
    "import src.algorithms.dummy as dummy\n",
    "from src.envs.resource_allocation_env import DiscreteProjectsEnv, DiscreteProjectOptimizerAgent\n",
    "import src.algorithms.policy_gradient.tf2.ppo as ppo\n",
    "import src.models.base_models.tf2.policy_nets as policy_nets\n",
    "import src.models.base_models.tf2.value_nets as vnets\n",
    "from tensorflow_probability.python.distributions import TruncatedNormal\n",
    "from tqdm.auto import tqdm\n",
    "\n",
    "import mlflow.tensorflow as mlftf\n",
    "import mlflow as mlf"
   ]
  },
  {
   "cell_type": "code",
   "execution_count": 37,
   "id": "dc0ea6fe-5c9b-4514-845e-94f588df3170",
   "metadata": {
    "pycharm": {
     "name": "#%%\n"
    }
   },
   "outputs": [],
   "source": [
    "from importlib import reload"
   ]
  },
  {
   "cell_type": "code",
   "execution_count": 38,
   "id": "3ce7de33-c87c-4fd0-ad74-2494dccc78a7",
   "metadata": {
    "pycharm": {
     "name": "#%%\n"
    }
   },
   "outputs": [],
   "source": [
    "dummy = reload(dummy)"
   ]
  },
  {
   "cell_type": "markdown",
   "id": "cf25aa71-1404-4125-9963-01b5fa48ab06",
   "metadata": {
    "pycharm": {
     "name": "#%% md\n"
    }
   },
   "source": [
    "# Env setup"
   ]
  },
  {
   "cell_type": "code",
   "execution_count": 3,
   "id": "8837987e-6dc0-482d-8aef-50b637f3b6be",
   "metadata": {
    "pycharm": {
     "name": "#%%\n"
    }
   },
   "outputs": [],
   "source": [
    "log = logging.getLogger()\n",
    "log.setLevel(logging.INFO)\n",
    "std_handler = logging.StreamHandler(sys.stdout)\n",
    "log.addHandler(std_handler)"
   ]
  },
  {
   "cell_type": "code",
   "execution_count": 4,
   "id": "cc81e93e-dc34-4ffd-ad92-a33931b2df02",
   "metadata": {
    "pycharm": {
     "name": "#%%\n"
    }
   },
   "outputs": [],
   "source": [
    "ENV_SIZE = 300"
   ]
  },
  {
   "cell_type": "code",
   "execution_count": 5,
   "id": "7a183734-e67e-4f8e-9eef-7c54a7077596",
   "metadata": {
    "pycharm": {
     "name": "#%%\n"
    }
   },
   "outputs": [
    {
     "name": "stderr",
     "output_type": "stream",
     "text": [
      "/anaconda/envs/py39/lib/python3.9/site-packages/gym/logger.py:34: UserWarning: \u001B[33mWARN: Box bound precision lowered by casting to float32\u001B[0m\n",
      "  warnings.warn(colorize(\"%s: %s\" % (\"WARN\", msg % args), \"yellow\"))\n"
     ]
    }
   ],
   "source": [
    "env = DiscreteProjectsEnv(\n",
    "        start_resource=100,\n",
    "        start_cash=100,\n",
    "        upkeep_cost=-1,\n",
    "        min_payout=-0.5,\n",
    "        max_payout=1.5,\n",
    "        payout_mean=1.0,\n",
    "        payout_std=0.5,\n",
    "        size=ENV_SIZE,\n",
    "        balance_is_reward=False,\n",
    "        stochastic=True)\n",
    "\n",
    "s_dim = env.observation_space.shape[0]\n",
    "a_dim = env.action_space.n"
   ]
  },
  {
   "cell_type": "code",
   "execution_count": 7,
   "id": "db720fa3-d859-4156-944c-47d8132fda65",
   "metadata": {
    "pycharm": {
     "name": "#%%\n"
    }
   },
   "outputs": [
    {
     "data": {
      "text/plain": [
       "<AxesSubplot:>"
      ]
     },
     "execution_count": 7,
     "metadata": {},
     "output_type": "execute_result"
    },
    {
     "data": {
      "image/png": "[encoded data removed]",
      "text/plain": [
       "<Figure size 432x288 with 1 Axes>"
      ]
     },
     "metadata": {
      "needs_background": "light"
     },
     "output_type": "display_data"
    }
   ],
   "source": [
    "env.projects.proj_1_payouts.hist()"
   ]
  },
  {
   "cell_type": "code",
   "execution_count": 8,
   "id": "4fae6e6a-fd46-4a88-a696-bff0f4d8e054",
   "metadata": {
    "pycharm": {
     "name": "#%%\n"
    }
   },
   "outputs": [
    {
     "data": {
      "text/plain": [
       "<AxesSubplot:>"
      ]
     },
     "execution_count": 8,
     "metadata": {},
     "output_type": "execute_result"
    },
    {
     "data": {
      "image/png": "[encoded data removed]",
      "text/plain": [
       "<Figure size 432x288 with 1 Axes>"
      ]
     },
     "metadata": {
      "needs_background": "light"
     },
     "output_type": "display_data"
    }
   ],
   "source": [
    "env.projects.proj_2_payouts.hist()"
   ]
  },
  {
   "cell_type": "markdown",
   "id": "6274d998-44be-404c-b71c-22525802a993",
   "metadata": {
    "pycharm": {
     "name": "#%% md\n"
    }
   },
   "source": [
    "# Agents"
   ]
  },
  {
   "cell_type": "code",
   "execution_count": 10,
   "id": "63ae4590-5087-442f-a1dd-a8e87d228d61",
   "metadata": {
    "pycharm": {
     "name": "#%%\n"
    }
   },
   "outputs": [
    {
     "name": "stdout",
     "output_type": "stream",
     "text": [
      "213\n"
     ]
    }
   ],
   "source": [
    "krs.backend.clear_session()\n",
    "print(gc.collect())\n",
    "\n",
    "s_dim = env.observation_space.shape[0]\n",
    "a_dim = env.action_space.n\n",
    "\n",
    "initializer = krs.initializers.HeNormal()\n",
    "policy_net = policy_nets.DiscretePolicyNet(a_dim, [128, 128, 128], 'tanh', hidden_initializer=initializer, out_initializer=initializer)\n",
    "value_net = vnets.ValueNet(s_dim, [64, 64], h_act='tanh', out_act='linear', initializer=initializer)\n",
    "\n",
    "policy_opt = krs.optimizers.Adam(0.0003)\n",
    "value_opt = krs.optimizers.Adam(0.0003)\n",
    "\n",
    "agent = ppo.PPO(policy_net, value_net, policy_opt, value_opt, adv.GAE, n_agents=3, clipping_eps=0.2, entropy_coef=0.0001)\n"
   ]
  },
  {
   "cell_type": "code",
   "execution_count": 11,
   "id": "8c8e4f90-76dc-4260-b803-693ed1577290",
   "metadata": {
    "pycharm": {
     "name": "#%%\n"
    }
   },
   "outputs": [],
   "source": [
    "dummy_agent = DiscreteProjectOptimizerAgent(env)"
   ]
  },
  {
   "cell_type": "code",
   "execution_count": 39,
   "id": "d919748f-9011-4136-aed4-45b39221a84b",
   "metadata": {
    "pycharm": {
     "name": "#%%\n"
    }
   },
   "outputs": [],
   "source": [
    "random_agent = dummy.DummyAgent(env)"
   ]
  },
  {
   "cell_type": "markdown",
   "id": "59fbaab3-bbe3-46d0-ae43-a062d67dd63a",
   "metadata": {
    "pycharm": {
     "name": "#%% md\n"
    }
   },
   "source": [
    "# Evaluate before training"
   ]
  },
  {
   "cell_type": "code",
   "execution_count": 12,
   "id": "52bda543-c582-4ff0-ba59-41d02bdb9afe",
   "metadata": {
    "pycharm": {
     "name": "#%%\n"
    }
   },
   "outputs": [
    {
     "data": {
      "application/vnd.jupyter.widget-view+json": {
       "model_id": "63cb5dbfa5644bee99f9debe6c40be85",
       "version_major": 2,
       "version_minor": 0
      },
      "text/plain": [
       "  0%|          | 0/500 [00:00<?, ?it/s]"
      ]
     },
     "metadata": {},
     "output_type": "display_data"
    }
   ],
   "source": [
    "ppo_scores_before = autil.evaluate_algorithm(agent, env, n_episodes=500, max_ep_steps=ENV_SIZE, clip_action=False)"
   ]
  },
  {
   "cell_type": "code",
   "execution_count": 13,
   "id": "d150a416-a1da-4b1c-bbe0-f2d61df41d6d",
   "metadata": {
    "pycharm": {
     "name": "#%%\n"
    }
   },
   "outputs": [
    {
     "data": {
      "application/vnd.jupyter.widget-view+json": {
       "model_id": "0fd491602eb947228a51e97519e2506e",
       "version_major": 2,
       "version_minor": 0
      },
      "text/plain": [
       "  0%|          | 0/500 [00:00<?, ?it/s]"
      ]
     },
     "metadata": {},
     "output_type": "display_data"
    }
   ],
   "source": [
    "dummy_scores = autil.evaluate_algorithm(dummy_agent, env, n_episodes=500, max_ep_steps=ENV_SIZE, clip_action=False)"
   ]
  },
  {
   "cell_type": "code",
   "execution_count": 40,
   "id": "816340ef-524f-47a8-8dae-4273916f9fdd",
   "metadata": {
    "pycharm": {
     "name": "#%%\n"
    }
   },
   "outputs": [
    {
     "data": {
      "application/vnd.jupyter.widget-view+json": {
       "model_id": "b5e63016644b40579d083ae5995402f9",
       "version_major": 2,
       "version_minor": 0
      },
      "text/plain": [
       "  0%|          | 0/500 [00:00<?, ?it/s]"
      ]
     },
     "metadata": {},
     "output_type": "display_data"
    }
   ],
   "source": [
    "random_scores = autil.evaluate_algorithm(random_agent, env, n_episodes=500, max_ep_steps=ENV_SIZE, clip_action=False)"
   ]
  },
  {
   "cell_type": "code",
   "execution_count": 41,
   "id": "37717f6d-76c8-41b2-8bdb-125f17f89e6f",
   "metadata": {
    "pycharm": {
     "name": "#%%\n"
    }
   },
   "outputs": [
    {
     "data": {
      "text/plain": [
       "<matplotlib.legend.Legend at 0x7fd191a18e20>"
      ]
     },
     "execution_count": 41,
     "metadata": {},
     "output_type": "execute_result"
    },
    {
     "data": {
      "image/png": "[encoded data removed]",
      "text/plain": [
       "<Figure size 432x288 with 1 Axes>"
      ]
     },
     "metadata": {
      "needs_background": "light"
     },
     "output_type": "display_data"
    }
   ],
   "source": [
    "sns.histplot(ppo_scores_before, color='blue', label='PPO before')\n",
    "sns.histplot(dummy_scores, color='yellow', label='Baseline')\n",
    "sns.histplot(random_scores, color='green', label='Random')\n",
    "plt.legend()"
   ]
  },
  {
   "cell_type": "markdown",
   "id": "24bdc7d8-fec9-4505-b38c-f1eca009851f",
   "metadata": {
    "pycharm": {
     "name": "#%% md\n"
    }
   },
   "source": [
    "# Train agent"
   ]
  },
  {
   "cell_type": "code",
   "execution_count": 15,
   "id": "7a5b09f2-33e7-4800-929c-09d9fc77b219",
   "metadata": {
    "pycharm": {
     "name": "#%%\n"
    }
   },
   "outputs": [],
   "source": [
    "tf_logpath = \"./ppo_simple_projectenv_tensorboard\"\n",
    "if os.path.exists(tf_logpath):\n",
    "    shutil.rmtree(tf_logpath)\n",
    "writer = tf.summary.create_file_writer(tf_logpath)"
   ]
  },
  {
   "cell_type": "code",
   "execution_count": 16,
   "id": "4eca5846-5a0a-4189-a80b-1f1ba9aa73f2",
   "metadata": {
    "tags": [],
    "pycharm": {
     "name": "#%%\n"
    }
   },
   "outputs": [
    {
     "name": "stdout",
     "output_type": "stream",
     "text": [
      "Ep: 0/266  Rewards avg.: -157.569  Loss avg.: 0.508  Time passed: 0.013/30.000\n",
      "Ep: 10/266  Rewards avg.: -253.654  Loss avg.: 0.772  Time passed: 0.067/30.000\n",
      "Ep: 20/266  Rewards avg.: -218.100  Loss avg.: 0.833  Time passed: 0.167/30.000\n",
      "Ep: 30/266  Rewards avg.: -183.217  Loss avg.: 0.743  Time passed: 0.291/30.000\n",
      "Ep: 40/266  Rewards avg.: -98.348  Loss avg.: 0.807  Time passed: 0.528/30.000\n",
      "Ep: 50/266  Rewards avg.: -64.404  Loss avg.: 0.619  Time passed: 0.659/30.000\n",
      "Ep: 60/266  Rewards avg.: -65.780  Loss avg.: 0.753  Time passed: 0.771/30.000\n",
      "Ep: 70/266  Rewards avg.: -69.910  Loss avg.: 0.744  Time passed: 0.939/30.000\n",
      "Ep: 80/266  Rewards avg.: 129.480  Loss avg.: 0.736  Time passed: 1.574/30.000\n",
      "Ep: 90/266  Rewards avg.: 766.688  Loss avg.: 0.928  Time passed: 2.428/30.000\n",
      "Ep: 100/266  Rewards avg.: 1662.370  Loss avg.: 1.138  Time passed: 3.356/30.000\n",
      "Ep: 110/266  Rewards avg.: 2403.128  Loss avg.: 1.184  Time passed: 4.287/30.000\n",
      "Ep: 120/266  Rewards avg.: 2351.650  Loss avg.: 1.008  Time passed: 4.823/30.000\n",
      "Ep: 130/266  Rewards avg.: 2010.589  Loss avg.: 1.460  Time passed: 5.432/30.000\n",
      "Ep: 140/266  Rewards avg.: 1666.141  Loss avg.: 1.498  Time passed: 6.164/30.000\n",
      "Ep: 150/266  Rewards avg.: 2043.643  Loss avg.: 1.435  Time passed: 7.047/30.000\n",
      "Ep: 160/266  Rewards avg.: 2075.334  Loss avg.: 0.875  Time passed: 7.708/30.000\n",
      "Ep: 170/266  Rewards avg.: 1736.646  Loss avg.: 0.838  Time passed: 8.152/30.000\n",
      "Ep: 180/266  Rewards avg.: 1372.097  Loss avg.: 1.063  Time passed: 8.689/30.000\n",
      "Ep: 190/266  Rewards avg.: 1669.310  Loss avg.: 1.106  Time passed: 9.581/30.000\n",
      "Ep: 200/266  Rewards avg.: 2238.676  Loss avg.: 1.512  Time passed: 10.538/30.000\n",
      "Ep: 210/266  Rewards avg.: 2461.756  Loss avg.: 1.898  Time passed: 11.422/30.000\n",
      "Ep: 220/266  Rewards avg.: 2527.439  Loss avg.: 1.596  Time passed: 12.372/30.000\n",
      "Ep: 230/266  Rewards avg.: 2840.700  Loss avg.: 1.458  Time passed: 13.357/30.000\n",
      "Ep: 240/266  Rewards avg.: 2856.844  Loss avg.: 2.685  Time passed: 14.094/30.000\n",
      "Ep: 250/266  Rewards avg.: 2514.422  Loss avg.: 1.661  Time passed: 14.827/30.000\n",
      "Ep: 260/266  Rewards avg.: 2095.763  Loss avg.: 2.121  Time passed: 15.541/30.000\n"
     ]
    }
   ],
   "source": [
    "env.reset()\n",
    "with writer.as_default():\n",
    "    ppo_scores_after = agent.train(env, 800, max_steps=ENV_SIZE, average_n_last=30, print_interval=10, epochs=5, batch_size=64, log=log,\n",
    "                         gamma=0.99, clip_action=False, max_train_sec=30*60)"
   ]
  },
  {
   "cell_type": "markdown",
   "id": "3dffa7dc-8b0e-406e-97d7-55ec2f411378",
   "metadata": {
    "tags": [],
    "pycharm": {
     "name": "#%% md\n"
    }
   },
   "source": [
    "# Eval after train"
   ]
  },
  {
   "cell_type": "code",
   "execution_count": 17,
   "id": "768d761b-c17f-466a-86a7-d58fde360af7",
   "metadata": {
    "pycharm": {
     "name": "#%%\n"
    }
   },
   "outputs": [],
   "source": [
    "results_dir = \"ppo_discrete_env_results\""
   ]
  },
  {
   "cell_type": "code",
   "execution_count": 19,
   "id": "d47c7c74-fd1b-4db0-afd5-b554f200bcc0",
   "metadata": {
    "pycharm": {
     "name": "#%%\n"
    }
   },
   "outputs": [],
   "source": [
    "if os.path.exists(results_dir):\n",
    "    shutil.rmtree(results_dir)\n",
    "    os.mkdir(results_dir)"
   ]
  },
  {
   "cell_type": "markdown",
   "id": "12b50b08-74cf-4ed7-8ff5-549ecf05c9da",
   "metadata": {
    "tags": [],
    "pycharm": {
     "name": "#%% md\n"
    }
   },
   "source": [
    "# Compare results"
   ]
  },
  {
   "cell_type": "code",
   "execution_count": 20,
   "id": "1f743824-03bc-4c01-b9e3-17490bfc78d1",
   "metadata": {
    "pycharm": {
     "name": "#%%\n"
    }
   },
   "outputs": [
    {
     "data": {
      "application/vnd.jupyter.widget-view+json": {
       "model_id": "362aca065b7b4a06bccc2ccb1fd80ebd",
       "version_major": 2,
       "version_minor": 0
      },
      "text/plain": [
       "  0%|          | 0/500 [00:00<?, ?it/s]"
      ]
     },
     "metadata": {},
     "output_type": "display_data"
    }
   ],
   "source": [
    "ppo_eval_scores_after_500 = autil.evaluate_algorithm(agent, env, n_episodes=500, max_ep_steps=ENV_SIZE,\n",
    "                                                clip_action=False)"
   ]
  },
  {
   "cell_type": "code",
   "execution_count": 42,
   "id": "d90a78dc-231a-4550-806d-fb735b6525fb",
   "metadata": {
    "pycharm": {
     "name": "#%%\n"
    }
   },
   "outputs": [
    {
     "data": {
      "image/png": "[encoded data removed]",
      "text/plain": [
       "<Figure size 432x288 with 1 Axes>"
      ]
     },
     "metadata": {
      "needs_background": "light"
     },
     "output_type": "display_data"
    }
   ],
   "source": [
    "sns.histplot(dummy_scores, color='yellow', label='Baseline')\n",
    "sns.histplot(ppo_eval_scores_after_500, color='red', label='PPO after')\n",
    "sns.histplot(random_scores, color='green', label='Random')\n",
    "plt.title(\"Scores histogram - 500 simulation\")\n",
    "plt.legend()\n",
    "plt.savefig(f\"./{results_dir}/scores_histogram.png\")"
   ]
  },
  {
   "cell_type": "code",
   "execution_count": 44,
   "id": "b6a7ecb6-9093-4917-a392-15f0410d59b0",
   "metadata": {
    "pycharm": {
     "name": "#%%\n"
    }
   },
   "outputs": [
    {
     "data": {
      "text/html": [
       "<div>\n",
       "<style scoped>\n",
       "    .dataframe tbody tr th:only-of-type {\n",
       "        vertical-align: middle;\n",
       "    }\n",
       "\n",
       "    .dataframe tbody tr th {\n",
       "        vertical-align: top;\n",
       "    }\n",
       "\n",
       "    .dataframe thead th {\n",
       "        text-align: right;\n",
       "    }\n",
       "</style>\n",
       "<table border=\"1\" class=\"dataframe\">\n",
       "  <thead>\n",
       "    <tr style=\"text-align: right;\">\n",
       "      <th></th>\n",
       "      <th>PPO before</th>\n",
       "      <th>random</th>\n",
       "      <th>PPO after</th>\n",
       "      <th>baseline</th>\n",
       "    </tr>\n",
       "  </thead>\n",
       "  <tbody>\n",
       "    <tr>\n",
       "      <th>count</th>\n",
       "      <td>500.000000</td>\n",
       "      <td>500.000000</td>\n",
       "      <td>500.000000</td>\n",
       "      <td>500.000000</td>\n",
       "    </tr>\n",
       "    <tr>\n",
       "      <th>mean</th>\n",
       "      <td>-276.579881</td>\n",
       "      <td>-267.272951</td>\n",
       "      <td>3310.519252</td>\n",
       "      <td>1575.678831</td>\n",
       "    </tr>\n",
       "    <tr>\n",
       "      <th>std</th>\n",
       "      <td>160.941346</td>\n",
       "      <td>189.911325</td>\n",
       "      <td>1308.513893</td>\n",
       "      <td>1320.515495</td>\n",
       "    </tr>\n",
       "    <tr>\n",
       "      <th>min</th>\n",
       "      <td>-683.790746</td>\n",
       "      <td>-699.000000</td>\n",
       "      <td>-642.572533</td>\n",
       "      <td>-176.033663</td>\n",
       "    </tr>\n",
       "    <tr>\n",
       "      <th>25%</th>\n",
       "      <td>-300.000000</td>\n",
       "      <td>-341.000000</td>\n",
       "      <td>2969.962179</td>\n",
       "      <td>-106.993587</td>\n",
       "    </tr>\n",
       "    <tr>\n",
       "      <th>50%</th>\n",
       "      <td>-300.000000</td>\n",
       "      <td>-157.000000</td>\n",
       "      <td>3801.555996</td>\n",
       "      <td>2141.871705</td>\n",
       "    </tr>\n",
       "    <tr>\n",
       "      <th>75%</th>\n",
       "      <td>-147.894269</td>\n",
       "      <td>-118.269788</td>\n",
       "      <td>4114.554665</td>\n",
       "      <td>2684.589808</td>\n",
       "    </tr>\n",
       "    <tr>\n",
       "      <th>max</th>\n",
       "      <td>-100.000000</td>\n",
       "      <td>-100.000000</td>\n",
       "      <td>4921.815940</td>\n",
       "      <td>3859.277054</td>\n",
       "    </tr>\n",
       "  </tbody>\n",
       "</table>\n",
       "</div>"
      ],
      "text/plain": [
       "       PPO before      random    PPO after     baseline\n",
       "count  500.000000  500.000000   500.000000   500.000000\n",
       "mean  -276.579881 -267.272951  3310.519252  1575.678831\n",
       "std    160.941346  189.911325  1308.513893  1320.515495\n",
       "min   -683.790746 -699.000000  -642.572533  -176.033663\n",
       "25%   -300.000000 -341.000000  2969.962179  -106.993587\n",
       "50%   -300.000000 -157.000000  3801.555996  2141.871705\n",
       "75%   -147.894269 -118.269788  4114.554665  2684.589808\n",
       "max   -100.000000 -100.000000  4921.815940  3859.277054"
      ]
     },
     "execution_count": 44,
     "metadata": {},
     "output_type": "execute_result"
    }
   ],
   "source": [
    "result_df = pd.DataFrame({\n",
    "    'PPO before': ppo_scores_before, \n",
    "    'random': random_scores,\n",
    "    'PPO after': ppo_eval_scores_after_500,\n",
    "    'baseline': dummy_scores, })\n",
    "result_df.describe()"
   ]
  },
  {
   "cell_type": "code",
   "execution_count": 45,
   "id": "a6a4bf6e-f298-4688-becb-59c55535815a",
   "metadata": {
    "pycharm": {
     "name": "#%%\n"
    }
   },
   "outputs": [],
   "source": [
    "result_df.to_csv(f\"./{results_dir}/scores.csv\", index=False)"
   ]
  },
  {
   "cell_type": "code",
   "execution_count": 46,
   "id": "d7b62a5a-427b-4a37-8dfc-76ef19b87d35",
   "metadata": {
    "pycharm": {
     "name": "#%%\n"
    }
   },
   "outputs": [
    {
     "data": {
      "text/plain": [
       "0.0"
      ]
     },
     "execution_count": 46,
     "metadata": {},
     "output_type": "execute_result"
    }
   ],
   "source": [
    "stat, pval = st.levene(*[result_df[c] for c in result_df.columns])\n",
    "pval.round(4)"
   ]
  },
  {
   "cell_type": "code",
   "execution_count": 47,
   "id": "9ada66b3-90e9-49ac-b4ee-ca93a1aeb63b",
   "metadata": {
    "pycharm": {
     "name": "#%%\n"
    }
   },
   "outputs": [
    {
     "data": {
      "text/html": [
       "<div>\n",
       "<style scoped>\n",
       "    .dataframe tbody tr th:only-of-type {\n",
       "        vertical-align: middle;\n",
       "    }\n",
       "\n",
       "    .dataframe tbody tr th {\n",
       "        vertical-align: top;\n",
       "    }\n",
       "\n",
       "    .dataframe thead th {\n",
       "        text-align: right;\n",
       "    }\n",
       "</style>\n",
       "<table border=\"1\" class=\"dataframe\">\n",
       "  <thead>\n",
       "    <tr style=\"text-align: right;\">\n",
       "      <th></th>\n",
       "      <th>Source</th>\n",
       "      <th>ddof1</th>\n",
       "      <th>ddof2</th>\n",
       "      <th>F</th>\n",
       "      <th>p-unc</th>\n",
       "      <th>np2</th>\n",
       "    </tr>\n",
       "  </thead>\n",
       "  <tbody>\n",
       "    <tr>\n",
       "      <th>0</th>\n",
       "      <td>model</td>\n",
       "      <td>3</td>\n",
       "      <td>999.544207</td>\n",
       "      <td>1549.949533</td>\n",
       "      <td>0.0</td>\n",
       "      <td>0.716569</td>\n",
       "    </tr>\n",
       "  </tbody>\n",
       "</table>\n",
       "</div>"
      ],
      "text/plain": [
       "  Source  ddof1       ddof2            F  p-unc       np2\n",
       "0  model      3  999.544207  1549.949533    0.0  0.716569"
      ]
     },
     "execution_count": 47,
     "metadata": {},
     "output_type": "execute_result"
    }
   ],
   "source": [
    "melted_df = result_df.melt(var_name='model')\n",
    "result = pg.welch_anova(melted_df, dv='value', between='model')\n",
    "result"
   ]
  },
  {
   "cell_type": "code",
   "execution_count": 48,
   "id": "919beef0-6467-4784-b95f-67d47bca826b",
   "metadata": {
    "pycharm": {
     "name": "#%%\n"
    }
   },
   "outputs": [
    {
     "data": {
      "text/html": [
       "<div>\n",
       "<style scoped>\n",
       "    .dataframe tbody tr th:only-of-type {\n",
       "        vertical-align: middle;\n",
       "    }\n",
       "\n",
       "    .dataframe tbody tr th {\n",
       "        vertical-align: top;\n",
       "    }\n",
       "\n",
       "    .dataframe thead th {\n",
       "        text-align: right;\n",
       "    }\n",
       "</style>\n",
       "<table border=\"1\" class=\"dataframe\">\n",
       "  <thead>\n",
       "    <tr style=\"text-align: right;\">\n",
       "      <th></th>\n",
       "      <th>A</th>\n",
       "      <th>B</th>\n",
       "      <th>mean(A)</th>\n",
       "      <th>mean(B)</th>\n",
       "      <th>diff</th>\n",
       "      <th>se</th>\n",
       "      <th>T</th>\n",
       "      <th>df</th>\n",
       "      <th>pval</th>\n",
       "      <th>cohen</th>\n",
       "    </tr>\n",
       "  </thead>\n",
       "  <tbody>\n",
       "    <tr>\n",
       "      <th>0</th>\n",
       "      <td>PPO after</td>\n",
       "      <td>PPO before</td>\n",
       "      <td>3310.519252</td>\n",
       "      <td>-276.579881</td>\n",
       "      <td>3587.099133</td>\n",
       "      <td>58.959490</td>\n",
       "      <td>60.840064</td>\n",
       "      <td>514.094188</td>\n",
       "      <td>0.001000</td>\n",
       "      <td>3.847863</td>\n",
       "    </tr>\n",
       "    <tr>\n",
       "      <th>1</th>\n",
       "      <td>PPO after</td>\n",
       "      <td>baseline</td>\n",
       "      <td>3310.519252</td>\n",
       "      <td>1575.678831</td>\n",
       "      <td>1734.840421</td>\n",
       "      <td>83.138075</td>\n",
       "      <td>20.866978</td>\n",
       "      <td>997.916819</td>\n",
       "      <td>0.001000</td>\n",
       "      <td>1.319744</td>\n",
       "    </tr>\n",
       "    <tr>\n",
       "      <th>2</th>\n",
       "      <td>PPO after</td>\n",
       "      <td>random</td>\n",
       "      <td>3310.519252</td>\n",
       "      <td>-267.272951</td>\n",
       "      <td>3577.792202</td>\n",
       "      <td>59.131631</td>\n",
       "      <td>60.505555</td>\n",
       "      <td>520.012752</td>\n",
       "      <td>0.001000</td>\n",
       "      <td>3.826707</td>\n",
       "    </tr>\n",
       "    <tr>\n",
       "      <th>3</th>\n",
       "      <td>PPO before</td>\n",
       "      <td>baseline</td>\n",
       "      <td>-276.579881</td>\n",
       "      <td>1575.678831</td>\n",
       "      <td>-1852.258712</td>\n",
       "      <td>59.492240</td>\n",
       "      <td>-31.134459</td>\n",
       "      <td>513.821187</td>\n",
       "      <td>0.001000</td>\n",
       "      <td>-1.969116</td>\n",
       "    </tr>\n",
       "    <tr>\n",
       "      <th>4</th>\n",
       "      <td>PPO before</td>\n",
       "      <td>random</td>\n",
       "      <td>-276.579881</td>\n",
       "      <td>-267.272951</td>\n",
       "      <td>-9.306931</td>\n",
       "      <td>11.132693</td>\n",
       "      <td>-0.836000</td>\n",
       "      <td>971.853956</td>\n",
       "      <td>0.815994</td>\n",
       "      <td>-0.052873</td>\n",
       "    </tr>\n",
       "    <tr>\n",
       "      <th>5</th>\n",
       "      <td>baseline</td>\n",
       "      <td>random</td>\n",
       "      <td>1575.678831</td>\n",
       "      <td>-267.272951</td>\n",
       "      <td>1842.951781</td>\n",
       "      <td>59.662844</td>\n",
       "      <td>30.889439</td>\n",
       "      <td>519.632864</td>\n",
       "      <td>0.001000</td>\n",
       "      <td>1.953620</td>\n",
       "    </tr>\n",
       "  </tbody>\n",
       "</table>\n",
       "</div>"
      ],
      "text/plain": [
       "            A           B      mean(A)      mean(B)         diff         se  \\\n",
       "0   PPO after  PPO before  3310.519252  -276.579881  3587.099133  58.959490   \n",
       "1   PPO after    baseline  3310.519252  1575.678831  1734.840421  83.138075   \n",
       "2   PPO after      random  3310.519252  -267.272951  3577.792202  59.131631   \n",
       "3  PPO before    baseline  -276.579881  1575.678831 -1852.258712  59.492240   \n",
       "4  PPO before      random  -276.579881  -267.272951    -9.306931  11.132693   \n",
       "5    baseline      random  1575.678831  -267.272951  1842.951781  59.662844   \n",
       "\n",
       "           T          df      pval     cohen  \n",
       "0  60.840064  514.094188  0.001000  3.847863  \n",
       "1  20.866978  997.916819  0.001000  1.319744  \n",
       "2  60.505555  520.012752  0.001000  3.826707  \n",
       "3 -31.134459  513.821187  0.001000 -1.969116  \n",
       "4  -0.836000  971.853956  0.815994 -0.052873  \n",
       "5  30.889439  519.632864  0.001000  1.953620  "
      ]
     },
     "execution_count": 48,
     "metadata": {},
     "output_type": "execute_result"
    }
   ],
   "source": [
    "pg.pairwise_gameshowell(melted_df, dv='value', between='model', effsize='cohen')"
   ]
  },
  {
   "cell_type": "code",
   "execution_count": 49,
   "id": "5ff7d2dc-4f1d-4757-9409-646839abf3dd",
   "metadata": {
    "pycharm": {
     "name": "#%%\n"
    }
   },
   "outputs": [
    {
     "name": "stdout",
     "output_type": "stream",
     "text": [
      "WARNING:tensorflow:Compiled the loaded model, but the compiled metrics have yet to be built. `model.compile_metrics` will be empty until you train or evaluate the model.\n",
      "Compiled the loaded model, but the compiled metrics have yet to be built. `model.compile_metrics` will be empty until you train or evaluate the model.\n",
      "INFO:tensorflow:Assets written to: ram://929843d0-6427-4c0b-8373-5236efd7c2b6/assets\n",
      "Assets written to: ram://929843d0-6427-4c0b-8373-5236efd7c2b6/assets\n",
      "INFO:tensorflow:Assets written to: ./ppo_discrete_env_results/policy_net.tf/assets\n",
      "Assets written to: ./ppo_discrete_env_results/policy_net.tf/assets\n"
     ]
    }
   ],
   "source": [
    "import pickle\n",
    "pickle.dump(value_net, open(f\"./{results_dir}/value_net.pkl\", \"wb\"))\n",
    "policy_net.save(f\"./{results_dir}/policy_net.tf\", save_format='tf')"
   ]
  },
  {
   "cell_type": "code",
   "execution_count": 50,
   "id": "d3843742-babe-41ba-9805-83f1632afb9b",
   "metadata": {
    "pycharm": {
     "name": "#%%\n"
    }
   },
   "outputs": [],
   "source": [
    "params = {}\n",
    "for k, v in agent.__dict__.items():\n",
    "    if k != 'policy_net' and k != 'value_net' and 'opt' not in k and 'clipper' not in k:\n",
    "        params[k] = v"
   ]
  },
  {
   "cell_type": "code",
   "execution_count": 51,
   "id": "fb7951f4-d377-4b08-8cf4-900c27297d63",
   "metadata": {
    "pycharm": {
     "name": "#%%\n"
    }
   },
   "outputs": [],
   "source": [
    "pickle.dump(params, open(f\"./{results_dir}/agent_data.pkl\", \"wb\"))"
   ]
  },
  {
   "cell_type": "code",
   "execution_count": 52,
   "id": "539030c3-32e0-429b-861c-59dd3680eabb",
   "metadata": {
    "pycharm": {
     "name": "#%%\n"
    }
   },
   "outputs": [
    {
     "data": {
      "application/vnd.jupyter.widget-view+json": {
       "model_id": "20fcbebae27d49169941c20c854887f6",
       "version_major": 2,
       "version_minor": 0
      },
      "text/plain": [
       "  0%|          | 0/100 [00:00<?, ?it/s]"
      ]
     },
     "metadata": {},
     "output_type": "display_data"
    }
   ],
   "source": [
    "actions = []\n",
    "for i in tqdm(range(100)):\n",
    "    done = False\n",
    "    s = env.reset()\n",
    "    while not done:\n",
    "        a, _ = agent.choose_action(s=s)\n",
    "        sprime, r, done, _  = env.step(a)\n",
    "        s = sprime\n",
    "        actions.append(int(a))"
   ]
  },
  {
   "cell_type": "code",
   "execution_count": 53,
   "id": "d2640854",
   "metadata": {
    "pycharm": {
     "name": "#%%\n"
    }
   },
   "outputs": [
    {
     "data": {
      "text/plain": [
       "2    21041\n",
       "1     5075\n",
       "0     1530\n",
       "6       80\n",
       "8        2\n",
       "5        1\n",
       "4        1\n",
       "7        1\n",
       "dtype: int64"
      ]
     },
     "execution_count": 53,
     "metadata": {},
     "output_type": "execute_result"
    }
   ],
   "source": [
    "pd.value_counts(actions)"
   ]
  },
  {
   "cell_type": "code",
   "execution_count": null,
   "id": "6a5e5d44-720f-4399-b009-3c37b5bea2f6",
   "metadata": {
    "pycharm": {
     "name": "#%%\n"
    }
   },
   "outputs": [],
   "source": []
  }
 ],
 "metadata": {
  "kernelspec": {
   "display_name": "Python 3 (ipykernel)",
   "language": "python",
   "name": "python3"
  },
  "language_info": {
   "codemirror_mode": {
    "name": "ipython",
    "version": 3
   },
   "file_extension": ".py",
   "mimetype": "text/x-python",
   "name": "python",
   "nbconvert_exporter": "python",
   "pygments_lexer": "ipython3",
   "version": "3.9.7"
  }
 },
 "nbformat": 4,
 "nbformat_minor": 5
}